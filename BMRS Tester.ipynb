{
 "cells": [
  {
   "cell_type": "markdown",
   "metadata": {},
   "source": [
    "# Testing Each Data Stream\n",
    "\n",
    "<br>\n",
    "\n",
    "<b>Data Streams:</b>\n",
    "\n",
    "* Generation by fuel type \n",
    "* Forecast demand (*Need to add)\n",
    "* Forecast wind and solar\n",
    "* Realised wind and solar \n",
    "* Imbalance price and volume\n",
    "* Predicted demand and imbalance volumes\n",
    "* Imbalance market bids and offers \n",
    "* Accepted bids and offers \n",
    "\n",
    "\n",
    "<br>\n",
    "\n",
    "### Imports"
   ]
  },
  {
   "cell_type": "code",
   "execution_count": 1,
   "metadata": {},
   "outputs": [],
   "source": [
    "import pandas as pd\n",
    "import numpy as np\n",
    "from datetime import timedelta, datetime, date\n",
    "import time\n",
    "\n",
    "import seaborn as sns\n",
    "import matplotlib.pyplot as plt\n",
    "    \n",
    "import BMRS_caller as BMRS\n",
    "import warnings\n",
    "\n",
    "from os import listdir\n",
    "from os.path import isfile, join"
   ]
  },
  {
   "cell_type": "markdown",
   "metadata": {},
   "source": [
    "<br>\n",
    "\n",
    "### Report Grabber Orchestrator"
   ]
  },
  {
   "cell_type": "code",
   "execution_count": 2,
   "metadata": {},
   "outputs": [],
   "source": [
    "## Could also add in default kwargs\n",
    "## Could combine with stream_url_dict\n",
    "\n",
    "\n",
    "reports_2_grab = {\n",
    "    'FUELHH' : {\n",
    "        'name' : 'Fuel Half-Hour',\n",
    "        'final_cols' : ['ccgt', 'oil', 'coal', 'nuclear', 'wind', 'ps', 'npshyd', 'ocgt', 'other', 'intfr', 'intirl', 'intned', 'intew', 'biomass', 'intnem'],\n",
    "    },\n",
    "      \n",
    "    'B1440' : {\n",
    "        'name' : 'Day-Ahead Generation forecasts for Wind and Solar',\n",
    "        'pre_filter_cols' : {\n",
    "            'processType' : ['Day Ahead', 'Day ahead'],         \n",
    "        },\n",
    "        'long_2_wide' : {\n",
    "            'index' : 'local_datetime',\n",
    "            'column' : 'powerSystemResourceType',\n",
    "            'values' : 'quantity'\n",
    "        },\n",
    "    },\n",
    "    \n",
    "            \n",
    "    'B1630' : {\n",
    "        'name' : 'Actual Or Estimated Wind and Solar Power Generation',\n",
    "        'long_2_wide' : {\n",
    "            'index' : 'local_datetime',\n",
    "            'column' : 'powerSystemResourceType',\n",
    "            'values' : 'quantity'\n",
    "        },\n",
    "    },\n",
    "    \n",
    "    'B1770' : {\n",
    "        'name' : 'Imbalance Prices',\n",
    "        'long_2_wide' : {\n",
    "            'index' : 'local_datetime',\n",
    "            'column' : 'priceCategory',\n",
    "            'values' : 'imbalancePriceAmountGBP'\n",
    "        },\n",
    "    },\n",
    "    \n",
    "    'B1780' : {\n",
    "        'name' : 'Aggregated Imbalance Volumes',\n",
    "        'final_cols' : ['imbalanceQuantityMAW'],\n",
    "        \n",
    "    },\n",
    "    \n",
    "    'MELIMBALNGC' : {\n",
    "        'name' : 'Forecast Day and Day Ahead Margin and Imbalance',\n",
    "        'final_cols' : ['nationalBoundaryIdentifier', 'margin', 'imbalanceValue'],\n",
    "        'extra_kwargs' : {\n",
    "            'zone' : '*',\n",
    "        },\n",
    "    },\n",
    "    \n",
    "    \n",
    "}"
   ]
  },
  {
   "cell_type": "code",
   "execution_count": 9,
   "metadata": {},
   "outputs": [],
   "source": [
    "def clean_df(df, report_dict):\n",
    "    ## Pre-filter\n",
    "    if 'pre_filter_cols' in report_dict.keys():\n",
    "        for col, vals_keep in report_dict['pre_filter_cols'].items():\n",
    "            df = df[df[col].isin(vals_keep)].reset_index(drop=True)\n",
    "    \n",
    "    ## Reformatting Dataframe\n",
    "    if 'long_2_wide' in report_dict.keys():\n",
    "        long_2_wide_dict = report_dict['long_2_wide']\n",
    "        \n",
    "        ## Removing duplicates\n",
    "        pivot_cols = list(set(report_dict['long_2_wide'].values()) - set([long_2_wide_dict['values']]))\n",
    "        s_bool_duplicate = df[pivot_cols].duplicated()\n",
    "        \n",
    "        if s_bool_duplicate.sum() > 0:\n",
    "            duplicate_dates = df[s_bool_duplicate]['local_datetime'].unique()\n",
    "            df = df[~s_bool_duplicate]\n",
    "            warnings.warn(f'Duplicates were found for {duplicate_dates}')\n",
    "        \n",
    "        df = df.pivot(long_2_wide_dict['index'], long_2_wide_dict['column'], long_2_wide_dict['values'])\n",
    "    else:\n",
    "        df = df.set_index('local_datetime')\n",
    "\n",
    "    ## Filtering columns\n",
    "    if 'final_cols' in report_dict.keys(): \n",
    "        df = df[report_dict['final_cols']]\n",
    "\n",
    "    return df"
   ]
  },
  {
   "cell_type": "code",
   "execution_count": 5,
   "metadata": {},
   "outputs": [],
   "source": [
    "def orchestrator(reports_2_grab, API_key, start_date, end_date):\n",
    "    collected_files = listdir('data')\n",
    "    #report_dfs = dict()\n",
    "    \n",
    "    for report in reports_2_grab.keys():\n",
    "        if f'{report}_{start_date.year}.csv' not in collected_files:\n",
    "            start = time.time()\n",
    "            report_dict = reports_2_grab[report]\n",
    "\n",
    "            ## Initialise caller for the data stream\n",
    "            Caller = BMRS.Caller(API_key, report)\n",
    "\n",
    "            ## Grab the report and parse into a dataframe\n",
    "            if 'extra_kwargs' in report_dict.keys():\n",
    "                df_raw = Caller.call(start_date=start_date, end_date=end_date, **report_dict['extra_kwargs'])\n",
    "            else:\n",
    "                df_raw = Caller.call(start_date=start_date, end_date=end_date)\n",
    "\n",
    "            ## Clean the dataframe\n",
    "            df_clean = clean_df(df_raw, reports_2_grab[report])\n",
    "            df_clean.to_csv(f'data/{report}_{start_date.year}.csv')\n",
    "\n",
    "            ## Calculating elapsed time\n",
    "            end = time.time()\n",
    "            elapsed_sec = end - start\n",
    "\n",
    "            mins = int(elapsed_sec/60)\n",
    "            secs = int(elapsed_sec - 60*mins)\n",
    "\n",
    "            ## Summary print\n",
    "            print(f'{report} complete for {start_date.year}, time: {mins} minutes and {secs} seconds')\n",
    "        else: \n",
    "            print(f'{report} already complete for {start_date.year}')\n",
    "        \n",
    "    return #report_dfs"
   ]
  },
  {
   "cell_type": "markdown",
   "metadata": {},
   "source": [
    "<br>\n",
    "\n",
    "### Test Call"
   ]
  },
  {
   "cell_type": "code",
   "execution_count": 6,
   "metadata": {},
   "outputs": [
    {
     "name": "stderr",
     "output_type": "stream",
     "text": [
      "C:\\Users\\ABour\\Desktop\\Energy Systems & Data Analytics\\Dissertation\\Analysis\\custom_modules\\BMRS_caller.py:196: UserWarning: API Call failed at SP: 32, Date: 2018-11-15, for the stream: B1630\n",
      "  warnings.warn(f'API Call failed at SP: {SP}, Date: {date}, for the stream: {self.stream}')\n",
      "C:\\Users\\ABour\\Desktop\\Energy Systems & Data Analytics\\Dissertation\\Analysis\\custom_modules\\BMRS_caller.py:203: UserWarning: There are missing dates\n",
      "  warnings.warn('There are missing dates')\n",
      "C:\\Users\\ABour\\Anaconda3\\lib\\site-packages\\ipykernel_launcher.py:17: UserWarning: Boolean Series key will be reindexed to match DataFrame index.\n",
      "C:\\Users\\ABour\\Anaconda3\\lib\\site-packages\\ipykernel_launcher.py:18: UserWarning: Duplicates were found for []\n"
     ]
    },
    {
     "data": {
      "text/html": [
       "<div>\n",
       "<style scoped>\n",
       "    .dataframe tbody tr th:only-of-type {\n",
       "        vertical-align: middle;\n",
       "    }\n",
       "\n",
       "    .dataframe tbody tr th {\n",
       "        vertical-align: top;\n",
       "    }\n",
       "\n",
       "    .dataframe thead th {\n",
       "        text-align: right;\n",
       "    }\n",
       "</style>\n",
       "<table border=\"1\" class=\"dataframe\">\n",
       "  <thead>\n",
       "    <tr style=\"text-align: right;\">\n",
       "      <th>powerSystemResourceType</th>\n",
       "      <th>\"Solar\"</th>\n",
       "      <th>\"Wind Offshore\"</th>\n",
       "      <th>\"Wind Onshore\"</th>\n",
       "    </tr>\n",
       "    <tr>\n",
       "      <th>local_datetime</th>\n",
       "      <th></th>\n",
       "      <th></th>\n",
       "      <th></th>\n",
       "    </tr>\n",
       "  </thead>\n",
       "  <tbody>\n",
       "    <tr>\n",
       "      <th>2018-11-01 00:00:00+00:00</th>\n",
       "      <td>0</td>\n",
       "      <td>2333.279</td>\n",
       "      <td>1452.511</td>\n",
       "    </tr>\n",
       "    <tr>\n",
       "      <th>2018-11-01 00:30:00+00:00</th>\n",
       "      <td>0</td>\n",
       "      <td>1844.153</td>\n",
       "      <td>1449.257</td>\n",
       "    </tr>\n",
       "    <tr>\n",
       "      <th>2018-11-01 01:00:00+00:00</th>\n",
       "      <td>0</td>\n",
       "      <td>1577.876</td>\n",
       "      <td>1351.243</td>\n",
       "    </tr>\n",
       "    <tr>\n",
       "      <th>2018-11-01 01:30:00+00:00</th>\n",
       "      <td>0</td>\n",
       "      <td>1535.398</td>\n",
       "      <td>1362.091</td>\n",
       "    </tr>\n",
       "    <tr>\n",
       "      <th>2018-11-01 02:00:00+00:00</th>\n",
       "      <td>0</td>\n",
       "      <td>1381.419</td>\n",
       "      <td>1219.353</td>\n",
       "    </tr>\n",
       "  </tbody>\n",
       "</table>\n",
       "</div>"
      ],
      "text/plain": [
       "powerSystemResourceType   \"Solar\" \"Wind Offshore\" \"Wind Onshore\"\n",
       "local_datetime                                                  \n",
       "2018-11-01 00:00:00+00:00       0        2333.279       1452.511\n",
       "2018-11-01 00:30:00+00:00       0        1844.153       1449.257\n",
       "2018-11-01 01:00:00+00:00       0        1577.876       1351.243\n",
       "2018-11-01 01:30:00+00:00       0        1535.398       1362.091\n",
       "2018-11-01 02:00:00+00:00       0        1381.419       1219.353"
      ]
     },
     "execution_count": 6,
     "metadata": {},
     "output_type": "execute_result"
    }
   ],
   "source": [
    "API_key = 'api_key'\n",
    "report = 'B1630'\n",
    "start_date = date(2018, 11, 1)\n",
    "end_date = datetime(2018, 12, 31, 23, 30)\n",
    "\n",
    "Caller = BMRS.Caller(API_key, report)\n",
    "df_raw = Caller.call(start_date=start_date, end_date=end_date)#, **reports_2_grab[report]['extra_kwargs'])\n",
    "df_clean = clean_df(df_raw, reports_2_grab[report])\n",
    "\n",
    "df_clean.head()"
   ]
  },
  {
   "cell_type": "code",
   "execution_count": 7,
   "metadata": {},
   "outputs": [
    {
     "data": {
      "text/html": [
       "<div>\n",
       "<style scoped>\n",
       "    .dataframe tbody tr th:only-of-type {\n",
       "        vertical-align: middle;\n",
       "    }\n",
       "\n",
       "    .dataframe tbody tr th {\n",
       "        vertical-align: top;\n",
       "    }\n",
       "\n",
       "    .dataframe thead th {\n",
       "        text-align: right;\n",
       "    }\n",
       "</style>\n",
       "<table border=\"1\" class=\"dataframe\">\n",
       "  <thead>\n",
       "    <tr style=\"text-align: right;\">\n",
       "      <th>powerSystemResourceType</th>\n",
       "      <th>\"Solar\"</th>\n",
       "      <th>\"Wind Offshore\"</th>\n",
       "      <th>\"Wind Onshore\"</th>\n",
       "    </tr>\n",
       "    <tr>\n",
       "      <th>local_datetime</th>\n",
       "      <th></th>\n",
       "      <th></th>\n",
       "      <th></th>\n",
       "    </tr>\n",
       "  </thead>\n",
       "  <tbody>\n",
       "    <tr>\n",
       "      <th>2018-12-31 21:30:00+00:00</th>\n",
       "      <td>0</td>\n",
       "      <td>2952.542</td>\n",
       "      <td>6360.033</td>\n",
       "    </tr>\n",
       "    <tr>\n",
       "      <th>2018-12-31 22:00:00+00:00</th>\n",
       "      <td>0</td>\n",
       "      <td>3032.464</td>\n",
       "      <td>6466.579</td>\n",
       "    </tr>\n",
       "    <tr>\n",
       "      <th>2018-12-31 22:30:00+00:00</th>\n",
       "      <td>0</td>\n",
       "      <td>3008.399</td>\n",
       "      <td>6214.767</td>\n",
       "    </tr>\n",
       "    <tr>\n",
       "      <th>2018-12-31 23:00:00+00:00</th>\n",
       "      <td>0</td>\n",
       "      <td>3085.224</td>\n",
       "      <td>6268.369</td>\n",
       "    </tr>\n",
       "    <tr>\n",
       "      <th>2018-12-31 23:30:00+00:00</th>\n",
       "      <td>0</td>\n",
       "      <td>3177.29</td>\n",
       "      <td>6196.479</td>\n",
       "    </tr>\n",
       "  </tbody>\n",
       "</table>\n",
       "</div>"
      ],
      "text/plain": [
       "powerSystemResourceType   \"Solar\" \"Wind Offshore\" \"Wind Onshore\"\n",
       "local_datetime                                                  \n",
       "2018-12-31 21:30:00+00:00       0        2952.542       6360.033\n",
       "2018-12-31 22:00:00+00:00       0        3032.464       6466.579\n",
       "2018-12-31 22:30:00+00:00       0        3008.399       6214.767\n",
       "2018-12-31 23:00:00+00:00       0        3085.224       6268.369\n",
       "2018-12-31 23:30:00+00:00       0         3177.29       6196.479"
      ]
     },
     "execution_count": 7,
     "metadata": {},
     "output_type": "execute_result"
    }
   ],
   "source": [
    "df_clean.tail()"
   ]
  },
  {
   "cell_type": "markdown",
   "metadata": {},
   "source": [
    "<br>\n",
    "\n",
    "### Orchestration Call Test"
   ]
  },
  {
   "cell_type": "code",
   "execution_count": 12,
   "metadata": {},
   "outputs": [
    {
     "name": "stdout",
     "output_type": "stream",
     "text": [
      "FUELHH already complete for 2018\n",
      "B1440 already complete for 2018\n",
      "B1630 already complete for 2018\n",
      "B1770 complete for 2018, time: 56 minutes and 7 seconds\n"
     ]
    },
    {
     "name": "stderr",
     "output_type": "stream",
     "text": [
      "C:\\Users\\ABour\\Anaconda3\\lib\\site-packages\\pandas\\core\\frame.py:6201: FutureWarning: Sorting because non-concatenation axis is not aligned. A future version\n",
      "of pandas will change to not sort by default.\n",
      "\n",
      "To accept the future behavior, pass 'sort=True'.\n",
      "\n",
      "To retain the current behavior and silence the warning, pass sort=False\n",
      "\n",
      "  sort=sort)\n"
     ]
    },
    {
     "name": "stdout",
     "output_type": "stream",
     "text": [
      "B1780 complete for 2018, time: 61 minutes and 51 seconds\n",
      "MELIMBALNGC complete for 2018, time: 5 minutes and 17 seconds\n"
     ]
    }
   ],
   "source": [
    "API_key = 'api_key'\n",
    "\n",
    "for year in range(2018, 2019):\n",
    "    start_date = date(year, 1, 1)\n",
    "    end_date = datetime(year, 12, 31, 23, 30)\n",
    "\n",
    "    orchestrator(reports_2_grab, API_key, start_date, end_date)"
   ]
  },
  {
   "cell_type": "code",
   "execution_count": null,
   "metadata": {},
   "outputs": [],
   "source": [
    "## Should test auto reindexing and having NaNs"
   ]
  },
  {
   "cell_type": "code",
   "execution_count": null,
   "metadata": {},
   "outputs": [],
   "source": []
  }
 ],
 "metadata": {
  "kernelspec": {
   "display_name": "Python 3",
   "language": "python",
   "name": "python3"
  },
  "language_info": {
   "codemirror_mode": {
    "name": "ipython",
    "version": 3
   },
   "file_extension": ".py",
   "mimetype": "text/x-python",
   "name": "python",
   "nbconvert_exporter": "python",
   "pygments_lexer": "ipython3",
   "version": "3.6.5"
  }
 },
 "nbformat": 4,
 "nbformat_minor": 2
}
