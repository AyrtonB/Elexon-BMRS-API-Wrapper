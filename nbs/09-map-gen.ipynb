{
 "cells": [
  {
   "cell_type": "code",
   "execution_count": 1,
   "id": "fa2f7d7a-f1a5-4614-8ff7-caf1eace5327",
   "metadata": {},
   "outputs": [],
   "source": [
    "#hide\n",
    "#default_exp dev.mapgen"
   ]
  },
  {
   "cell_type": "markdown",
   "id": "0eeb54ff-03cd-428c-a160-2ea0e714d58a",
   "metadata": {},
   "source": [
    "# Map Generation"
   ]
  },
  {
   "cell_type": "markdown",
   "id": "3e254fb1-17fe-4aeb-b67d-9b34a147b72a",
   "metadata": {},
   "source": [
    "<br>\n",
    "\n",
    "### Imports"
   ]
  },
  {
   "cell_type": "code",
   "execution_count": 2,
   "id": "c7fab7c9-8dda-49fa-98e2-d7d3651414ce",
   "metadata": {},
   "outputs": [],
   "source": [
    "#exports\n",
    "import json\n",
    "import numpy as np\n",
    "import pandas as pd\n",
    "import geopandas as gpd\n",
    "\n",
    "import os\n",
    "import typer\n",
    "from tqdm import tqdm\n",
    "from jinja2 import Template\n",
    "\n",
    "from ElexonDataPortal.dev import utils, raw"
   ]
  },
  {
   "cell_type": "markdown",
   "id": "05257e4f-aa6e-4a57-a888-12a3ec5f1bd5",
   "metadata": {},
   "source": [
    "<br>\n",
    "\n",
    "### Power Plant Output Data Retrieval"
   ]
  },
  {
   "cell_type": "code",
   "execution_count": 3,
   "id": "97019730-392d-4d9e-99c3-b632893d58b9",
   "metadata": {},
   "outputs": [],
   "source": [
    "#hide\n",
    "# loads the api_key into an environment variable - delete this cell if passing as string\n",
    "from dotenv import load_dotenv\n",
    "\n",
    "assert load_dotenv('../.env'), 'Environment variables could not be loaded'\n",
    "api_key = os.environ['BMRS_API_KEY']"
   ]
  },
  {
   "cell_type": "code",
   "execution_count": null,
   "id": "9ee7a880-7e2d-48f9-9d79-8a6427a265ec",
   "metadata": {},
   "outputs": [],
   "source": []
  },
  {
   "cell_type": "code",
   "execution_count": 4,
   "id": "77eceb30-57b4-4030-9644-00c49ba8ef7b",
   "metadata": {
    "tags": []
   },
   "outputs": [],
   "source": [
    "#exports\n",
    "def construct_df_PN_pivot_dt_rng(df_PN):\n",
    "    no_seconds = (((df_PN['timeFrom'].str.split(':').str[-1]=='00').mean()==1) & \n",
    "                  ((df_PN['timeTo'].str.split(':').str[-1]=='00').mean()==1))\n",
    "\n",
    "    if no_seconds == True:\n",
    "        dt_rng = pd.date_range(df_PN['timeFrom'].min(), df_PN['timeTo'].max(), freq='min')\n",
    "    else:\n",
    "        dt_rng = pd.date_range(df_PN['timeFrom'].min(), df_PN['timeTo'].max(), freq='s')\n",
    "\n",
    "    return dt_rng\n",
    "\n",
    "def construct_PN_pivot_df(df_PN):\n",
    "    bmu_ids = sorted(list(df_PN['bmUnitID'].unique()))\n",
    "    df_PN_pivot = pd.DataFrame(index=construct_df_PN_pivot_dt_rng(df_PN), columns=bmu_ids, dtype=float)\n",
    "\n",
    "    for bmu_id in tqdm(bmu_ids):\n",
    "        for idx, row in df_PN.query('bmUnitID==@bmu_id').iterrows():\n",
    "            df_PN_pivot.loc[pd.to_datetime(row['timeFrom']), bmu_id] = float(row['pnLevelFrom'])\n",
    "            df_PN_pivot.loc[pd.to_datetime(row['timeTo']), bmu_id] = float(row['pnLevelTo'])\n",
    "\n",
    "        df_PN_pivot[bmu_id] = df_PN_pivot[bmu_id].interpolate()\n",
    "        \n",
    "    return df_PN_pivot\n",
    "\n",
    "def get_latest_PN_df(api_key):\n",
    "    start_date = pd.Timestamp.now().round('30min') - pd.Timedelta(hours=1)\n",
    "    end_date = pd.Timestamp.now().round('30min') + pd.Timedelta(hours=1)\n",
    "\n",
    "    df = pd.DataFrame()\n",
    "\n",
    "    for idx, (date, SP) in tqdm(utils.dt_rng_to_SPs(start_date, end_date).iterrows()):\n",
    "        df_SP = utils.parse_xml_response(raw.get_PHYBMDATA(api_key, SettlementDate=date, SettlementPeriod=SP, ServiceType='xml'))\n",
    "        df = df.append(df_SP)\n",
    "        \n",
    "    df = (df\n",
    "          .query('recordType==\"PN\"')\n",
    "          .dropna(how='all', axis=1)\n",
    "          .pipe(construct_PN_pivot_df)\n",
    "         )\n",
    "\n",
    "    return df"
   ]
  },
  {
   "cell_type": "code",
   "execution_count": 5,
   "id": "e1a4d2d8-af5a-4e46-8cc5-e8892be394fa",
   "metadata": {
    "tags": []
   },
   "outputs": [
    {
     "name": "stderr",
     "output_type": "stream",
     "text": [
      "5it [01:57, 23.47s/it]\n",
      "100%|█████████████████████████████████████████████████████████████████████████████| 1364/1364 [00:06<00:00, 219.58it/s]\n"
     ]
    },
    {
     "data": {
      "text/plain": [
       "(Timestamp('2021-06-16 11:30:00', freq='T'),\n",
       " Timestamp('2021-06-16 13:30:00', freq='T'))"
      ]
     },
     "execution_count": 5,
     "metadata": {},
     "output_type": "execute_result"
    }
   ],
   "source": [
    "df_PN = get_latest_PN_df(api_key)\n",
    "\n",
    "df_PN.index.min(), df_PN.index.max()"
   ]
  },
  {
   "cell_type": "code",
   "execution_count": null,
   "id": "2fd21de5-a0a0-4cac-97ad-9cb9cbeff61c",
   "metadata": {},
   "outputs": [],
   "source": []
  },
  {
   "cell_type": "code",
   "execution_count": 6,
   "id": "1044c8f9-e7e1-461b-9113-d7fca9efb205",
   "metadata": {},
   "outputs": [
    {
     "data": {
      "text/plain": [
       "2__ABGAS000   -218.0\n",
       "2__AEELC000   -135.0\n",
       "2__AEMEB000   -148.0\n",
       "2__AENRD000   -195.0\n",
       "2__AEOND000   -103.0\n",
       "Name: 2021-06-16 13:30:00, dtype: float64"
      ]
     },
     "execution_count": 6,
     "metadata": {},
     "output_type": "execute_result"
    }
   ],
   "source": [
    "nearest_half_hour = (pd.Timestamp.now()+pd.Timedelta(minutes=15)).round('30min')\n",
    "most_recent_available_dt = max(df_PN.index[df_PN.index<=nearest_half_hour])\n",
    "\n",
    "s_PN = df_PN.loc[most_recent_available_dt]\n",
    "\n",
    "s_PN.replace(0, np.nan).dropna().head()"
   ]
  },
  {
   "cell_type": "markdown",
   "id": "6440304a-df07-4e4d-8a97-df4b1407549b",
   "metadata": {},
   "source": [
    "<br>\n",
    "\n",
    "### Location & Fuel Type Data Collation"
   ]
  },
  {
   "cell_type": "code",
   "execution_count": 7,
   "id": "27acd7c5-0128-4e57-813d-c265ed5c42fa",
   "metadata": {},
   "outputs": [
    {
     "data": {
      "text/html": [
       "<div>\n",
       "<style scoped>\n",
       "    .dataframe tbody tr th:only-of-type {\n",
       "        vertical-align: middle;\n",
       "    }\n",
       "\n",
       "    .dataframe tbody tr th {\n",
       "        vertical-align: top;\n",
       "    }\n",
       "\n",
       "    .dataframe thead th {\n",
       "        text-align: right;\n",
       "    }\n",
       "</style>\n",
       "<table border=\"1\" class=\"dataframe\">\n",
       "  <thead>\n",
       "    <tr style=\"text-align: right;\">\n",
       "      <th></th>\n",
       "      <th>osuked_id</th>\n",
       "      <th>esail_id</th>\n",
       "      <th>gppd_idnr</th>\n",
       "      <th>name</th>\n",
       "      <th>sett_bmu_id</th>\n",
       "      <th>longitude</th>\n",
       "      <th>latitude</th>\n",
       "      <th>fuel_type</th>\n",
       "      <th>capacity_mw</th>\n",
       "    </tr>\n",
       "  </thead>\n",
       "  <tbody>\n",
       "    <tr>\n",
       "      <th>0</th>\n",
       "      <td>10000</td>\n",
       "      <td>MARK</td>\n",
       "      <td>NaN</td>\n",
       "      <td>Rothes Bio-Plant CHP</td>\n",
       "      <td>E_MARK-1, E_MARK-2</td>\n",
       "      <td>-3.603516</td>\n",
       "      <td>57.480403</td>\n",
       "      <td>biomass</td>\n",
       "      <td>NaN</td>\n",
       "    </tr>\n",
       "    <tr>\n",
       "      <th>1</th>\n",
       "      <td>10001</td>\n",
       "      <td>DIDC</td>\n",
       "      <td>NaN</td>\n",
       "      <td>Didcot A (G)</td>\n",
       "      <td>T_DIDC1, T_DIDC2, T_DIDC4, T_DIDC3</td>\n",
       "      <td>-1.267570</td>\n",
       "      <td>51.623630</td>\n",
       "      <td>coal</td>\n",
       "      <td>NaN</td>\n",
       "    </tr>\n",
       "    <tr>\n",
       "      <th>2</th>\n",
       "      <td>10002</td>\n",
       "      <td>ABTH</td>\n",
       "      <td>GBR1000374</td>\n",
       "      <td>Aberthaw B</td>\n",
       "      <td>T_ABTH7, T_ABTH8, T_ABTH9</td>\n",
       "      <td>-3.404866</td>\n",
       "      <td>51.387312</td>\n",
       "      <td>coal</td>\n",
       "      <td>1586.0</td>\n",
       "    </tr>\n",
       "  </tbody>\n",
       "</table>\n",
       "</div>"
      ],
      "text/plain": [
       "   osuked_id esail_id   gppd_idnr                  name  \\\n",
       "0      10000     MARK         NaN  Rothes Bio-Plant CHP   \n",
       "1      10001     DIDC         NaN          Didcot A (G)   \n",
       "2      10002     ABTH  GBR1000374            Aberthaw B   \n",
       "\n",
       "                          sett_bmu_id  longitude   latitude fuel_type  \\\n",
       "0                  E_MARK-1, E_MARK-2  -3.603516  57.480403   biomass   \n",
       "1  T_DIDC1, T_DIDC2, T_DIDC4, T_DIDC3  -1.267570  51.623630      coal   \n",
       "2           T_ABTH7, T_ABTH8, T_ABTH9  -3.404866  51.387312      coal   \n",
       "\n",
       "   capacity_mw  \n",
       "0          NaN  \n",
       "1          NaN  \n",
       "2       1586.0  "
      ]
     },
     "execution_count": 7,
     "metadata": {},
     "output_type": "execute_result"
    }
   ],
   "source": [
    "df_powerdict = pd.read_csv('https://raw.githubusercontent.com/OSUKED/Power-Station-Dictionary/main/data/output/power_stations.csv')\n",
    "\n",
    "df_powerdict.head(3)"
   ]
  },
  {
   "cell_type": "code",
   "execution_count": null,
   "id": "2bc57e49-a4b7-41cc-9726-e12cf282178d",
   "metadata": {},
   "outputs": [],
   "source": []
  },
  {
   "cell_type": "code",
   "execution_count": 8,
   "id": "7a84303d-5359-4b55-8438-dbeaf7b3e66d",
   "metadata": {},
   "outputs": [],
   "source": [
    "#exports\n",
    "def construct_osuked_id_mappings(df_powerdict):\n",
    "    osuked_id_mappings = dict()\n",
    "    \n",
    "    osuked_id_mappings['bmu_ids'] = (df_powerdict\n",
    "                                     .set_index('osuked_id')\n",
    "                                     ['sett_bmu_id']\n",
    "                                     .str.split(', ')\n",
    "                                     .dropna()\n",
    "                                     .to_dict()\n",
    "                                    )\n",
    "\n",
    "    osuked_id_mappings['fuel_type'] = (df_powerdict\n",
    "                                       .set_index('osuked_id')\n",
    "                                       ['fuel_type']\n",
    "                                       .dropna()\n",
    "                                       .to_dict()\n",
    "                                      )\n",
    "\n",
    "    osuked_id_mappings['name'] = (df_powerdict\n",
    "                                  .set_index('osuked_id')\n",
    "                                  ['name']\n",
    "                                  .dropna()\n",
    "                                  .to_dict()\n",
    "                                 )\n",
    "\n",
    "    osuked_id_mappings['lat_lon'] = (df_powerdict\n",
    "                                     .set_index('osuked_id')\n",
    "                                     [['latitude', 'longitude']]\n",
    "                                     .dropna()\n",
    "                                     .apply(dict, axis=1)\n",
    "                                     .to_dict()\n",
    "                                    )\n",
    "\n",
    "    return osuked_id_mappings"
   ]
  },
  {
   "cell_type": "code",
   "execution_count": 9,
   "id": "e444f0f9-9782-4d69-96f0-e72f2e5e9866",
   "metadata": {},
   "outputs": [
    {
     "data": {
      "text/plain": [
       "{10000: ['E_MARK-1', 'E_MARK-2'],\n",
       " 10001: ['T_DIDC1', 'T_DIDC2', 'T_DIDC4', 'T_DIDC3'],\n",
       " 10002: ['T_ABTH7', 'T_ABTH8', 'T_ABTH9'],\n",
       " 10003: ['T_COTPS-1', 'T_COTPS-2', 'T_COTPS-3', 'T_COTPS-4'],\n",
       " 10004: ['T_DRAXX-1',\n",
       "  'T_DRAXX-2',\n",
       "  'T_DRAXX-3',\n",
       "  'T_DRAXX-4',\n",
       "  'T_DRAXX-5',\n",
       "  'T_DRAXX-6']}"
      ]
     },
     "execution_count": 9,
     "metadata": {},
     "output_type": "execute_result"
    }
   ],
   "source": [
    "osuked_id_mappings = construct_osuked_id_mappings(df_powerdict)\n",
    "osuked_id_to_bmu_ids, osuked_id_to_fuel_type, osuked_id_to_name, osuked_id_to_lat_lon = osuked_id_mappings.values()\n",
    "\n",
    "pd.Series(osuked_id_to_bmu_ids).head().to_dict()"
   ]
  },
  {
   "cell_type": "code",
   "execution_count": null,
   "id": "9d6e2c5a-c5f6-4a31-a621-dcf9bb5333f6",
   "metadata": {},
   "outputs": [],
   "source": []
  },
  {
   "cell_type": "code",
   "execution_count": 10,
   "id": "3f71e837-3a92-4df7-abf1-4bfd7d03c0c0",
   "metadata": {},
   "outputs": [],
   "source": [
    "flatten_list = lambda list_: [item for sublist in list_ for item in sublist]\n",
    "\n",
    "bmu_ids_with_metadata = sorted(list(set(flatten_list(osuked_id_to_bmu_ids.values()))))\n",
    "bmu_ids_with_metadata_and_output = df_PN.columns.intersection(bmu_ids_with_metadata)\n",
    "bmu_ids_without_metadata = sorted(list(set(df_PN.columns) -set(bmu_ids_with_metadata)))\n",
    "\n",
    "pct_site_coverage = len(bmu_ids_with_metadata_and_output)/df_PN.columns.size\n",
    "pct_output_coverage = df_PN.sum()[bmu_ids_with_metadata_and_output].sum()/df_PN.sum().sum()\n",
    "\n",
    "# print(f\"{pct_site_coverage:.0%} of the sites have coverage, making up {pct_output_coverage:.0%} of the total power output. The following are missing:\\n{', '.join(bmu_ids_without_metadata)}\")"
   ]
  },
  {
   "cell_type": "code",
   "execution_count": null,
   "id": "615a52b7-faf7-47be-9b4b-c80bca0c3b69",
   "metadata": {
    "tags": []
   },
   "outputs": [],
   "source": []
  },
  {
   "cell_type": "code",
   "execution_count": 11,
   "id": "ecd841a2-c8d9-4b88-9551-0556978006b4",
   "metadata": {},
   "outputs": [],
   "source": [
    "#exports\n",
    "def construct_map_df(\n",
    "    s_PN, \n",
    "    most_recent_available_dt,\n",
    "    osuked_id_to_bmu_ids, \n",
    "    osuked_id_to_lat_lon, \n",
    "    osuked_id_to_fuel_type, \n",
    "    osuked_id_to_name\n",
    "):\n",
    "    sites_data = list()\n",
    "\n",
    "    for osuked_id, bmu_ids in osuked_id_to_bmu_ids.items():\n",
    "        lat_lon_match = osuked_id in osuked_id_to_lat_lon.keys()\n",
    "\n",
    "        matching_output_bmu_ids = s_PN.index.intersection(bmu_ids)\n",
    "        output_match = matching_output_bmu_ids.size > 0\n",
    "\n",
    "        if lat_lon_match and output_match:\n",
    "            site_data = osuked_id_to_lat_lon[osuked_id]\n",
    "            site_data.update({'osuked_id': osuked_id})\n",
    "            site_data.update({'name': osuked_id_to_name[osuked_id]})\n",
    "            site_data.update({'fuel_type': osuked_id_to_fuel_type[osuked_id]})\n",
    "            site_data.update({'output': s_PN[matching_output_bmu_ids].sum()})\n",
    "            site_data.update({'output_time': most_recent_available_dt.strftime('%Y-%m-%d %H:%M')})\n",
    "\n",
    "            sites_data += [site_data]\n",
    "\n",
    "    df_map = pd.DataFrame(sites_data).set_index('osuked_id').query('output>0')\n",
    "    \n",
    "    return df_map"
   ]
  },
  {
   "cell_type": "code",
   "execution_count": 12,
   "id": "ff299ae4-d686-498c-bcbe-16124c969491",
   "metadata": {},
   "outputs": [
    {
     "data": {
      "text/html": [
       "<div>\n",
       "<style scoped>\n",
       "    .dataframe tbody tr th:only-of-type {\n",
       "        vertical-align: middle;\n",
       "    }\n",
       "\n",
       "    .dataframe tbody tr th {\n",
       "        vertical-align: top;\n",
       "    }\n",
       "\n",
       "    .dataframe thead th {\n",
       "        text-align: right;\n",
       "    }\n",
       "</style>\n",
       "<table border=\"1\" class=\"dataframe\">\n",
       "  <thead>\n",
       "    <tr style=\"text-align: right;\">\n",
       "      <th></th>\n",
       "      <th>latitude</th>\n",
       "      <th>longitude</th>\n",
       "      <th>name</th>\n",
       "      <th>fuel_type</th>\n",
       "      <th>output</th>\n",
       "      <th>output_time</th>\n",
       "    </tr>\n",
       "    <tr>\n",
       "      <th>osuked_id</th>\n",
       "      <th></th>\n",
       "      <th></th>\n",
       "      <th></th>\n",
       "      <th></th>\n",
       "      <th></th>\n",
       "      <th></th>\n",
       "    </tr>\n",
       "  </thead>\n",
       "  <tbody>\n",
       "    <tr>\n",
       "      <th>10000</th>\n",
       "      <td>57.480403</td>\n",
       "      <td>-3.603516</td>\n",
       "      <td>Rothes Bio-Plant CHP</td>\n",
       "      <td>biomass</td>\n",
       "      <td>55.0</td>\n",
       "      <td>2021-06-16 13:30</td>\n",
       "    </tr>\n",
       "    <tr>\n",
       "      <th>10004</th>\n",
       "      <td>53.748711</td>\n",
       "      <td>-0.626221</td>\n",
       "      <td>Drax</td>\n",
       "      <td>coal, biomass</td>\n",
       "      <td>1950.0</td>\n",
       "      <td>2021-06-16 13:30</td>\n",
       "    </tr>\n",
       "    <tr>\n",
       "      <th>10010</th>\n",
       "      <td>55.204170</td>\n",
       "      <td>-1.520830</td>\n",
       "      <td>Lynemouth Generator</td>\n",
       "      <td>coal</td>\n",
       "      <td>405.0</td>\n",
       "      <td>2021-06-16 13:30</td>\n",
       "    </tr>\n",
       "  </tbody>\n",
       "</table>\n",
       "</div>"
      ],
      "text/plain": [
       "            latitude  longitude                  name      fuel_type  output  \\\n",
       "osuked_id                                                                      \n",
       "10000      57.480403  -3.603516  Rothes Bio-Plant CHP        biomass    55.0   \n",
       "10004      53.748711  -0.626221                  Drax  coal, biomass  1950.0   \n",
       "10010      55.204170  -1.520830   Lynemouth Generator           coal   405.0   \n",
       "\n",
       "                output_time  \n",
       "osuked_id                    \n",
       "10000      2021-06-16 13:30  \n",
       "10004      2021-06-16 13:30  \n",
       "10010      2021-06-16 13:30  "
      ]
     },
     "execution_count": 12,
     "metadata": {},
     "output_type": "execute_result"
    }
   ],
   "source": [
    "df_map = construct_map_df(s_PN, most_recent_available_dt, osuked_id_to_bmu_ids, osuked_id_to_lat_lon, osuked_id_to_fuel_type, osuked_id_to_name)\n",
    "\n",
    "df_map.head(3)"
   ]
  },
  {
   "cell_type": "code",
   "execution_count": null,
   "id": "6bf8a3cc-b416-483d-b6ce-1dd9304617ed",
   "metadata": {},
   "outputs": [],
   "source": []
  },
  {
   "cell_type": "code",
   "execution_count": 13,
   "id": "ca0d1e0f-0284-4893-878b-a12284b43148",
   "metadata": {},
   "outputs": [],
   "source": [
    "#exports\n",
    "def df_to_gdf(df, lat_col='latitude', lon_col='longitude'):\n",
    "    geometry = gpd.points_from_xy(df[lon_col], df[lat_col])\n",
    "    gdf = gpd.GeoDataFrame(df, geometry=geometry)\n",
    "    \n",
    "    return gdf"
   ]
  },
  {
   "cell_type": "code",
   "execution_count": 14,
   "id": "5d67ac4c-b72a-462d-bbda-1337bb56c369",
   "metadata": {},
   "outputs": [
    {
     "data": {
      "text/plain": [
       "<AxesSubplot:>"
      ]
     },
     "execution_count": 14,
     "metadata": {},
     "output_type": "execute_result"
    },
    {
     "data": {
      "image/png": "[encoded data removed]",
      "text/plain": [
       "<Figure size 432x288 with 1 Axes>"
      ]
     },
     "metadata": {
      "needs_background": "light"
     },
     "output_type": "display_data"
    }
   ],
   "source": [
    "gdf_map = df_to_gdf(df_map)\n",
    "\n",
    "gdf_map.plot(markersize='output', column='fuel_type', alpha=0.5, legend=True)"
   ]
  },
  {
   "cell_type": "code",
   "execution_count": null,
   "id": "8d377890-bfa1-4fac-baa1-fe73d3938e6c",
   "metadata": {},
   "outputs": [],
   "source": []
  },
  {
   "cell_type": "code",
   "execution_count": 15,
   "id": "f3e6118f-d30d-428f-af36-94ab4d57207e",
   "metadata": {},
   "outputs": [],
   "source": [
    "#exports\n",
    "def generate_map_js(gdf, js_template_fp='templates/map.js', js_docs_fp='docs/js/map.js'):\n",
    "    geojson = json.loads(gdf.to_json())\n",
    "\n",
    "    rendered_map_js = Template(open(js_template_fp).read()).render(\n",
    "        zoom=5,\n",
    "        center=[53.96, -3.22],\n",
    "        geojson_features=str(geojson).replace('None', 'null')\n",
    "    )\n",
    "\n",
    "    with open(js_docs_fp, 'w', encoding='utf8') as fp:\n",
    "        fp.write(rendered_map_js)\n",
    "        \n",
    "    return"
   ]
  },
  {
   "cell_type": "code",
   "execution_count": 16,
   "id": "700598e6-ed8b-43ab-bcd1-f756aad002fb",
   "metadata": {},
   "outputs": [],
   "source": [
    "generate_map_js(gdf_map, js_template_fp='../templates/map.js', js_docs_fp='../docs/js/map.js')"
   ]
  },
  {
   "cell_type": "code",
   "execution_count": null,
   "id": "3183f1f4-755e-41f0-a0fa-ff28103c82e9",
   "metadata": {},
   "outputs": [],
   "source": []
  },
  {
   "cell_type": "code",
   "execution_count": 17,
   "id": "364d3a02-e60e-4c1a-b65c-aa6639ab9123",
   "metadata": {},
   "outputs": [],
   "source": [
    "#exports\n",
    "def generate_map_md(most_recent_available_dt, md_template_fp='templates/map.md', md_docs_fp='docs/map.md'):\n",
    "    update_date = pd.to_datetime(most_recent_available_dt).strftime('%Y-%m-%d %H:%M')\n",
    "    rendered_map_md = Template(open(md_template_fp).read()).render({'update_date': update_date})\n",
    "\n",
    "    with open(md_docs_fp, 'w', encoding='utf8') as fp:\n",
    "        fp.write(rendered_map_md)\n",
    "        \n",
    "    return"
   ]
  },
  {
   "cell_type": "code",
   "execution_count": 18,
   "id": "8d89d5da-a870-4bff-a989-b9f5df99f23b",
   "metadata": {},
   "outputs": [],
   "source": [
    "generate_map_md(most_recent_available_dt, md_template_fp='../templates/map.md', md_docs_fp='../docs/map.md')"
   ]
  },
  {
   "cell_type": "code",
   "execution_count": null,
   "id": "89300981-825e-4ec0-871e-2ad9222698b8",
   "metadata": {},
   "outputs": [],
   "source": []
  },
  {
   "cell_type": "code",
   "execution_count": 19,
   "id": "02de7fd8-b91e-4c5d-b443-8e63850b875a",
   "metadata": {},
   "outputs": [],
   "source": [
    "#exports\n",
    "app = typer.Typer()"
   ]
  },
  {
   "cell_type": "markdown",
   "id": "26523e15-5258-4b39-9299-65f363ba388c",
   "metadata": {},
   "source": [
    "<br>\n",
    "\n",
    "`python -m ElexonDataPortal.dev.mapgen`"
   ]
  },
  {
   "cell_type": "code",
   "execution_count": 20,
   "id": "7f620c88-847a-42b0-9efc-5a7eac058dba",
   "metadata": {},
   "outputs": [],
   "source": [
    "#exports\n",
    "@app.command()\n",
    "def generate_map(\n",
    "    api_key: str=None,\n",
    "    powerdict_url: str='https://raw.githubusercontent.com/OSUKED/Power-Station-Dictionary/main/data/output/power_stations.csv',\n",
    "    js_template_fp: str='templates/map.js', \n",
    "    js_docs_fp: str='docs/js/map.js', \n",
    "    md_template_fp: str='templates/map.md', \n",
    "    md_docs_fp: str='docs/map.md'\n",
    "):\n",
    "    if api_key is None:\n",
    "        assert 'BMRS_API_KEY' in os.environ.keys(), 'If the `api_key` is not specified during client initialisation then it must be set to as the environment variable `BMRS_API_KEY`'\n",
    "        api_key = os.environ['BMRS_API_KEY']\n",
    "            \n",
    "    df_PN = get_latest_PN_df(api_key)\n",
    "\n",
    "    nearest_half_hour = (pd.Timestamp.now().tz_localize('Europe/London')+pd.Timedelta(minutes=30)).round('30min')\n",
    "    most_recent_available_dt = max(df_PN.index[pd.to_datetime(df_PN.index).tz_localize('Europe/London')<=nearest_half_hour])\n",
    "    s_PN = df_PN.loc[most_recent_available_dt]\n",
    "\n",
    "    df_powerdict = pd.read_csv(powerdict_url)\n",
    "\n",
    "    osuked_id_mappings = construct_osuked_id_mappings(df_powerdict)\n",
    "    osuked_id_to_bmu_ids, osuked_id_to_fuel_type, osuked_id_to_name, osuked_id_to_lat_lon = osuked_id_mappings.values()\n",
    "\n",
    "    df_map = construct_map_df(s_PN, most_recent_available_dt, osuked_id_to_bmu_ids, osuked_id_to_lat_lon, osuked_id_to_fuel_type, osuked_id_to_name)\n",
    "    gdf_map = df_to_gdf(df_map)\n",
    "\n",
    "    generate_map_js(gdf_map, js_template_fp=js_template_fp, js_docs_fp=js_docs_fp)\n",
    "    generate_map_md(most_recent_available_dt, md_template_fp=md_template_fp, md_docs_fp=md_docs_fp)\n",
    "    \n",
    "    return "
   ]
  },
  {
   "cell_type": "code",
   "execution_count": 21,
   "id": "d32137a2-844d-4c4b-bfbc-6a95011251b7",
   "metadata": {},
   "outputs": [
    {
     "name": "stderr",
     "output_type": "stream",
     "text": [
      "5it [02:14, 26.88s/it]\n",
      "100%|█████████████████████████████████████████████████████████████████████████████| 1364/1364 [00:08<00:00, 162.50it/s]\n"
     ]
    }
   ],
   "source": [
    "generate_map(\n",
    "    api_key=api_key,\n",
    "    js_template_fp='../templates/map.js', \n",
    "    js_docs_fp='../docs/js/map.js', \n",
    "    md_template_fp='../templates/map.md', \n",
    "    md_docs_fp='../docs/map.md'\n",
    ")"
   ]
  },
  {
   "cell_type": "code",
   "execution_count": null,
   "id": "140adc2b-a40a-4eca-ad57-7b037735a874",
   "metadata": {},
   "outputs": [],
   "source": []
  },
  {
   "cell_type": "code",
   "execution_count": 22,
   "id": "7af7684d-2572-4d31-8d91-1c5e04120ff7",
   "metadata": {},
   "outputs": [],
   "source": [
    "#exports\n",
    "if __name__ == '__main__' and '__file__' in globals():\n",
    "    app()"
   ]
  },
  {
   "cell_type": "code",
   "execution_count": null,
   "id": "4eb33840-532f-489d-83f6-1c7bedc6ea4a",
   "metadata": {},
   "outputs": [],
   "source": []
  },
  {
   "cell_type": "code",
   "execution_count": 23,
   "id": "6308fc6f-d44d-4938-b315-f964a6049161",
   "metadata": {},
   "outputs": [
    {
     "name": "stdout",
     "output_type": "stream",
     "text": [
      "Converted 09-map-gen.ipynb.\n"
     ]
    }
   ],
   "source": [
    "#hide\n",
    "utils.notebook2script('09-map-gen.ipynb')"
   ]
  }
 ],
 "metadata": {
  "kernelspec": {
   "display_name": "BMRS2",
   "language": "python",
   "name": "bmrs2"
  },
  "language_info": {
   "codemirror_mode": {
    "name": "ipython",
    "version": 3
   },
   "file_extension": ".py",
   "mimetype": "text/x-python",
   "name": "python",
   "nbconvert_exporter": "python",
   "pygments_lexer": "ipython3",
   "version": "3.9.4"
  }
 },
 "nbformat": 4,
 "nbformat_minor": 5
}
