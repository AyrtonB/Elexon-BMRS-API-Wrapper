{
 "cells": [
  {
   "cell_type": "code",
   "execution_count": 1,
   "id": "fa2f7d7a-f1a5-4614-8ff7-caf1eace5327",
   "metadata": {},
   "outputs": [],
   "source": [
    "#hide\n",
    "#default_exp dev.mapgen"
   ]
  },
  {
   "cell_type": "markdown",
   "id": "0eeb54ff-03cd-428c-a160-2ea0e714d58a",
   "metadata": {},
   "source": [
    "# Map Generation"
   ]
  },
  {
   "cell_type": "markdown",
   "id": "3e254fb1-17fe-4aeb-b67d-9b34a147b72a",
   "metadata": {},
   "source": [
    "<br>\n",
    "\n",
    "### Imports"
   ]
  },
  {
   "cell_type": "code",
   "execution_count": 2,
   "id": "c7fab7c9-8dda-49fa-98e2-d7d3651414ce",
   "metadata": {},
   "outputs": [],
   "source": [
    "#exports\n",
    "import json\n",
    "import numpy as np\n",
    "import pandas as pd\n",
    "import geopandas as gpd\n",
    "\n",
    "import os\n",
    "import typer\n",
    "from tqdm import tqdm\n",
    "from jinja2 import Template\n",
    "\n",
    "from ElexonDataPortal.dev import utils, raw"
   ]
  },
  {
   "cell_type": "code",
   "execution_count": 3,
   "id": "d68d514f-5b11-471f-a1d7-4b05cbc10b91",
   "metadata": {},
   "outputs": [],
   "source": [
    "from IPython.display import JSON"
   ]
  },
  {
   "cell_type": "markdown",
   "id": "05257e4f-aa6e-4a57-a888-12a3ec5f1bd5",
   "metadata": {},
   "source": [
    "<br>\n",
    "\n",
    "### Power Plant Output Data Retrieval"
   ]
  },
  {
   "cell_type": "code",
   "execution_count": 4,
   "id": "97019730-392d-4d9e-99c3-b632893d58b9",
   "metadata": {},
   "outputs": [],
   "source": [
    "#hide\n",
    "# loads the api_key into an environment variable - delete this cell if passing as string\n",
    "from dotenv import load_dotenv\n",
    "\n",
    "assert load_dotenv('../.env'), 'Environment variables could not be loaded'\n",
    "api_key = os.environ['BMRS_API_KEY']"
   ]
  },
  {
   "cell_type": "code",
   "execution_count": null,
   "id": "9ee7a880-7e2d-48f9-9d79-8a6427a265ec",
   "metadata": {},
   "outputs": [],
   "source": []
  },
  {
   "cell_type": "code",
   "execution_count": 69,
   "id": "77eceb30-57b4-4030-9644-00c49ba8ef7b",
   "metadata": {
    "tags": []
   },
   "outputs": [],
   "source": [
    "#exports\n",
    "def construct_df_PN_pivot_dt_rng(df_PN):\n",
    "    no_seconds = (((df_PN['timeFrom'].str.split(':').str[-1]=='00').mean()==1) & \n",
    "                  ((df_PN['timeTo'].str.split(':').str[-1]=='00').mean()==1))\n",
    "\n",
    "    if no_seconds == True:\n",
    "        dt_rng = pd.date_range(df_PN['timeFrom'].min(), df_PN['timeTo'].max(), freq='min')\n",
    "    else:\n",
    "        dt_rng = pd.date_range(df_PN['timeFrom'].min(), df_PN['timeTo'].max(), freq='s')\n",
    "\n",
    "    return dt_rng\n",
    "\n",
    "def construct_PN_pivot_df(df_PN):\n",
    "    bmu_ids = sorted(list(df_PN['bmUnitID'].unique()))\n",
    "    df_PN_pivot = pd.DataFrame(index=construct_df_PN_pivot_dt_rng(df_PN), columns=bmu_ids, dtype=float)\n",
    "\n",
    "    for bmu_id in tqdm(bmu_ids):\n",
    "        for idx, row in df_PN.query('bmUnitID==@bmu_id').iterrows():\n",
    "            df_PN_pivot.loc[pd.to_datetime(row['timeFrom']), bmu_id] = float(row['pnLevelFrom'])\n",
    "            df_PN_pivot.loc[pd.to_datetime(row['timeTo']), bmu_id] = float(row['pnLevelTo'])\n",
    "\n",
    "        df_PN_pivot[bmu_id] = df_PN_pivot[bmu_id].interpolate()\n",
    "        \n",
    "    return df_PN_pivot\n",
    "\n",
    "def get_latest_PN_df(api_key):\n",
    "    start_date = pd.Timestamp.now().round('30min') - pd.Timedelta(minutes=60*12)\n",
    "    end_date = pd.Timestamp.now().round('30min') + pd.Timedelta(minutes=180)\n",
    "\n",
    "    df = pd.DataFrame()\n",
    "\n",
    "    for idx, (date, SP) in tqdm(utils.dt_rng_to_SPs(start_date, end_date).iterrows()):\n",
    "        df_SP = utils.parse_xml_response(raw.get_PHYBMDATA(api_key, SettlementDate=date, SettlementPeriod=SP, ServiceType='xml'))\n",
    "        df = df.append(df_SP)\n",
    "        \n",
    "    df = (df\n",
    "          .query('recordType==\"PN\"')\n",
    "          .dropna(how='all', axis=1)\n",
    "          .pipe(construct_PN_pivot_df)\n",
    "         )\n",
    "\n",
    "    return df"
   ]
  },
  {
   "cell_type": "code",
   "execution_count": 26,
   "id": "e1a4d2d8-af5a-4e46-8cc5-e8892be394fa",
   "metadata": {
    "tags": []
   },
   "outputs": [
    {
     "name": "stderr",
     "output_type": "stream",
     "text": [
      "6it [00:25,  3.08s/it]c:\\users\\ayrto\\desktop\\phd\\data\\bmrs\\elexon-bmrs-api-wrapper\\ElexonDataPortal\\dev\\utils.py:27: UserWarning: Data request was succesful but no content was returned\n",
      "  warn(f'Data request was succesful but no content was returned')\n",
      "10it [00:26,  2.66s/it]\n",
      "100%|██████████████████████████████████████████████████████████████████████████████| 1365/1365 [00:15<00:00, 86.87it/s]\n"
     ]
    },
    {
     "data": {
      "text/plain": [
       "(Timestamp('2021-06-17 13:30:00', freq='T'),\n",
       " Timestamp('2021-06-17 16:00:00', freq='T'))"
      ]
     },
     "execution_count": 26,
     "metadata": {},
     "output_type": "execute_result"
    }
   ],
   "source": [
    "df_PN = get_latest_PN_df(api_key)\n",
    "\n",
    "df_PN.index.min(), df_PN.index.max()"
   ]
  },
  {
   "cell_type": "code",
   "execution_count": null,
   "id": "2fd21de5-a0a0-4cac-97ad-9cb9cbeff61c",
   "metadata": {},
   "outputs": [],
   "source": []
  },
  {
   "cell_type": "code",
   "execution_count": 27,
   "id": "1044c8f9-e7e1-461b-9113-d7fca9efb205",
   "metadata": {},
   "outputs": [
    {
     "data": {
      "text/plain": [
       "2__ABGAS000   -327.0\n",
       "2__ACNDL001     29.0\n",
       "2__AEELC000   -192.0\n",
       "2__AEMEB000   -193.0\n",
       "2__AENRD000   -172.0\n",
       "Name: 2021-06-17 16:00:00, dtype: float64"
      ]
     },
     "execution_count": 27,
     "metadata": {},
     "output_type": "execute_result"
    }
   ],
   "source": [
    "nearest_half_hour = (pd.Timestamp.now()+pd.Timedelta(minutes=15)).round('30min')\n",
    "most_recent_available_dt = max(df_PN.index[df_PN.index<=nearest_half_hour])\n",
    "\n",
    "s_PN = df_PN.loc[most_recent_available_dt]\n",
    "\n",
    "s_PN.replace(0, np.nan).dropna().head()"
   ]
  },
  {
   "cell_type": "markdown",
   "id": "6440304a-df07-4e4d-8a97-df4b1407549b",
   "metadata": {},
   "source": [
    "<br>\n",
    "\n",
    "### Location & Fuel Type Data Collation"
   ]
  },
  {
   "cell_type": "code",
   "execution_count": 28,
   "id": "27acd7c5-0128-4e57-813d-c265ed5c42fa",
   "metadata": {},
   "outputs": [
    {
     "data": {
      "text/html": [
       "<div>\n",
       "<style scoped>\n",
       "    .dataframe tbody tr th:only-of-type {\n",
       "        vertical-align: middle;\n",
       "    }\n",
       "\n",
       "    .dataframe tbody tr th {\n",
       "        vertical-align: top;\n",
       "    }\n",
       "\n",
       "    .dataframe thead th {\n",
       "        text-align: right;\n",
       "    }\n",
       "</style>\n",
       "<table border=\"1\" class=\"dataframe\">\n",
       "  <thead>\n",
       "    <tr style=\"text-align: right;\">\n",
       "      <th></th>\n",
       "      <th>osuked_id</th>\n",
       "      <th>esail_id</th>\n",
       "      <th>gppd_idnr</th>\n",
       "      <th>name</th>\n",
       "      <th>sett_bmu_id</th>\n",
       "      <th>longitude</th>\n",
       "      <th>latitude</th>\n",
       "      <th>fuel_type</th>\n",
       "      <th>capacity_mw</th>\n",
       "    </tr>\n",
       "  </thead>\n",
       "  <tbody>\n",
       "    <tr>\n",
       "      <th>0</th>\n",
       "      <td>10000</td>\n",
       "      <td>MARK</td>\n",
       "      <td>NaN</td>\n",
       "      <td>Rothes Bio-Plant CHP</td>\n",
       "      <td>E_MARK-1, E_MARK-2</td>\n",
       "      <td>-3.603516</td>\n",
       "      <td>57.480403</td>\n",
       "      <td>biomass</td>\n",
       "      <td>NaN</td>\n",
       "    </tr>\n",
       "    <tr>\n",
       "      <th>1</th>\n",
       "      <td>10001</td>\n",
       "      <td>DIDC</td>\n",
       "      <td>NaN</td>\n",
       "      <td>Didcot A (G)</td>\n",
       "      <td>T_DIDC1, T_DIDC2, T_DIDC4, T_DIDC3</td>\n",
       "      <td>-1.267570</td>\n",
       "      <td>51.623630</td>\n",
       "      <td>coal</td>\n",
       "      <td>NaN</td>\n",
       "    </tr>\n",
       "    <tr>\n",
       "      <th>2</th>\n",
       "      <td>10002</td>\n",
       "      <td>ABTH</td>\n",
       "      <td>GBR1000374</td>\n",
       "      <td>Aberthaw B</td>\n",
       "      <td>T_ABTH7, T_ABTH8, T_ABTH9</td>\n",
       "      <td>-3.404866</td>\n",
       "      <td>51.387312</td>\n",
       "      <td>coal</td>\n",
       "      <td>1586.0</td>\n",
       "    </tr>\n",
       "  </tbody>\n",
       "</table>\n",
       "</div>"
      ],
      "text/plain": [
       "   osuked_id esail_id   gppd_idnr                  name  \\\n",
       "0      10000     MARK         NaN  Rothes Bio-Plant CHP   \n",
       "1      10001     DIDC         NaN          Didcot A (G)   \n",
       "2      10002     ABTH  GBR1000374            Aberthaw B   \n",
       "\n",
       "                          sett_bmu_id  longitude   latitude fuel_type  \\\n",
       "0                  E_MARK-1, E_MARK-2  -3.603516  57.480403   biomass   \n",
       "1  T_DIDC1, T_DIDC2, T_DIDC4, T_DIDC3  -1.267570  51.623630      coal   \n",
       "2           T_ABTH7, T_ABTH8, T_ABTH9  -3.404866  51.387312      coal   \n",
       "\n",
       "   capacity_mw  \n",
       "0          NaN  \n",
       "1          NaN  \n",
       "2       1586.0  "
      ]
     },
     "execution_count": 28,
     "metadata": {},
     "output_type": "execute_result"
    }
   ],
   "source": [
    "df_powerdict = pd.read_csv('https://raw.githubusercontent.com/OSUKED/Power-Station-Dictionary/main/data/output/power_stations.csv')\n",
    "\n",
    "df_powerdict.head(3)"
   ]
  },
  {
   "cell_type": "code",
   "execution_count": null,
   "id": "2bc57e49-a4b7-41cc-9726-e12cf282178d",
   "metadata": {},
   "outputs": [],
   "source": []
  },
  {
   "cell_type": "code",
   "execution_count": 29,
   "id": "7a84303d-5359-4b55-8438-dbeaf7b3e66d",
   "metadata": {},
   "outputs": [],
   "source": [
    "#exports\n",
    "def construct_osuked_id_mappings(df_powerdict):\n",
    "    osuked_id_mappings = dict()\n",
    "    \n",
    "    osuked_id_mappings['bmu_ids'] = (df_powerdict\n",
    "                                     .set_index('osuked_id')\n",
    "                                     ['sett_bmu_id']\n",
    "                                     .str.split(', ')\n",
    "                                     .dropna()\n",
    "                                     .to_dict()\n",
    "                                    )\n",
    "\n",
    "    osuked_id_mappings['fuel_type'] = (df_powerdict\n",
    "                                       .set_index('osuked_id')\n",
    "                                       ['fuel_type']\n",
    "                                       .dropna()\n",
    "                                       .to_dict()\n",
    "                                      )\n",
    "\n",
    "    osuked_id_mappings['name'] = (df_powerdict\n",
    "                                  .set_index('osuked_id')\n",
    "                                  ['name']\n",
    "                                  .dropna()\n",
    "                                  .to_dict()\n",
    "                                 )\n",
    "\n",
    "    osuked_id_mappings['lat_lon'] = (df_powerdict\n",
    "                                     .set_index('osuked_id')\n",
    "                                     [['latitude', 'longitude']]\n",
    "                                     .dropna()\n",
    "                                     .apply(dict, axis=1)\n",
    "                                     .to_dict()\n",
    "                                    )\n",
    "\n",
    "    return osuked_id_mappings"
   ]
  },
  {
   "cell_type": "code",
   "execution_count": 30,
   "id": "e444f0f9-9782-4d69-96f0-e72f2e5e9866",
   "metadata": {},
   "outputs": [
    {
     "data": {
      "text/plain": [
       "{10000: ['E_MARK-1', 'E_MARK-2'],\n",
       " 10001: ['T_DIDC1', 'T_DIDC2', 'T_DIDC4', 'T_DIDC3'],\n",
       " 10002: ['T_ABTH7', 'T_ABTH8', 'T_ABTH9'],\n",
       " 10003: ['T_COTPS-1', 'T_COTPS-2', 'T_COTPS-3', 'T_COTPS-4'],\n",
       " 10004: ['T_DRAXX-1',\n",
       "  'T_DRAXX-2',\n",
       "  'T_DRAXX-3',\n",
       "  'T_DRAXX-4',\n",
       "  'T_DRAXX-5',\n",
       "  'T_DRAXX-6']}"
      ]
     },
     "execution_count": 30,
     "metadata": {},
     "output_type": "execute_result"
    }
   ],
   "source": [
    "osuked_id_mappings = construct_osuked_id_mappings(df_powerdict)\n",
    "osuked_id_to_bmu_ids, osuked_id_to_fuel_type, osuked_id_to_name, osuked_id_to_lat_lon = osuked_id_mappings.values()\n",
    "\n",
    "pd.Series(osuked_id_to_bmu_ids).head().to_dict()"
   ]
  },
  {
   "cell_type": "code",
   "execution_count": null,
   "id": "9d6e2c5a-c5f6-4a31-a621-dcf9bb5333f6",
   "metadata": {},
   "outputs": [],
   "source": []
  },
  {
   "cell_type": "code",
   "execution_count": 31,
   "id": "3f71e837-3a92-4df7-abf1-4bfd7d03c0c0",
   "metadata": {},
   "outputs": [],
   "source": [
    "flatten_list = lambda list_: [item for sublist in list_ for item in sublist]\n",
    "\n",
    "bmu_ids_with_metadata = sorted(list(set(flatten_list(osuked_id_to_bmu_ids.values()))))\n",
    "bmu_ids_with_metadata_and_output = df_PN.columns.intersection(bmu_ids_with_metadata)\n",
    "bmu_ids_without_metadata = sorted(list(set(df_PN.columns) -set(bmu_ids_with_metadata)))\n",
    "\n",
    "pct_site_coverage = len(bmu_ids_with_metadata_and_output)/df_PN.columns.size\n",
    "pct_output_coverage = df_PN.sum()[bmu_ids_with_metadata_and_output].sum()/df_PN.sum().sum()\n",
    "\n",
    "# print(f\"{pct_site_coverage:.0%} of the sites have coverage, making up {pct_output_coverage:.0%} of the total power output. The following are missing:\\n{', '.join(bmu_ids_without_metadata)}\")"
   ]
  },
  {
   "cell_type": "code",
   "execution_count": null,
   "id": "af128eb1-f72f-49e7-93c4-756f43ef71f0",
   "metadata": {},
   "outputs": [],
   "source": []
  },
  {
   "cell_type": "code",
   "execution_count": 99,
   "id": "ecd841a2-c8d9-4b88-9551-0556978006b4",
   "metadata": {},
   "outputs": [],
   "source": [
    "#exports\n",
    "def extract_PN_ts(df_PN, bmu_ids):\n",
    "    matching_output_bmu_ids = df_PN.columns.intersection(bmu_ids)\n",
    "    output_match = matching_output_bmu_ids.size > 0\n",
    "    \n",
    "    if output_match == False:\n",
    "        return None\n",
    "\n",
    "    s_PN = df_PN[matching_output_bmu_ids].sum(axis=1).resample('30T').mean()\n",
    "    s_PN.index = (s_PN.index - pd.to_datetime(0, unit='s')).total_seconds().astype(int) * 1000\n",
    "\n",
    "    s_PN = s_PN.fillna(0)\n",
    "    s_PN[s_PN<0] = 0\n",
    "    PN_ts = s_PN.to_dict()\n",
    "    \n",
    "    return PN_ts\n",
    "\n",
    "def construct_map_df(\n",
    "    df_PN, \n",
    "    osuked_id_to_bmu_ids, \n",
    "    osuked_id_to_lat_lon, \n",
    "    osuked_id_to_fuel_type, \n",
    "    osuked_id_to_name\n",
    "):\n",
    "    sites_data = list()\n",
    "\n",
    "    for osuked_id, bmu_ids in osuked_id_to_bmu_ids.items():\n",
    "        lat_lon_match = osuked_id in osuked_id_to_lat_lon.keys()\n",
    "        \n",
    "        PN_ts = extract_PN_ts(df_PN, bmu_ids)\n",
    "\n",
    "        if lat_lon_match and PN_ts is not None:\n",
    "            if sum(PN_ts.values()) > 0:\n",
    "                site_data = osuked_id_to_lat_lon[osuked_id]\n",
    "                site_data.update({'id': osuked_id})\n",
    "                site_data.update({'name': osuked_id_to_name[osuked_id]})\n",
    "                site_data.update({'fuel_type': osuked_id_to_fuel_type[osuked_id]})\n",
    "                site_data.update({'output': PN_ts})\n",
    "\n",
    "                sites_data += [site_data]\n",
    "\n",
    "    df_map = pd.DataFrame(sites_data).set_index('id')\n",
    "    \n",
    "    return df_map"
   ]
  },
  {
   "cell_type": "code",
   "execution_count": 100,
   "id": "ff299ae4-d686-498c-bcbe-16124c969491",
   "metadata": {},
   "outputs": [
    {
     "data": {
      "text/html": [
       "<div>\n",
       "<style scoped>\n",
       "    .dataframe tbody tr th:only-of-type {\n",
       "        vertical-align: middle;\n",
       "    }\n",
       "\n",
       "    .dataframe tbody tr th {\n",
       "        vertical-align: top;\n",
       "    }\n",
       "\n",
       "    .dataframe thead th {\n",
       "        text-align: right;\n",
       "    }\n",
       "</style>\n",
       "<table border=\"1\" class=\"dataframe\">\n",
       "  <thead>\n",
       "    <tr style=\"text-align: right;\">\n",
       "      <th></th>\n",
       "      <th>latitude</th>\n",
       "      <th>longitude</th>\n",
       "      <th>name</th>\n",
       "      <th>fuel_type</th>\n",
       "      <th>output</th>\n",
       "    </tr>\n",
       "    <tr>\n",
       "      <th>id</th>\n",
       "      <th></th>\n",
       "      <th></th>\n",
       "      <th></th>\n",
       "      <th></th>\n",
       "      <th></th>\n",
       "    </tr>\n",
       "  </thead>\n",
       "  <tbody>\n",
       "    <tr>\n",
       "      <th>10000</th>\n",
       "      <td>57.480403</td>\n",
       "      <td>-3.603516</td>\n",
       "      <td>Rothes Bio-Plant CHP</td>\n",
       "      <td>biomass</td>\n",
       "      <td>{1623900600000: 55.0, 1623902400000: 55.0, 162...</td>\n",
       "    </tr>\n",
       "    <tr>\n",
       "      <th>10004</th>\n",
       "      <td>53.748711</td>\n",
       "      <td>-0.626221</td>\n",
       "      <td>Drax</td>\n",
       "      <td>coal, biomass</td>\n",
       "      <td>{1623900600000: 1950.0, 1623902400000: 1950.0,...</td>\n",
       "    </tr>\n",
       "    <tr>\n",
       "      <th>10010</th>\n",
       "      <td>55.204170</td>\n",
       "      <td>-1.520830</td>\n",
       "      <td>Lynemouth Generator</td>\n",
       "      <td>coal</td>\n",
       "      <td>{1623900600000: 405.0, 1623902400000: 405.0, 1...</td>\n",
       "    </tr>\n",
       "  </tbody>\n",
       "</table>\n",
       "</div>"
      ],
      "text/plain": [
       "        latitude  longitude                  name      fuel_type  \\\n",
       "id                                                                 \n",
       "10000  57.480403  -3.603516  Rothes Bio-Plant CHP        biomass   \n",
       "10004  53.748711  -0.626221                  Drax  coal, biomass   \n",
       "10010  55.204170  -1.520830   Lynemouth Generator           coal   \n",
       "\n",
       "                                                  output  \n",
       "id                                                        \n",
       "10000  {1623900600000: 55.0, 1623902400000: 55.0, 162...  \n",
       "10004  {1623900600000: 1950.0, 1623902400000: 1950.0,...  \n",
       "10010  {1623900600000: 405.0, 1623902400000: 405.0, 1...  "
      ]
     },
     "execution_count": 100,
     "metadata": {},
     "output_type": "execute_result"
    }
   ],
   "source": [
    "df_map = construct_map_df(df_PN, osuked_id_to_bmu_ids, osuked_id_to_lat_lon, osuked_id_to_fuel_type, osuked_id_to_name)\n",
    "\n",
    "df_map.head(3)"
   ]
  },
  {
   "cell_type": "code",
   "execution_count": null,
   "id": "6bf8a3cc-b416-483d-b6ce-1dd9304617ed",
   "metadata": {},
   "outputs": [],
   "source": []
  },
  {
   "cell_type": "code",
   "execution_count": 34,
   "id": "ca0d1e0f-0284-4893-878b-a12284b43148",
   "metadata": {},
   "outputs": [],
   "source": [
    "#exports\n",
    "def df_to_gdf(df, lat_col='latitude', lon_col='longitude'):\n",
    "    geometry = gpd.points_from_xy(df[lon_col], df[lat_col])\n",
    "    gdf = gpd.GeoDataFrame(df, geometry=geometry)\n",
    "    \n",
    "    return gdf"
   ]
  },
  {
   "cell_type": "code",
   "execution_count": 35,
   "id": "5d67ac4c-b72a-462d-bbda-1337bb56c369",
   "metadata": {},
   "outputs": [
    {
     "data": {
      "text/plain": [
       "<AxesSubplot:>"
      ]
     },
     "execution_count": 35,
     "metadata": {},
     "output_type": "execute_result"
    },
    {
     "data": {
      "image/png": "[encoded data removed]",
      "text/plain": [
       "<Figure size 432x288 with 1 Axes>"
      ]
     },
     "metadata": {
      "needs_background": "light"
     },
     "output_type": "display_data"
    }
   ],
   "source": [
    "gdf_map = df_to_gdf(df_map)\n",
    "gdf_map_latest = gdf_map.assign(output=gdf_map['output'].apply(lambda d: list(d.values())[-1]))\n",
    "\n",
    "gdf_map_latest.plot(markersize='output', column='fuel_type', alpha=0.5, legend=True)"
   ]
  },
  {
   "cell_type": "code",
   "execution_count": null,
   "id": "0289e3f1-6240-4e3b-825a-9840457e7470",
   "metadata": {},
   "outputs": [],
   "source": []
  },
  {
   "cell_type": "code",
   "execution_count": 36,
   "id": "7dadda7b-4eb9-40ee-8b11-f956389b5947",
   "metadata": {},
   "outputs": [],
   "source": [
    "def construct_map_geojson(\n",
    "    df_PN, \n",
    "    df_powerdict\n",
    "):\n",
    "    osuked_id_mappings = construct_osuked_id_mappings(df_powerdict)\n",
    "    osuked_id_to_bmu_ids, osuked_id_to_fuel_type, osuked_id_to_name, osuked_id_to_lat_lon = osuked_id_mappings.values()\n",
    "\n",
    "    df_map = construct_map_df(df_PN, osuked_id_to_bmu_ids, osuked_id_to_lat_lon, osuked_id_to_fuel_type, osuked_id_to_name)\n",
    "    gdf_map = df_to_gdf(df_map)\n",
    "\n",
    "    geojson = json.loads(gdf_map.to_json())\n",
    "    geojson['timeseries'] = list((df_PN.resample('30T').mean().index - pd.to_datetime(0, unit='s')).total_seconds().astype(int)*1000)\n",
    "\n",
    "    return geojson"
   ]
  },
  {
   "cell_type": "code",
   "execution_count": 37,
   "id": "412aadea-3b96-4779-8b37-27847749e343",
   "metadata": {},
   "outputs": [
    {
     "data": {
      "application/json": {
       "features": [
        {
         "geometry": {
          "coordinates": [
           -3.603516,
           57.480403
          ],
          "type": "Point"
         },
         "id": "10000",
         "properties": {
          "fuel_type": "biomass",
          "latitude": 57.480403,
          "longitude": -3.603516,
          "name": "Rothes Bio-Plant CHP",
          "output": {
           "1623936600000": 55,
           "1623938400000": 55,
           "1623940200000": 55,
           "1623942000000": 55,
           "1623943800000": 55,
           "1623945600000": 55
          }
         },
         "type": "Feature"
        },
        {
         "geometry": {
          "coordinates": [
           -0.626221,
           53.748711
          ],
          "type": "Point"
         },
         "id": "10004",
         "properties": {
          "fuel_type": "coal, biomass",
          "latitude": 53.748711,
          "longitude": -0.626221,
          "name": "Drax",
          "output": {
           "1623936600000": 1950,
           "1623938400000": 1950,
           "1623940200000": 1950,
           "1623942000000": 1950,
           "1623943800000": 1950,
           "1623945600000": 1950
          }
         },
         "type": "Feature"
        },
        {
         "geometry": {
          "coordinates": [
           -1.52083,
           55.20417
          ],
          "type": "Point"
         },
         "id": "10010",
         "properties": {
          "fuel_type": "coal",
          "latitude": 55.20417,
          "longitude": -1.52083,
          "name": "Lynemouth Generator",
          "output": {
           "1623936600000": 405,
           "1623938400000": 405,
           "1623940200000": 405,
           "1623942000000": 405,
           "1623943800000": 405,
           "1623945600000": 405
          }
         },
         "type": "Feature"
        },
        {
         "geometry": {
          "coordinates": [
           -1.219482,
           52.855864
          ],
          "type": "Point"
         },
         "id": "10011",
         "properties": {
          "fuel_type": "coal",
          "latitude": 52.855864,
          "longitude": -1.219482,
          "name": "Ratcliffe on Soar",
          "output": {
           "1623936600000": 500,
           "1623938400000": 500,
           "1623940200000": 500,
           "1623942000000": 500,
           "1623943800000": 500,
           "1623945600000": 500
          }
         },
         "type": "Feature"
        },
        {
         "geometry": {
          "coordinates": [
           -2.504883,
           53.455349
          ],
          "type": "Point"
         },
         "id": "10027",
         "properties": {
          "fuel_type": "gas",
          "latitude": 53.455349,
          "longitude": -2.504883,
          "name": "Carrington",
          "output": {
           "1623936600000": 848,
           "1623938400000": 827.0333333333334,
           "1623940200000": 826,
           "1623942000000": 826,
           "1623943800000": 826,
           "1623945600000": 826
          }
         },
         "type": "Feature"
        },
        {
         "geometry": {
          "coordinates": [
           -3.080651,
           53.231871
          ],
          "type": "Point"
         },
         "id": "10029",
         "properties": {
          "fuel_type": "gas",
          "latitude": 53.231871,
          "longitude": -3.080651,
          "name": "Connahs Quay",
          "output": {
           "1623936600000": 663,
           "1623938400000": 663,
           "1623940200000": 663,
           "1623942000000": 663,
           "1623943800000": 663,
           "1623945600000": 663
          }
         },
         "type": "Feature"
        },
        {
         "geometry": {
          "coordinates": [
           -1.26757,
           51.62363
          ],
          "type": "Point"
         },
         "id": "10035",
         "properties": {
          "fuel_type": "gas",
          "latitude": 51.62363,
          "longitude": -1.26757,
          "name": "Didcot B",
          "output": {
           "1623936600000": 622,
           "1623938400000": 622,
           "1623940200000": 622,
           "1623942000000": 622,
           "1623943800000": 622,
           "1623945600000": 622
          }
         },
         "type": "Feature"
        },
        {
         "geometry": {
          "coordinates": [
           -0.022763,
           51.662337
          ],
          "type": "Point"
         },
         "id": "10036",
         "properties": {
          "fuel_type": "gas",
          "latitude": 51.662337,
          "longitude": -0.022763,
          "name": "Enfield Energy",
          "output": {
           "1623936600000": 405,
           "1623938400000": 405,
           "1623940200000": 405,
           "1623942000000": 405,
           "1623943800000": 405,
           "1623945600000": 405
          }
         },
         "type": "Feature"
        },
        {
         "geometry": {
          "coordinates": [
           1.625977,
           52.596375
          ],
          "type": "Point"
         },
         "id": "10038",
         "properties": {
          "fuel_type": "gas",
          "latitude": 52.596375,
          "longitude": 1.625977,
          "name": "Great Yarmouth",
          "output": {
           "1623936600000": 381.4833333333333,
           "1623938400000": 382,
           "1623940200000": 382.4833333333333,
           "1623942000000": 383,
           "1623943800000": 383,
           "1623945600000": 383
          }
         },
         "type": "Feature"
        },
        {
         "geometry": {
          "coordinates": [
           -0.494385,
           53.585984
          ],
          "type": "Point"
         },
         "id": "10039",
         "properties": {
          "fuel_type": "gas",
          "latitude": 53.585984,
          "longitude": -0.494385,
          "name": "Keadby",
          "output": {
           "1623936600000": 708,
           "1623938400000": 709,
           "1623940200000": 709,
           "1623942000000": 709,
           "1623943800000": 709,
           "1623945600000": 712
          }
         },
         "type": "Feature"
        },
        {
         "geometry": {
          "coordinates": [
           0.380117,
           52.727256
          ],
          "type": "Point"
         },
         "id": "10042",
         "properties": {
          "fuel_type": "gas",
          "latitude": 52.727256,
          "longitude": 0.380117,
          "name": "Kings Lynn",
          "output": {
           "1623936600000": 351,
           "1623938400000": 351,
           "1623940200000": 351,
           "1623942000000": 351.4833333333333,
           "1623943800000": 352,
           "1623945600000": 352
          }
         },
         "type": "Feature"
        },
        {
         "geometry": {
          "coordinates": [
           -3.966064,
           50.492463
          ],
          "type": "Point"
         },
         "id": "10043",
         "properties": {
          "fuel_type": "gas",
          "latitude": 50.492463,
          "longitude": -3.966064,
          "name": "Langage",
          "output": {
           "1623936600000": 782,
           "1623938400000": 781,
           "1623940200000": 781,
           "1623942000000": 782,
           "1623943800000": 784,
           "1623945600000": 786
          }
         },
         "type": "Feature"
        },
        {
         "geometry": {
          "coordinates": [
           -1.351318,
           50.903033
          ],
          "type": "Point"
         },
         "id": "10045",
         "properties": {
          "fuel_type": "gas",
          "latitude": 50.903033,
          "longitude": -1.351318,
          "name": "Marchwood",
          "output": {
           "1623936600000": 820,
           "1623938400000": 810.3333333333334,
           "1623940200000": 810,
           "1623942000000": 810,
           "1623943800000": 810,
           "1623945600000": 826
          }
         },
         "type": "Feature"
        },
        {
         "geometry": {
          "coordinates": [
           -4.996378,
           51.684368
          ],
          "type": "Point"
         },
         "id": "10047",
         "properties": {
          "fuel_type": "gas",
          "latitude": 51.684368,
          "longitude": -4.996378,
          "name": "Pembroke Power Station -",
          "output": {
           "1623936600000": 2079,
           "1623938400000": 2124.933333333334,
           "1623940200000": 2126,
           "1623942000000": 2126,
           "1623943800000": 2126,
           "1623945600000": 2126
          }
         },
         "type": "Feature"
        },
        {
         "geometry": {
          "coordinates": [
           -0.1318359999999999,
           53.83308100000001
          ],
          "type": "Point"
         },
         "id": "10052",
         "properties": {
          "fuel_type": "gas",
          "latitude": 53.83308100000001,
          "longitude": -0.1318359999999999,
          "name": "Saltend South",
          "output": {
           "1623936600000": 1124,
           "1623938400000": 1124,
           "1623940200000": 1121.5666666666664,
           "1623942000000": 1117.1666666666667,
           "1623943800000": 1117,
           "1623945600000": 1117
          }
         },
         "type": "Feature"
        },
        {
         "geometry": {
          "coordinates": [
           -0.252686,
           50.882243
          ],
          "type": "Point"
         },
         "id": "10055",
         "properties": {
          "fuel_type": "gas",
          "latitude": 50.882243,
          "longitude": -0.252686,
          "name": "Shoreham",
          "output": {
           "1623936600000": 200,
           "1623938400000": 200,
           "1623940200000": 200,
           "1623942000000": 200,
           "1623943800000": 200,
           "1623945600000": 200
          }
         },
         "type": "Feature"
        },
        {
         "geometry": {
          "coordinates": [
           -0.1318359999999999,
           53.618579
          ],
          "type": "Point"
         },
         "id": "10056",
         "properties": {
          "fuel_type": "gas",
          "latitude": 53.618579,
          "longitude": -0.1318359999999999,
          "name": "South Humber Bank",
          "output": {
           "1623936600000": 1259,
           "1623938400000": 1258,
           "1623940200000": 1258,
           "1623942000000": 1256,
           "1623943800000": 1256,
           "1623945600000": 1256
          }
         },
         "type": "Feature"
        },
        {
         "geometry": {
          "coordinates": [
           -0.252686,
           52.81604300000001
          ],
          "type": "Point"
         },
         "id": "10057",
         "properties": {
          "fuel_type": "gas",
          "latitude": 52.81604300000001,
          "longitude": -0.252686,
          "name": "Spalding",
          "output": {
           "1623936600000": 792,
           "1623938400000": 793,
           "1623940200000": 793,
           "1623942000000": 794,
           "1623943800000": 797,
           "1623945600000": 803
          }
         },
         "type": "Feature"
        },
        {
         "geometry": {
          "coordinates": [
           -0.98877,
           53.041213
          ],
          "type": "Point"
         },
         "id": "10058",
         "properties": {
          "fuel_type": "gas",
          "latitude": 53.041213,
          "longitude": -0.98877,
          "name": "Staythorpe",
          "output": {
           "1623936600000": 1231,
           "1623938400000": 1265.3333333333333,
           "1623940200000": 1265.0333333333333,
           "1623942000000": 1264,
           "1623943800000": 1264,
           "1623945600000": 1264
          }
         },
         "type": "Feature"
        },
        {
         "geometry": {
          "coordinates": [
           -0.53833,
           53.363665000000005
          ],
          "type": "Point"
         },
         "id": "10062",
         "properties": {
          "fuel_type": "gas",
          "latitude": 53.363665000000005,
          "longitude": -0.53833,
          "name": "West Burton B",
          "output": {
           "1623936600000": 837,
           "1623938400000": 837,
           "1623940200000": 837,
           "1623942000000": 837,
           "1623943800000": 837,
           "1623945600000": 837
          }
         },
         "type": "Feature"
        },
        {
         "geometry": {
          "coordinates": [
           0.703125,
           51.474540000000005
          ],
          "type": "Point"
         },
         "id": "10067",
         "properties": {
          "fuel_type": "gas, oil",
          "latitude": 51.474540000000005,
          "longitude": 0.703125,
          "name": "Grain CHP",
          "output": {
           "1623936600000": 401,
           "1623938400000": 401,
           "1623940200000": 401,
           "1623942000000": 401,
           "1623943800000": 401,
           "1623945600000": 401
          }
         },
         "type": "Feature"
        },
        {
         "geometry": {
          "coordinates": [
           -3.032227,
           55.930741000000005
          ],
          "type": "Point"
         },
         "id": "10068",
         "properties": {
          "fuel_type": "gas",
          "latitude": 55.930741000000005,
          "longitude": -3.032227,
          "name": "Grangemouth CHP Ltd",
          "output": {
           "1623936600000": 140,
           "1623938400000": 140,
           "1623940200000": 140,
           "1623942000000": 140,
           "1623943800000": 140,
           "1623945600000": 140
          }
         },
         "type": "Feature"
        },
        {
         "geometry": {
          "coordinates": [
           0,
           53.690201
          ],
          "type": "Point"
         },
         "id": "10070",
         "properties": {
          "fuel_type": "gas",
          "latitude": 53.690201,
          "longitude": 0,
          "name": "Immingham CHP",
          "output": {
           "1623936600000": 684.0333333333333,
           "1623938400000": 685.9333333333333,
           "1623940200000": 679.2333333333333,
           "1623942000000": 679.9666666666667,
           "1623943800000": 680,
           "1623945600000": 680
          }
         },
         "type": "Feature"
        },
        {
         "geometry": {
          "coordinates": [
           -1.867676,
           57.527622
          ],
          "type": "Point"
         },
         "id": "10101",
         "properties": {
          "fuel_type": "oil",
          "latitude": 57.527622,
          "longitude": -1.867676,
          "name": "Peterhead",
          "output": {
           "1623936600000": 1015,
           "1623938400000": 1015,
           "1623940200000": 1015,
           "1623942000000": 1015,
           "1623943800000": 1015,
           "1623945600000": 1015
          }
         },
         "type": "Feature"
        },
        {
         "geometry": {
          "coordinates": [
           -4.552586,
           57.444705000000006
          ],
          "type": "Point"
         },
         "id": "10107",
         "properties": {
          "fuel_type": "hydro",
          "latitude": 57.444705000000006,
          "longitude": -4.552586,
          "name": "Beauly Cascade",
          "output": {
           "1623936600000": 7,
           "1623938400000": 7,
           "1623940200000": 7,
           "1623942000000": 7,
           "1623943800000": 7,
           "1623945600000": 7
          }
         },
         "type": "Feature"
        },
        {
         "geometry": {
          "coordinates": [
           -3.778355,
           56.716948
          ],
          "type": "Point"
         },
         "id": "10109",
         "properties": {
          "fuel_type": "hydro",
          "latitude": 56.716948,
          "longitude": -3.778355,
          "name": "Clunie Cascade",
          "output": {
           "1623936600000": 0,
           "1623938400000": 0,
           "1623940200000": 0,
           "1623942000000": 0,
           "1623943800000": 3.3,
           "1623945600000": 21
          }
         },
         "type": "Feature"
        },
        {
         "geometry": {
          "coordinates": [
           -4.830066,
           57.619203000000006
          ],
          "type": "Point"
         },
         "id": "10110",
         "properties": {
          "fuel_type": "hydro",
          "latitude": 57.619203000000006,
          "longitude": -4.830066,
          "name": "Conon Cascade",
          "output": {
           "1623936600000": 1,
           "1623938400000": 1,
           "1623940200000": 1,
           "1623942000000": 1,
           "1623943800000": 4.5,
           "1623945600000": 35
          }
         },
         "type": "Feature"
        },
        {
         "geometry": {
          "coordinates": [
           -4.793703,
           57.325887
          ],
          "type": "Point"
         },
         "id": "10116",
         "properties": {
          "fuel_type": "hydro",
          "latitude": 57.325887,
          "longitude": -4.793703,
          "name": "Fasnakyle G",
          "output": {
           "1623936600000": 14,
           "1623938400000": 14,
           "1623940200000": 14,
           "1623942000000": 14,
           "1623943800000": 15.316666666666666,
           "1623945600000": 36
          }
         },
         "type": "Feature"
        },
        {
         "geometry": {
          "coordinates": [
           -3.614502,
           56.279961
          ],
          "type": "Point"
         },
         "id": "10117",
         "properties": {
          "fuel_type": "hydro",
          "latitude": 56.279961,
          "longitude": -3.614502,
          "name": "Finlarig",
          "output": {
           "1623936600000": 0,
           "1623938400000": 0,
           "1623940200000": 0,
           "1623942000000": 0,
           "1623943800000": 1.5833333333333333,
           "1623945600000": 17
          }
         },
         "type": "Feature"
        },
        {
         "geometry": {
          "coordinates": [
           -4.3077510000000006,
           56.470679
          ],
          "type": "Point"
         },
         "id": "10120",
         "properties": {
          "fuel_type": "hydro",
          "latitude": 56.470679,
          "longitude": -4.3077510000000006,
          "name": "Killin Cascade",
          "output": {
           "1623936600000": 10,
           "1623938400000": 10,
           "1623940200000": 10,
           "1623942000000": 10,
           "1623943800000": 11.05,
           "1623945600000": 26
          }
         },
         "type": "Feature"
        },
        {
         "geometry": {
          "coordinates": [
           -4.962463,
           57.144936
          ],
          "type": "Point"
         },
         "id": "10122",
         "properties": {
          "fuel_type": "hydro",
          "latitude": 57.144936,
          "longitude": -4.962463,
          "name": "Moriston Cascade",
          "output": {
           "1623936600000": 3,
           "1623938400000": 3,
           "1623940200000": 3,
           "1623942000000": 3,
           "1623943800000": 3.8,
           "1623945600000": 19
          }
         },
         "type": "Feature"
        },
        {
         "geometry": {
          "coordinates": [
           -1.098633,
           54.686534
          ],
          "type": "Point"
         },
         "id": "10130",
         "properties": {
          "fuel_type": "nuclear",
          "latitude": 54.686534,
          "longitude": -1.098633,
          "name": "Hartlepool",
          "output": {
           "1623936600000": 1155,
           "1623938400000": 1155,
           "1623940200000": 1155,
           "1623942000000": 1155,
           "1623943800000": 1155,
           "1623945600000": 1155
          }
         },
         "type": "Feature"
        },
        {
         "geometry": {
          "coordinates": [
           -2.916111111,
           54.02888889
          ],
          "type": "Point"
         },
         "id": "10131",
         "properties": {
          "fuel_type": "nuclear",
          "latitude": 54.02888889,
          "longitude": -2.916111111,
          "name": "Heysham 1",
          "output": {
           "1623936600000": 983,
           "1623938400000": 983,
           "1623940200000": 983,
           "1623942000000": 983,
           "1623943800000": 983,
           "1623945600000": 983
          }
         },
         "type": "Feature"
        },
        {
         "geometry": {
          "coordinates": [
           -2.916111111,
           54.02888889
          ],
          "type": "Point"
         },
         "id": "10132",
         "properties": {
          "fuel_type": "nuclear",
          "latitude": 54.02888889,
          "longitude": -2.916111111,
          "name": "Heysham 2",
          "output": {
           "1623936600000": 633,
           "1623938400000": 633,
           "1623940200000": 633,
           "1623942000000": 633,
           "1623943800000": 633,
           "1623945600000": 633
          }
         },
         "type": "Feature"
        },
        {
         "geometry": {
          "coordinates": [
           -3.317871,
           51.138001
          ],
          "type": "Point"
         },
         "id": "10133",
         "properties": {
          "fuel_type": "nuclear",
          "latitude": 51.138001,
          "longitude": -3.317871,
          "name": "Hinkley Point B",
          "output": {
           "1623936600000": 979,
           "1623938400000": 979,
           "1623940200000": 979,
           "1623942000000": 979,
           "1623943800000": 979,
           "1623945600000": 979
          }
         },
         "type": "Feature"
        },
        {
         "geometry": {
          "coordinates": [
           -4.822998,
           55.646599
          ],
          "type": "Point"
         },
         "id": "10134",
         "properties": {
          "fuel_type": "nuclear",
          "latitude": 55.646599,
          "longitude": -4.822998,
          "name": "Hunterston Generator",
          "output": {
           "1623936600000": 993,
           "1623938400000": 993,
           "1623940200000": 993,
           "1623942000000": 993,
           "1623943800000": 993,
           "1623945600000": 993
          }
         },
         "type": "Feature"
        },
        {
         "geometry": {
          "coordinates": [
           -2.054443,
           55.813629000000006
          ],
          "type": "Point"
         },
         "id": "10138",
         "properties": {
          "fuel_type": "nuclear",
          "latitude": 55.813629000000006,
          "longitude": -2.054443,
          "name": "Torness Generator",
          "output": {
           "1623936600000": 1277,
           "1623938400000": 1277,
           "1623940200000": 1277,
           "1623942000000": 1277,
           "1623943800000": 1277,
           "1623945600000": 1277
          }
         },
         "type": "Feature"
        },
        {
         "geometry": {
          "coordinates": [
           -3.977051,
           53.008173
          ],
          "type": "Point"
         },
         "id": "10145",
         "properties": {
          "fuel_type": "hydro",
          "latitude": 53.008173,
          "longitude": -3.977051,
          "name": "Ffestiniog",
          "output": {
           "1623936600000": 46,
           "1623938400000": 46,
           "1623940200000": 46,
           "1623942000000": 46,
           "1623943800000": 46,
           "1623945600000": 46
          }
         },
         "type": "Feature"
        },
        {
         "geometry": {
          "coordinates": [
           -2.492993,
           55.923317
          ],
          "type": "Point"
         },
         "id": "10148",
         "properties": {
          "fuel_type": "wind",
          "latitude": 55.923317,
          "longitude": -2.492993,
          "name": "Aikengall 2 Wind Farm Generation",
          "output": {
           "1623936600000": 9.48333333333333,
           "1623938400000": 11.449999999999998,
           "1623940200000": 13.966666666666667,
           "1623942000000": 16.45,
           "1623943800000": 18.96666666666666,
           "1623945600000": 20
          }
         },
         "type": "Feature"
        },
        {
         "geometry": {
          "coordinates": [
           -4.713441,
           54.970896
          ],
          "type": "Point"
         },
         "id": "10149",
         "properties": {
          "fuel_type": "wind",
          "latitude": 54.970896,
          "longitude": -4.713441,
          "name": "Airies Windfarm",
          "output": {
           "1623936600000": 8,
           "1623938400000": 8,
           "1623940200000": 8,
           "1623942000000": 8,
           "1623943800000": 8,
           "1623945600000": 8
          }
         },
         "type": "Feature"
        },
        {
         "geometry": {
          "coordinates": [
           -3.814161,
           55.51487
          ],
          "type": "Point"
         },
         "id": "10150",
         "properties": {
          "fuel_type": "wind",
          "latitude": 55.51487,
          "longitude": -3.814161,
          "name": "Andershaw Wind Farm",
          "output": {
           "1623936600000": 6,
           "1623938400000": 6.483333333333333,
           "1623940200000": 7,
           "1623942000000": 7,
           "1623943800000": 7,
           "1623945600000": 7
          }
         },
         "type": "Feature"
        },
        {
         "geometry": {
          "coordinates": [
           -5.449219,
           56.065903000000006
          ],
          "type": "Point"
         },
         "id": "10151",
         "properties": {
          "fuel_type": "wind",
          "latitude": 56.065903000000006,
          "longitude": -5.449219,
          "name": "An Suidhe Windfarm",
          "output": {
           "1623936600000": 5,
           "1623938400000": 5,
           "1623940200000": 5,
           "1623942000000": 5,
           "1623943800000": 5,
           "1623945600000": 5
          }
         },
         "type": "Feature"
        },
        {
         "geometry": {
          "coordinates": [
           -4.63623,
           55.14121
          ],
          "type": "Point"
         },
         "id": "10152",
         "properties": {
          "fuel_type": "wind",
          "latitude": 55.14121,
          "longitude": -4.63623,
          "name": "Arecleoch Windfarm",
          "output": {
           "1623936600000": 6,
           "1623938400000": 7.933333333333334,
           "1623940200000": 6.066666666666666,
           "1623942000000": 6.966666666666667,
           "1623943800000": 6.033333333333333,
           "1623945600000": 6
          }
         },
         "type": "Feature"
        },
        {
         "geometry": {
          "coordinates": [
           -4.825652,
           55.222814
          ],
          "type": "Point"
         },
         "id": "10153",
         "properties": {
          "fuel_type": "wind",
          "latitude": 55.222814,
          "longitude": -4.825652,
          "name": "Assel Valley Wind Farm",
          "output": {
           "1623936600000": 4.033333333333333,
           "1623938400000": 3,
           "1623940200000": 3,
           "1623942000000": 3.4833333333333334,
           "1623943800000": 4,
           "1623945600000": 4
          }
         },
         "type": "Feature"
        },
        {
         "geometry": {
          "coordinates": [
           -3.988675,
           55.621764
          ],
          "type": "Point"
         },
         "id": "10154",
         "properties": {
          "fuel_type": "wind",
          "latitude": 55.621764,
          "longitude": -3.988675,
          "name": "Auchrobert Wind Farm",
          "output": {
           "1623936600000": 15,
           "1623938400000": 15.483333333333336,
           "1623940200000": 16.483333333333334,
           "1623942000000": 17,
           "1623943800000": 17.483333333333334,
           "1623945600000": 18
          }
         },
         "type": "Feature"
        },
        {
         "geometry": {
          "coordinates": [
           -4.372559,
           58.430482
          ],
          "type": "Point"
         },
         "id": "10155",
         "properties": {
          "fuel_type": "wind",
          "latitude": 58.430482,
          "longitude": -4.372559,
          "name": "Baillie Wind Farm",
          "output": {
           "1623936600000": 5,
           "1623938400000": 5,
           "1623940200000": 5,
           "1623942000000": 5,
           "1623943800000": 5,
           "1623945600000": 5
          }
         },
         "type": "Feature"
        },
        {
         "geometry": {
          "coordinates": [
           -3.2833330000000003,
           53.983333
          ],
          "type": "Point"
         },
         "id": "10156",
         "properties": {
          "fuel_type": "wind",
          "latitude": 53.983333,
          "longitude": -3.2833330000000003,
          "name": "Barrow Offshore Windfarm",
          "output": {
           "1623936600000": 16.516666666666666,
           "1623938400000": 16.483333333333334,
           "1623940200000": 16.516666666666666,
           "1623942000000": 16.966666666666665,
           "1623943800000": 17.516666666666666,
           "1623945600000": 17
          }
         },
         "type": "Feature"
        },
        {
         "geometry": {
          "coordinates": [
           -5.537109,
           55.683779
          ],
          "type": "Point"
         },
         "id": "10157",
         "properties": {
          "fuel_type": "wind",
          "latitude": 55.683779,
          "longitude": -5.537109,
          "name": "Beinn An Tuirc 2 Windfarm",
          "output": {
           "1623936600000": 3,
           "1623938400000": 3.966666666666667,
           "1623940200000": 3.033333333333333,
           "1623942000000": 3.966666666666667,
           "1623943800000": 4.966666666666667,
           "1623945600000": 5
          }
         },
         "type": "Feature"
        },
        {
         "geometry": {
          "coordinates": [
           -4.789059,
           57.17555556
          ],
          "type": "Point"
         },
         "id": "10158",
         "properties": {
          "fuel_type": "wind",
          "latitude": 57.17555556,
          "longitude": -4.789059,
          "name": "Beinneun Wind Farm",
          "output": {
           "1623936600000": 21.483333333333334,
           "1623938400000": 22.48333333333333,
           "1623940200000": 23,
           "1623942000000": 22.51666666666667,
           "1623943800000": 22,
           "1623945600000": 22
          }
         },
         "type": "Feature"
        },
        {
         "geometry": {
          "coordinates": [
           -4.42749,
           58.077876
          ],
          "type": "Point"
         },
         "id": "10159",
         "properties": {
          "fuel_type": "wind",
          "latitude": 58.077876,
          "longitude": -4.42749,
          "name": "Beinn Tharsuinn",
          "output": {
           "1623936600000": 4.516666666666667,
           "1623938400000": 3.033333333333333,
           "1623940200000": 3,
           "1623942000000": 3.4833333333333334,
           "1623943800000": 4.966666666666667,
           "1623945600000": 5
          }
         },
         "type": "Feature"
        },
        {
         "geometry": {
          "coordinates": [
           -3.966064,
           57.36209
          ],
          "type": "Point"
         },
         "id": "10160",
         "properties": {
          "fuel_type": "wind",
          "latitude": 57.36209,
          "longitude": -3.966064,
          "name": "Berry Burn Windfarm",
          "output": {
           "1623936600000": 5.483333333333335,
           "1623938400000": 6,
           "1623940200000": 6,
           "1623942000000": 6,
           "1623943800000": 6,
           "1623945600000": 6
          }
         },
         "type": "Feature"
        },
        {
         "geometry": {
          "coordinates": [
           -4.668919,
           57.22303
          ],
          "type": "Point"
         },
         "id": "10161",
         "properties": {
          "fuel_type": "wind",
          "latitude": 57.22303,
          "longitude": -4.668919,
          "name": "Bhlaraidh Windfarm 1",
          "output": {
           "1623936600000": 18,
           "1623938400000": 18,
           "1623940200000": 19,
           "1623942000000": 19,
           "1623943800000": 19,
           "1623945600000": 19
          }
         },
         "type": "Feature"
        },
        {
         "geometry": {
          "coordinates": [
           -4.033976,
           55.117955
          ],
          "type": "Point"
         },
         "id": "10162",
         "properties": {
          "fuel_type": "wind",
          "latitude": 55.117955,
          "longitude": -4.033976,
          "name": "Blackcraig Windfarm",
          "output": {
           "1623936600000": 11.483333333333329,
           "1623938400000": 13.45,
           "1623940200000": 15.966666666666665,
           "1623942000000": 17.483333333333334,
           "1623943800000": 18.96666666666666,
           "1623945600000": 20
          }
         },
         "type": "Feature"
        },
        {
         "geometry": {
          "coordinates": [
           -3.4826660000000005,
           55.590763
          ],
          "type": "Point"
         },
         "id": "10163",
         "properties": {
          "fuel_type": "wind",
          "latitude": 55.590763,
          "longitude": -3.4826660000000005,
          "name": "Black Law Wind Farm",
          "output": {
           "1623936600000": 9,
           "1623938400000": 9,
           "1623940200000": 9.966666666666667,
           "1623942000000": 10,
           "1623943800000": 10,
           "1623945600000": 10
          }
         },
         "type": "Feature"
        },
        {
         "geometry": {
          "coordinates": [
           -3.4826660000000005,
           55.590763
          ],
          "type": "Point"
         },
         "id": "10164",
         "properties": {
          "fuel_type": "wind",
          "latitude": 55.590763,
          "longitude": -3.4826660000000005,
          "name": "Black Law Windfarm Extension",
          "output": {
           "1623936600000": 5.499999999999999,
           "1623938400000": 5,
           "1623940200000": 6.933333333333334,
           "1623942000000": 6.033333333333333,
           "1623943800000": 5.033333333333333,
           "1623945600000": 5
          }
         },
         "type": "Feature"
        },
        {
         "geometry": {
          "coordinates": [
           -3.361816,
           56.419978
          ],
          "type": "Point"
         },
         "id": "10166",
         "properties": {
          "fuel_type": "wind",
          "latitude": 56.419978,
          "longitude": -3.361816,
          "name": "Braes of Doune",
          "output": {
           "1623936600000": 18.550000000000004,
           "1623938400000": 17.96666666666666,
           "1623940200000": 19.966666666666658,
           "1623942000000": 21.483333333333334,
           "1623943800000": 22.48333333333333,
           "1623945600000": 23
          }
         },
         "type": "Feature"
        },
        {
         "geometry": {
          "coordinates": [
           -4.141234,
           55.25515600000001
          ],
          "type": "Point"
         },
         "id": "10167",
         "properties": {
          "fuel_type": "wind",
          "latitude": 55.25515600000001,
          "longitude": -4.141234,
          "name": "Brockloch Rig 2 Windfarm",
          "output": {
           "1623936600000": 18.483333333333334,
           "1623938400000": 19.966666666666658,
           "1623940200000": 21.483333333333334,
           "1623942000000": 22.48333333333333,
           "1623943800000": 23,
           "1623945600000": 23
          }
         },
         "type": "Feature"
        },
        {
         "geometry": {
          "coordinates": [
           -3.19582,
           53.487739000000005
          ],
          "type": "Point"
         },
         "id": "10169",
         "properties": {
          "fuel_type": "wind",
          "latitude": 53.487739000000005,
          "longitude": -3.19582,
          "name": "Burbo Bank Offshore Windfarm",
          "output": {
           "1623936600000": 7,
           "1623938400000": 7,
           "1623940200000": 7.483333333333333,
           "1623942000000": 8,
           "1623943800000": 8,
           "1623945600000": 8
          }
         },
         "type": "Feature"
        },
        {
         "geometry": {
          "coordinates": [
           -3.273,
           53.484
          ],
          "type": "Point"
         },
         "id": "10170",
         "properties": {
          "fuel_type": "wind",
          "latitude": 53.484,
          "longitude": -3.273,
          "name": "Burbo Bank Wind Farm Extension",
          "output": {
           "1623936600000": 30,
           "1623938400000": 31.93333333333333,
           "1623940200000": 36.416666666666664,
           "1623942000000": 41.9,
           "1623943800000": 45.48333333333333,
           "1623945600000": 46
          }
         },
         "type": "Feature"
        },
        {
         "geometry": {
          "coordinates": [
           -3.21433,
           58.351973
          ],
          "type": "Point"
         },
         "id": "10171",
         "properties": {
          "fuel_type": "wind",
          "latitude": 58.351973,
          "longitude": -3.21433,
          "name": "Burn of Whilk Windfarm",
          "output": {
           "1623936600000": 0.5166666666666666,
           "1623938400000": 0,
           "1623940200000": 0,
           "1623942000000": 0,
           "1623943800000": 0,
           "1623945600000": 0
          }
         },
         "type": "Feature"
        },
        {
         "geometry": {
          "coordinates": [
           -3.063895,
           57.504968000000005
          ],
          "type": "Point"
         },
         "id": "10172",
         "properties": {
          "fuel_type": "wind",
          "latitude": 57.504968000000005,
          "longitude": -3.063895,
          "name": "Cairn Uish / Rothes Windfarm Extension",
          "output": {
           "1623936600000": 5,
           "1623938400000": 5.483333333333335,
           "1623940200000": 6.483333333333333,
           "1623942000000": 7.483333333333333,
           "1623943800000": 8.483333333333333,
           "1623945600000": 9
          }
         },
         "type": "Feature"
        },
        {
         "geometry": {
          "coordinates": [
           -3.2701290000000003,
           58.406935
          ],
          "type": "Point"
         },
         "id": "10173",
         "properties": {
          "fuel_type": "wind",
          "latitude": 58.406935,
          "longitude": -3.2701290000000003,
          "name": "Camster Wind Farm",
          "output": {
           "1623936600000": 2,
           "1623938400000": 2,
           "1623940200000": 2,
           "1623942000000": 1.516666666666667,
           "1623943800000": 1,
           "1623945600000": 1
          }
         },
         "type": "Feature"
        },
        {
         "geometry": {
          "coordinates": [
           -4.790039,
           56.389584
          ],
          "type": "Point"
         },
         "id": "10174",
         "properties": {
          "fuel_type": "wind",
          "latitude": 56.389584,
          "longitude": -4.790039,
          "name": "Carraig Gheal Wind Farm",
          "output": {
           "1623936600000": 17,
           "1623938400000": 17.483333333333334,
           "1623940200000": 18,
           "1623942000000": 18.483333333333334,
           "1623943800000": 19,
           "1623945600000": 19
          }
         },
         "type": "Feature"
        },
        {
         "geometry": {
          "coordinates": [
           -2.9223630000000003,
           57.308724
          ],
          "type": "Point"
         },
         "id": "10176",
         "properties": {
          "fuel_type": "wind",
          "latitude": 57.308724,
          "longitude": -2.9223630000000003,
          "name": "Clashindarroch Wind Farm",
          "output": {
           "1623936600000": 1,
           "1623938400000": 0.26666666666666666,
           "1623940200000": 0,
           "1623942000000": 0,
           "1623943800000": 0,
           "1623945600000": 0
          }
         },
         "type": "Feature"
        },
        {
         "geometry": {
          "coordinates": [
           -3.35083,
           55.310391
          ],
          "type": "Point"
         },
         "id": "10177",
         "properties": {
          "fuel_type": "wind",
          "latitude": 55.310391,
          "longitude": -3.35083,
          "name": "Clyde Central Windfarm, Clyde North Windfarm, Clyde South Windfarm",
          "output": {
           "1623936600000": 36,
           "1623938400000": 47,
           "1623940200000": 53,
           "1623942000000": 58,
           "1623943800000": 61,
           "1623945600000": 74
          }
         },
         "type": "Feature"
        },
        {
         "geometry": {
          "coordinates": [
           -4.359638,
           57.190085
          ],
          "type": "Point"
         },
         "id": "10178",
         "properties": {
          "fuel_type": "wind",
          "latitude": 57.190085,
          "longitude": -4.359638,
          "name": "Corriegarth Wind Farm",
          "output": {
           "1623936600000": 35.483333333333334,
           "1623938400000": 36.96666666666667,
           "1623940200000": 38.96666666666667,
           "1623942000000": 40,
           "1623943800000": 40.483333333333334,
           "1623945600000": 41
          }
         },
         "type": "Feature"
        },
        {
         "geometry": {
          "coordinates": [
           -4.838531,
           57.694245
          ],
          "type": "Point"
         },
         "id": "10179",
         "properties": {
          "fuel_type": "wind",
          "latitude": 57.694245,
          "longitude": -4.838531,
          "name": "Corriemoillie Wind Farm",
          "output": {
           "1623936600000": 20.483333333333334,
           "1623938400000": 21,
           "1623940200000": 21,
           "1623942000000": 21.483333333333334,
           "1623943800000": 22,
           "1623945600000": 22
          }
         },
         "type": "Feature"
        },
        {
         "geometry": {
          "coordinates": [
           -5.484929,
           55.680679000000005
          ],
          "type": "Point"
         },
         "id": "10180",
         "properties": {
          "fuel_type": "wind",
          "latitude": 55.680679000000005,
          "longitude": -5.484929,
          "name": "Cour Wind Farm",
          "output": {
           "1623936600000": 6,
           "1623938400000": 6,
           "1623940200000": 6,
           "1623942000000": 6.483333333333333,
           "1623943800000": 7,
           "1623945600000": 7
          }
         },
         "type": "Feature"
        },
        {
         "geometry": {
          "coordinates": [
           -2.39502,
           55.893796
          ],
          "type": "Point"
         },
         "id": "10181",
         "properties": {
          "fuel_type": "wind",
          "latitude": 55.893796,
          "longitude": -2.39502,
          "name": "Crystal Rig III Wind Farm",
          "output": {
           "1623936600000": 4,
           "1623938400000": 4,
           "1623940200000": 4.483333333333333,
           "1623942000000": 5,
           "1623943800000": 5.483333333333335,
           "1623945600000": 6
          }
         },
         "type": "Feature"
        },
        {
         "geometry": {
          "coordinates": [
           -2.39502,
           55.893796
          ],
          "type": "Point"
         },
         "id": "10182",
         "properties": {
          "fuel_type": "wind",
          "latitude": 55.893796,
          "longitude": -2.39502,
          "name": "Crystal Rig Wind Farm - Phase 2",
          "output": {
           "1623936600000": 30.966666666666672,
           "1623938400000": 34.416666666666664,
           "1623940200000": 38.933333333333316,
           "1623942000000": 43.416666666666664,
           "1623943800000": 47.93333333333332,
           "1623945600000": 50
          }
         },
         "type": "Feature"
        },
        {
         "geometry": {
          "coordinates": [
           -3.662819,
           55.183662
          ],
          "type": "Point"
         },
         "id": "10183",
         "properties": {
          "fuel_type": "wind",
          "latitude": 55.183662,
          "longitude": -3.662819,
          "name": "Dalswinton Wind Farm",
          "output": {
           "1623936600000": 10,
           "1623938400000": 10.96666666666667,
           "1623940200000": 12.966666666666667,
           "1623942000000": 14.483333333333333,
           "1623943800000": 15.483333333333336,
           "1623945600000": 16
          }
         },
         "type": "Feature"
        },
        {
         "geometry": {
          "coordinates": [
           -4.484173,
           55.311291
          ],
          "type": "Point"
         },
         "id": "10184",
         "properties": {
          "fuel_type": "wind",
          "latitude": 55.311291,
          "longitude": -4.484173,
          "name": "Dersalloch Windfarm",
          "output": {
           "1623936600000": 5.033333333333333,
           "1623938400000": 7.9,
           "1623940200000": 8,
           "1623942000000": 6.066666666666666,
           "1623943800000": 6,
           "1623945600000": 6
          }
         },
         "type": "Feature"
        },
        {
         "geometry": {
          "coordinates": [
           1.39,
           53.249
          ],
          "type": "Point"
         },
         "id": "10185",
         "properties": {
          "fuel_type": "wind",
          "latitude": 53.249,
          "longitude": 1.39,
          "name": "Dudgeon Offshore Wind Farm Generator",
          "output": {
           "1623936600000": 96,
           "1623938400000": 87.78333333333333,
           "1623940200000": 80.93333333333334,
           "1623942000000": 92.18333333333332,
           "1623943800000": 102,
           "1623945600000": 102
          }
         },
         "type": "Feature"
        },
        {
         "geometry": {
          "coordinates": [
           -2.296143,
           55.776573
          ],
          "type": "Point"
         },
         "id": "10186",
         "properties": {
          "fuel_type": "wind",
          "latitude": 55.776573,
          "longitude": -2.296143,
          "name": "Dun Law Extension Windfarm",
          "output": {
           "1623936600000": 0.9666666666666667,
           "1623938400000": 1,
           "1623940200000": 1,
           "1623942000000": 1,
           "1623943800000": 1.9666666666666666,
           "1623945600000": 2
          }
         },
         "type": "Feature"
        },
        {
         "geometry": {
          "coordinates": [
           -4.255802,
           57.25148000000001
          ],
          "type": "Point"
         },
         "id": "10187",
         "properties": {
          "fuel_type": "wind",
          "latitude": 57.25148000000001,
          "longitude": -4.255802,
          "name": "Dunmglass Wind Farm",
          "output": {
           "1623936600000": 16.1,
           "1623938400000": 13,
           "1623940200000": 20,
           "1623942000000": 20,
           "1623943800000": 25,
           "1623945600000": 25
          }
         },
         "type": "Feature"
        },
        {
         "geometry": {
          "coordinates": [
           -6.229248,
           57.27904300000001
          ],
          "type": "Point"
         },
         "id": "10188",
         "properties": {
          "fuel_type": "wind",
          "latitude": 57.27904300000001,
          "longitude": -6.229248,
          "name": "Edinbane Windfarm",
          "output": {
           "1623936600000": 6,
           "1623938400000": 5.266666666666667,
           "1623940200000": 5,
           "1623942000000": 5,
           "1623943800000": 5.733333333333333,
           "1623945600000": 6
          }
         },
         "type": "Feature"
        },
        {
         "geometry": {
          "coordinates": [
           -3.205105,
           55.228662
          ],
          "type": "Point"
         },
         "id": "10189",
         "properties": {
          "fuel_type": "wind",
          "latitude": 55.228662,
          "longitude": -3.205105,
          "name": "Ewe Hill II Wind Farm",
          "output": {
           "1623936600000": 2,
           "1623938400000": 2.966666666666667,
           "1623940200000": 3,
           "1623942000000": 2.5166666666666666,
           "1623943800000": 1.0333333333333334,
           "1623945600000": 1
          }
         },
         "type": "Feature"
        },
        {
         "geometry": {
          "coordinates": [
           -2.768555,
           55.93689499999999
          ],
          "type": "Point"
         },
         "id": "10190",
         "properties": {
          "fuel_type": "wind",
          "latitude": 55.93689499999999,
          "longitude": -2.768555,
          "name": "Fallago Rig Wind Farm",
          "output": {
           "1623936600000": 37.416666666666664,
           "1623938400000": 42.9,
           "1623940200000": 49.383333333333326,
           "1623942000000": 55.416666666666664,
           "1623943800000": 60.89999999999999,
           "1623945600000": 64
          }
         },
         "type": "Feature"
        },
        {
         "geometry": {
          "coordinates": [
           -4.094167,
           57.325
          ],
          "type": "Point"
         },
         "id": "10191",
         "properties": {
          "fuel_type": "wind",
          "latitude": 57.325,
          "longitude": -4.094167,
          "name": "Farr Wind Farm",
          "output": {
           "1623936600000": 33,
           "1623938400000": 35.416666666666664,
           "1623940200000": 38.483333333333334,
           "1623942000000": 39.96666666666667,
           "1623943800000": 41,
           "1623945600000": 41
          }
         },
         "type": "Feature"
        },
        {
         "geometry": {
          "coordinates": [
           -5.479858999999999,
           55.780803000000006
          ],
          "type": "Point"
         },
         "id": "10192",
         "properties": {
          "fuel_type": "wind",
          "latitude": 55.780803000000006,
          "longitude": -5.479858999999999,
          "name": "Freasdail Wind Farm",
          "output": {
           "1623936600000": 3,
           "1623938400000": 3,
           "1623940200000": 3,
           "1623942000000": 3,
           "1623943800000": 3,
           "1623945600000": 3
          }
         },
         "type": "Feature"
        },
        {
         "geometry": {
          "coordinates": [
           -3.921928,
           55.534273
          ],
          "type": "Point"
         },
         "id": "10193",
         "properties": {
          "fuel_type": "wind",
          "latitude": 55.534273,
          "longitude": -3.921928,
          "name": "Galawhistle Wind Farm",
          "output": {
           "1623936600000": 26.51666666666667,
           "1623938400000": 26.966666666666665,
           "1623940200000": 28.966666666666665,
           "1623942000000": 30,
           "1623943800000": 30,
           "1623945600000": 30
          }
         },
         "type": "Feature"
        },
        {
         "geometry": {
          "coordinates": [
           2.035,
           51.893
          ],
          "type": "Point"
         },
         "id": "10194",
         "properties": {
          "fuel_type": "wind",
          "latitude": 51.893,
          "longitude": 2.035,
          "name": "Galloper Offshore Windfarm 1",
          "output": {
           "1623936600000": 31.616666666666667,
           "1623938400000": 27.033333333333335,
           "1623940200000": 25.033333333333335,
           "1623942000000": 26.9,
           "1623943800000": 30,
           "1623945600000": 30
          }
         },
         "type": "Feature"
        },
        {
         "geometry": {
          "coordinates": [
           -5.026858,
           55.021378000000006
          ],
          "type": "Point"
         },
         "id": "10195",
         "properties": {
          "fuel_type": "wind",
          "latitude": 55.021378000000006,
          "longitude": -5.026858,
          "name": "Glen App Wind Farm",
          "output": {
           "1623936600000": 1,
           "1623938400000": 1,
           "1623940200000": 0,
           "1623942000000": 0.9666666666666667,
           "1623943800000": 1,
           "1623945600000": 1
          }
         },
         "type": "Feature"
        },
        {
         "geometry": {
          "coordinates": [
           -4.754334,
           54.96341999999999
          ],
          "type": "Point"
         },
         "id": "10196",
         "properties": {
          "fuel_type": "wind",
          "latitude": 54.96341999999999,
          "longitude": -4.754334,
          "name": "Glenchamber Wind Farm",
          "output": {
           "1623936600000": 2,
           "1623938400000": 2,
           "1623940200000": 2,
           "1623942000000": 2,
           "1623943800000": 2,
           "1623945600000": 2
          }
         },
         "type": "Feature"
        },
        {
         "geometry": {
          "coordinates": [
           -0.8724209999999999,
           53.668356
          ],
          "type": "Point"
         },
         "id": "10198",
         "properties": {
          "fuel_type": "wind",
          "latitude": 53.668356,
          "longitude": -0.8724209999999999,
          "name": "Goole Fields 1 Windfarm",
          "output": {
           "1623936600000": 1,
           "1623938400000": 1,
           "1623940200000": 1,
           "1623942000000": 1,
           "1623943800000": 1,
           "1623945600000": 1
          }
         },
         "type": "Feature"
        },
        {
         "geometry": {
          "coordinates": [
           -3.834229,
           58.066256
          ],
          "type": "Point"
         },
         "id": "10199",
         "properties": {
          "fuel_type": "wind",
          "latitude": 58.066256,
          "longitude": -3.834229,
          "name": "Gordonbush Wind Farm",
          "output": {
           "1623936600000": 9,
           "1623938400000": 10,
           "1623940200000": 11,
           "1623942000000": 12,
           "1623943800000": 13,
           "1623945600000": 14
          }
         },
         "type": "Feature"
        },
        {
         "geometry": {
          "coordinates": [
           -2.484139,
           57.460944
          ],
          "type": "Point"
         },
         "id": "10200",
         "properties": {
          "fuel_type": "wind",
          "latitude": 57.460944,
          "longitude": -2.484139,
          "name": "Gordonstown Windfarm",
          "output": {
           "1623936600000": 1,
           "1623938400000": 1,
           "1623940200000": 1,
           "1623942000000": 1,
           "1623943800000": 1,
           "1623945600000": 1
          }
         },
         "type": "Feature"
        },
        {
         "geometry": {
          "coordinates": [
           1.7138669999999998,
           52.066
          ],
          "type": "Point"
         },
         "id": "10201",
         "properties": {
          "fuel_type": "wind",
          "latitude": 52.066,
          "longitude": 1.7138669999999998,
          "name": "Greater Gabbard Offshore Windfarm",
          "output": {
           "1623936600000": 13,
           "1623938400000": 13,
           "1623940200000": 16.966666666666665,
           "1623942000000": 17.516666666666666,
           "1623943800000": 12,
           "1623945600000": 16
          }
         },
         "type": "Feature"
        },
        {
         "geometry": {
          "coordinates": [
           -3.394775,
           56.529199
          ],
          "type": "Point"
         },
         "id": "10202",
         "properties": {
          "fuel_type": "wind",
          "latitude": 56.529199,
          "longitude": -3.394775,
          "name": "Griffin Wind Farm",
          "output": {
           "1623936600000": 14,
           "1623938400000": 16.966666666666665,
           "1623940200000": 18.96666666666666,
           "1623942000000": 20,
           "1623943800000": 22,
           "1623945600000": 22
          }
         },
         "type": "Feature"
        },
        {
         "geometry": {
          "coordinates": [
           1.174444,
           51.739444
          ],
          "type": "Point"
         },
         "id": "10204",
         "properties": {
          "fuel_type": "wind",
          "latitude": 51.739444,
          "longitude": 1.174444,
          "name": "Gunfleet Sands Windfarm  1",
          "output": {
           "1623936600000": 1.516666666666667,
           "1623938400000": 1.4833333333333334,
           "1623940200000": 1.516666666666667,
           "1623942000000": 1,
           "1623943800000": 1.4833333333333334,
           "1623945600000": 2
          }
         },
         "type": "Feature"
        },
        {
         "geometry": {
          "coordinates": [
           1.174444,
           51.739444
          ],
          "type": "Point"
         },
         "id": "10205",
         "properties": {
          "fuel_type": "wind",
          "latitude": 51.739444,
          "longitude": 1.174444,
          "name": "Gunfleet Sands Windfarm  2",
          "output": {
           "1623936600000": 1.516666666666667,
           "1623938400000": 1.4833333333333334,
           "1623940200000": 1.516666666666667,
           "1623942000000": 1,
           "1623943800000": 1.4833333333333334,
           "1623945600000": 2
          }
         },
         "type": "Feature"
        },
        {
         "geometry": {
          "coordinates": [
           -3.944092,
           53.376775
          ],
          "type": "Point"
         },
         "id": "10207",
         "properties": {
          "fuel_type": "wind",
          "latitude": 53.376775,
          "longitude": -3.944092,
          "name": "Gwynt y Mor Wind Farm East 1",
          "output": {
           "1623936600000": 83.48333333333336,
           "1623938400000": 86.41666666666667,
           "1623940200000": 90.93333333333334,
           "1623942000000": 89.61666666666663,
           "1623943800000": 86,
           "1623945600000": 86
          }
         },
         "type": "Feature"
        },
        {
         "geometry": {
          "coordinates": [
           -4.702148,
           55.247815
          ],
          "type": "Point"
         },
         "id": "10208",
         "properties": {
          "fuel_type": "wind",
          "latitude": 55.247815,
          "longitude": -4.702148,
          "name": "Hadyard Hill Wind Farm",
          "output": {
           "1623936600000": 10,
           "1623938400000": 11,
           "1623940200000": 11,
           "1623942000000": 11,
           "1623943800000": 12,
           "1623945600000": 12
          }
         },
         "type": "Feature"
        },
        {
         "geometry": {
          "coordinates": [
           -3.547456,
           55.815259
          ],
          "type": "Point"
         },
         "id": "10209",
         "properties": {
          "fuel_type": "wind",
          "latitude": 55.815259,
          "longitude": -3.547456,
          "name": "Harburnhead Wind Farm",
          "output": {
           "1623936600000": 4,
           "1623938400000": 4.483333333333333,
           "1623940200000": 5.483333333333335,
           "1623942000000": 6,
           "1623943800000": 6.483333333333333,
           "1623945600000": 7
          }
         },
         "type": "Feature"
        },
        {
         "geometry": {
          "coordinates": [
           -4.054104,
           55.405691
          ],
          "type": "Point"
         },
         "id": "10210",
         "properties": {
          "fuel_type": "wind",
          "latitude": 55.405691,
          "longitude": -4.054104,
          "name": "Hare Hill Extension Wind Farm",
          "output": {
           "1623936600000": 2.966666666666667,
           "1623938400000": 3,
           "1623940200000": 3,
           "1623942000000": 3,
           "1623943800000": 3.966666666666667,
           "1623945600000": 4
          }
         },
         "type": "Feature"
        },
        {
         "geometry": {
          "coordinates": [
           -3.636475,
           55.229023
          ],
          "type": "Point"
         },
         "id": "10211",
         "properties": {
          "fuel_type": "wind",
          "latitude": 55.229023,
          "longitude": -3.636475,
          "name": "Harestanes Windfarm",
          "output": {
           "1623936600000": 5.033333333333333,
           "1623938400000": 4.033333333333333,
           "1623940200000": 4.966666666666667,
           "1623942000000": 7.433333333333334,
           "1623943800000": 7.966666666666667,
           "1623945600000": 8
          }
         },
         "type": "Feature"
        },
        {
         "geometry": {
          "coordinates": [
           -3.615587,
           57.51051999999999
          ],
          "type": "Point"
         },
         "id": "10212",
         "properties": {
          "fuel_type": "wind",
          "latitude": 57.51051999999999,
          "longitude": -3.615587,
          "name": "Hill of Glaschyle Windfarm",
          "output": {
           "1623936600000": 7.966666666666667,
           "1623938400000": 9.48333333333333,
           "1623940200000": 10.483333333333329,
           "1623942000000": 11.96666666666667,
           "1623943800000": 13.483333333333333,
           "1623945600000": 14
          }
         },
         "type": "Feature"
        },
        {
         "geometry": {
          "coordinates": [
           0.293,
           53.644
          ],
          "type": "Point"
         },
         "id": "10214",
         "properties": {
          "fuel_type": "wind",
          "latitude": 53.644,
          "longitude": 0.293,
          "name": "Humber Offshore Wind Farm",
          "output": {
           "1623936600000": 74.96666666666667,
           "1623938400000": 81.8,
           "1623940200000": 90.9,
           "1623942000000": 94,
           "1623943800000": 94,
           "1623945600000": 94
          }
         },
         "type": "Feature"
        },
        {
         "geometry": {
          "coordinates": [
           -1.35,
           57.483
          ],
          "type": "Point"
         },
         "id": "10215",
         "properties": {
          "fuel_type": "wind",
          "latitude": 57.483,
          "longitude": -1.35,
          "name": "Hywind Generator 1",
          "output": {
           "1623936600000": 2,
           "1623938400000": 2,
           "1623940200000": 2,
           "1623942000000": 2,
           "1623943800000": 2,
           "1623945600000": 2
          }
         },
         "type": "Feature"
        },
        {
         "geometry": {
          "coordinates": [
           -4.765280000000001,
           55.05
          ],
          "type": "Point"
         },
         "id": "10218",
         "properties": {
          "fuel_type": "wind",
          "latitude": 55.05,
          "longitude": -4.765280000000001,
          "name": "Kilgallioch Wind Farm",
          "output": {
           "1623936600000": 11.166666666666666,
           "1623938400000": 12.933333333333334,
           "1623940200000": 14.933333333333334,
           "1623942000000": 16.933333333333334,
           "1623943800000": 18.933333333333334,
           "1623945600000": 19
          }
         },
         "type": "Feature"
        },
        {
         "geometry": {
          "coordinates": [
           0.5273439999999999,
           53.265213
          ],
          "type": "Point"
         },
         "id": "10219",
         "properties": {
          "fuel_type": "wind",
          "latitude": 53.265213,
          "longitude": 0.5273439999999999,
          "name": "Lincs Offshore Wind Farm",
          "output": {
           "1623936600000": 64.93333333333334,
           "1623938400000": 66.03333333333333,
           "1623940200000": 61.13333333333333,
           "1623942000000": 54.583333333333336,
           "1623943800000": 51.03333333333334,
           "1623945600000": 50
          }
         },
         "type": "Feature"
        },
        {
         "geometry": {
          "coordinates": [
           -4.559326,
           57.73935
          ],
          "type": "Point"
         },
         "id": "10220",
         "properties": {
          "fuel_type": "wind",
          "latitude": 57.73935,
          "longitude": -4.559326,
          "name": "Lochluichart Windfarm",
          "output": {
           "1623936600000": 22.383333333333333,
           "1623938400000": 25.03333333333334,
           "1623940200000": 24.96666666666666,
           "1623942000000": 25.51666666666667,
           "1623943800000": 24.51666666666667,
           "1623945600000": 24
          }
         },
         "type": "Feature"
        },
        {
         "geometry": {
          "coordinates": [
           1.362305,
           51.645294
          ],
          "type": "Point"
         },
         "id": "10221",
         "properties": {
          "fuel_type": "wind",
          "latitude": 51.645294,
          "longitude": 1.362305,
          "name": "London Array Windfarm",
          "output": {
           "1623936600000": 15.316666666666666,
           "1623938400000": 16.166666666666668,
           "1623940200000": 11.483333333333329,
           "1623942000000": 10.550000000000002,
           "1623943800000": 9,
           "1623945600000": 9
          }
         },
         "type": "Feature"
        },
        {
         "geometry": {
          "coordinates": [
           -4.822998,
           55.160043
          ],
          "type": "Point"
         },
         "id": "10222",
         "properties": {
          "fuel_type": "wind",
          "latitude": 55.160043,
          "longitude": -4.822998,
          "name": "Mark Hill Windfarm",
          "output": {
           "1623936600000": 3,
           "1623938400000": 3.966666666666667,
           "1623940200000": 4,
           "1623942000000": 4,
           "1623943800000": 4,
           "1623945600000": 4
          }
         },
         "type": "Feature"
        },
        {
         "geometry": {
          "coordinates": [
           -2.482026,
           56.964685
          ],
          "type": "Point"
         },
         "id": "10223",
         "properties": {
          "fuel_type": "wind",
          "latitude": 56.964685,
          "longitude": -2.482026,
          "name": "Mid Hill Windfarm",
          "output": {
           "1623936600000": 1.55,
           "1623938400000": 1.9333333333333336,
           "1623940200000": 5.933333333333334,
           "1623942000000": 9.45,
           "1623943800000": 12.45,
           "1623945600000": 14
          }
         },
         "type": "Feature"
        },
        {
         "geometry": {
          "coordinates": [
           -4.866943,
           57.219608
          ],
          "type": "Point"
         },
         "id": "10224",
         "properties": {
          "fuel_type": "wind",
          "latitude": 57.219608,
          "longitude": -4.866943,
          "name": "Millennium Wind Farm",
          "output": {
           "1623936600000": 15.483333333333336,
           "1623938400000": 16.483333333333334,
           "1623940200000": 17.96666666666666,
           "1623942000000": 19,
           "1623943800000": 19,
           "1623945600000": 19
          }
         },
         "type": "Feature"
        },
        {
         "geometry": {
          "coordinates": [
           -3.5148019999999995,
           55.248768000000005
          ],
          "type": "Point"
         },
         "id": "10225",
         "properties": {
          "fuel_type": "wind",
          "latitude": 55.248768000000005,
          "longitude": -3.5148019999999995,
          "name": "Minnygap Wind Farm",
          "output": {
           "1623936600000": 1.2333333333333332,
           "1623938400000": 2,
           "1623940200000": 2,
           "1623942000000": 2.7333333333333334,
           "1623943800000": 3,
           "1623945600000": 3
          }
         },
         "type": "Feature"
        },
        {
         "geometry": {
          "coordinates": [
           -3.47168,
           55.040614
          ],
          "type": "Point"
         },
         "id": "10226",
         "properties": {
          "fuel_type": "wind",
          "latitude": 55.040614,
          "longitude": -3.47168,
          "name": "Minsca Wind Farm",
          "output": {
           "1623936600000": 5.033333333333333,
           "1623938400000": 4,
           "1623940200000": 4.483333333333333,
           "1623942000000": 5,
           "1623943800000": 5,
           "1623945600000": 5
          }
         },
         "type": "Feature"
        },
        {
         "geometry": {
          "coordinates": [
           -4.052356,
           57.39099399999999
          ],
          "type": "Point"
         },
         "id": "10228",
         "properties": {
          "fuel_type": "wind",
          "latitude": 57.39099399999999,
          "longitude": -4.052356,
          "name": "Moy Windfarm",
          "output": {
           "1623936600000": 12.583333333333334,
           "1623938400000": 9.516666666666671,
           "1623940200000": 9,
           "1623942000000": 8.516666666666667,
           "1623943800000": 8,
           "1623945600000": 8
          }
         },
         "type": "Feature"
        },
        {
         "geometry": {
          "coordinates": [
           -3.4,
           54.1
          ],
          "type": "Point"
         },
         "id": "10229",
         "properties": {
          "fuel_type": "wind",
          "latitude": 54.1,
          "longitude": -3.4,
          "name": "Ormonde Windfarm",
          "output": {
           "1623936600000": 33.2,
           "1623938400000": 34,
           "1623940200000": 34,
           "1623942000000": 33.03333333333333,
           "1623943800000": 32,
           "1623945600000": 32
          }
         },
         "type": "Feature"
        },
        {
         "geometry": {
          "coordinates": [
           -3.561358,
           51.710658
          ],
          "type": "Point"
         },
         "id": "10232",
         "properties": {
          "fuel_type": "wind",
          "latitude": 51.710658,
          "longitude": -3.561358,
          "name": "Pen y Cymoedd Wind Farm",
          "output": {
           "1623936600000": 12.233333333333336,
           "1623938400000": 13.966666666666667,
           "1623940200000": 15.233333333333333,
           "1623942000000": 15.966666666666667,
           "1623943800000": 18,
           "1623945600000": 18
          }
         },
         "type": "Feature"
        },
        {
         "geometry": {
          "coordinates": [
           0.841,
           53.276
          ],
          "type": "Point"
         },
         "id": "10233",
         "properties": {
          "fuel_type": "wind",
          "latitude": 53.276,
          "longitude": 0.841,
          "name": "Race Bank Offshore Wind Farm",
          "output": {
           "1623936600000": 188.7666666666667,
           "1623938400000": 159.2,
           "1623940200000": 139.46666666666667,
           "1623942000000": 124.03333333333333,
           "1623943800000": 124.93333333333332,
           "1623945600000": 127
          }
         },
         "type": "Feature"
        },
        {
         "geometry": {
          "coordinates": [
           -0.27,
           50.67
          ],
          "type": "Point"
         },
         "id": "10234",
         "properties": {
          "fuel_type": "wind",
          "latitude": 50.67,
          "longitude": -0.27,
          "name": "Rampion Offshore Windfarm",
          "output": {
           "1623936600000": 5,
           "1623938400000": 6.45,
           "1623940200000": 8.483333333333333,
           "1623942000000": 7.066666666666666,
           "1623943800000": 5,
           "1623945600000": 5
          }
         },
         "type": "Feature"
        },
        {
         "geometry": {
          "coordinates": [
           -3.716667,
           54.75
          ],
          "type": "Point"
         },
         "id": "10235",
         "properties": {
          "fuel_type": "wind",
          "latitude": 54.75,
          "longitude": -3.716667,
          "name": "Robin Rigg East",
          "output": {
           "1623936600000": 1,
           "1623938400000": 1,
           "1623940200000": 1,
           "1623942000000": 1,
           "1623943800000": 1,
           "1623945600000": 1
          }
         },
         "type": "Feature"
        },
        {
         "geometry": {
          "coordinates": [
           -3.716667,
           54.75
          ],
          "type": "Point"
         },
         "id": "10236",
         "properties": {
          "fuel_type": "wind",
          "latitude": 54.75,
          "longitude": -3.716667,
          "name": "Robin Rigg West",
          "output": {
           "1623936600000": 22.48333333333333,
           "1623938400000": 23.96666666666666,
           "1623940200000": 24.51666666666667,
           "1623942000000": 23.51666666666667,
           "1623943800000": 23,
           "1623945600000": 23
          }
         },
         "type": "Feature"
        },
        {
         "geometry": {
          "coordinates": [
           -4.023363,
           55.322673
          ],
          "type": "Point"
         },
         "id": "10238",
         "properties": {
          "fuel_type": "wind",
          "latitude": 55.322673,
          "longitude": -4.023363,
          "name": "Sanquhar Community Wind Farm Generation",
          "output": {
           "1623936600000": 10.483333333333329,
           "1623938400000": 11,
           "1623940200000": 11.483333333333329,
           "1623942000000": 12,
           "1623943800000": 12,
           "1623945600000": 12
          }
         },
         "type": "Feature"
        },
        {
         "geometry": {
          "coordinates": [
           1.147,
           53.135
          ],
          "type": "Point"
         },
         "id": "10239",
         "properties": {
          "fuel_type": "wind",
          "latitude": 53.135,
          "longitude": 1.147,
          "name": "Sheringham Shoals Windfarm  1",
          "output": {
           "1623936600000": 62.483333333333334,
           "1623938400000": 63,
           "1623940200000": 67.83333333333333,
           "1623942000000": 73,
           "1623943800000": 73,
           "1623945600000": 73
          }
         },
         "type": "Feature"
        },
        {
         "geometry": {
          "coordinates": [
           -3.89086,
           58.385271
          ],
          "type": "Point"
         },
         "id": "10240",
         "properties": {
          "fuel_type": "wind",
          "latitude": 58.385271,
          "longitude": -3.89086,
          "name": "Strathy North Wind Farm 1",
          "output": {
           "1623936600000": 11.483333333333329,
           "1623938400000": 12,
           "1623940200000": 13,
           "1623942000000": 14,
           "1623943800000": 15,
           "1623945600000": 15
          }
         },
         "type": "Feature"
        },
        {
         "geometry": {
          "coordinates": [
           1.461182,
           51.385495
          ],
          "type": "Point"
         },
         "id": "10242",
         "properties": {
          "fuel_type": "wind",
          "latitude": 51.385495,
          "longitude": 1.461182,
          "name": "Thanet Offshore Windfarm",
          "output": {
           "1623936600000": 10,
           "1623938400000": 9.533333333333331,
           "1623940200000": 7.533333333333333,
           "1623942000000": 4.533333333333333,
           "1623943800000": 4,
           "1623945600000": 4
          }
         },
         "type": "Feature"
        },
        {
         "geometry": {
          "coordinates": [
           -2.81,
           55.77
          ],
          "type": "Point"
         },
         "id": "10243",
         "properties": {
          "fuel_type": "wind",
          "latitude": 55.77,
          "longitude": -2.81,
          "name": "Toddleburn Wind Farm",
          "output": {
           "1623936600000": 2,
           "1623938400000": 2,
           "1623940200000": 3,
           "1623942000000": 3,
           "1623943800000": 3,
           "1623945600000": 4
          }
         },
         "type": "Feature"
        },
        {
         "geometry": {
          "coordinates": [
           -2.581787,
           56.662265000000005
          ],
          "type": "Point"
         },
         "id": "10244",
         "properties": {
          "fuel_type": "wind",
          "latitude": 56.662265000000005,
          "longitude": -2.581787,
          "name": "Tullo",
          "output": {
           "1623936600000": 3.4833333333333334,
           "1623938400000": 4,
           "1623940200000": 4.483333333333333,
           "1623942000000": 4.033333333333333,
           "1623943800000": 3.4833333333333334,
           "1623945600000": 4
          }
         },
         "type": "Feature"
        },
        {
         "geometry": {
          "coordinates": [
           -3.603516,
           53.981935
          ],
          "type": "Point"
         },
         "id": "10245",
         "properties": {
          "fuel_type": "wind",
          "latitude": 53.981935,
          "longitude": -3.603516,
          "name": "Walney Offshore Windfarm (Extension)",
          "output": {
           "1623936600000": 122.13333333333334,
           "1623938400000": 114.13333333333334,
           "1623940200000": 103.71666666666667,
           "1623942000000": 92.65,
           "1623943800000": 90.41666666666667,
           "1623945600000": 93
          }
         },
         "type": "Feature"
        },
        {
         "geometry": {
          "coordinates": [
           -3.522,
           54.044
          ],
          "type": "Point"
         },
         "id": "10246",
         "properties": {
          "fuel_type": "wind",
          "latitude": 54.044,
          "longitude": -3.522,
          "name": "Walney Offshore Windfarm  1",
          "output": {
           "1623936600000": 19.55,
           "1623938400000": 17.516666666666666,
           "1623940200000": 16.033333333333335,
           "1623942000000": 14.516666666666664,
           "1623943800000": 14.483333333333333,
           "1623945600000": 15
          }
         },
         "type": "Feature"
        },
        {
         "geometry": {
          "coordinates": [
           0.6811520000000001,
           53.943155
          ],
          "type": "Point"
         },
         "id": "10248",
         "properties": {
          "fuel_type": "wind",
          "latitude": 53.943155,
          "longitude": 0.6811520000000001,
          "name": "Westermost Rough Windfarm",
          "output": {
           "1623936600000": 102.51666666666667,
           "1623938400000": 103.45,
           "1623940200000": 100.65,
           "1623942000000": 96.96666666666667,
           "1623943800000": 96.55,
           "1623945600000": 95
          }
         },
         "type": "Feature"
        },
        {
         "geometry": {
          "coordinates": [
           -3.768311,
           53.923751
          ],
          "type": "Point"
         },
         "id": "10250",
         "properties": {
          "fuel_type": "wind",
          "latitude": 53.923751,
          "longitude": -3.768311,
          "name": "West of Duddon Sands",
          "output": {
           "1623936600000": 45.733333333333334,
           "1623938400000": 51.1,
           "1623940200000": 50.9,
           "1623942000000": 56.9,
           "1623943800000": 60,
           "1623945600000": 60
          }
         },
         "type": "Feature"
        },
        {
         "geometry": {
          "coordinates": [
           -4.042969,
           55.702355
          ],
          "type": "Point"
         },
         "id": "10252",
         "properties": {
          "fuel_type": "wind",
          "latitude": 55.702355,
          "longitude": -4.042969,
          "name": "Whitelee Wind Farm",
          "output": {
           "1623936600000": 18,
           "1623938400000": 29.6,
           "1623940200000": 30,
           "1623942000000": 28.566666666666666,
           "1623943800000": 28,
           "1623945600000": 28
          }
         },
         "type": "Feature"
        },
        {
         "geometry": {
          "coordinates": [
           -4.042969,
           55.702355
          ],
          "type": "Point"
         },
         "id": "10253",
         "properties": {
          "fuel_type": "wind",
          "latitude": 55.702355,
          "longitude": -4.042969,
          "name": "Whitelee Windfarm Extension",
          "output": {
           "1623936600000": 15.933333333333334,
           "1623938400000": 21.8,
           "1623940200000": 22,
           "1623942000000": 21.499999999999993,
           "1623943800000": 21.033333333333335,
           "1623945600000": 21
          }
         },
         "type": "Feature"
        },
        {
         "geometry": {
          "coordinates": [
           -0.201175,
           51.982208
          ],
          "type": "Point"
         },
         "id": "10279",
         "properties": {
          "fuel_type": "gas",
          "latitude": 51.982208,
          "longitude": -0.201175,
          "name": "Letchworth",
          "output": {
           "1623936600000": 0,
           "1623938400000": 0,
           "1623940200000": 0,
           "1623942000000": 0,
           "1623943800000": 0.6,
           "1623945600000": 12
          }
         },
         "type": "Feature"
        },
        {
         "geometry": {
          "coordinates": [
           -4.461346,
           57.09986899999999
          ],
          "type": "Point"
         },
         "id": "10284",
         "properties": {
          "fuel_type": "wind",
          "latitude": 57.09986899999999,
          "longitude": -4.461346,
          "name": "Stronelairg Windfarm",
          "output": {
           "1623936600000": 32.516666666666666,
           "1623938400000": 32,
           "1623940200000": 31,
           "1623942000000": 31,
           "1623943800000": 31,
           "1623945600000": 30
          }
         },
         "type": "Feature"
        }
       ],
       "timeseries": [
        1623936600000,
        1623938400000,
        1623940200000,
        1623942000000,
        1623943800000,
        1623945600000
       ],
       "type": "FeatureCollection"
      },
      "text/plain": [
       "<IPython.core.display.JSON object>"
      ]
     },
     "execution_count": 37,
     "metadata": {
      "application/json": {
       "expanded": false,
       "root": "root"
      }
     },
     "output_type": "execute_result"
    }
   ],
   "source": [
    "geojson = construct_map_geojson(df_PN, df_powerdict)\n",
    "\n",
    "JSON(geojson)"
   ]
  },
  {
   "cell_type": "code",
   "execution_count": null,
   "id": "2715ee2e-8c9a-4c16-b19a-c44016bfe228",
   "metadata": {},
   "outputs": [],
   "source": []
  },
  {
   "cell_type": "code",
   "execution_count": 112,
   "id": "f3e6118f-d30d-428f-af36-94ab4d57207e",
   "metadata": {},
   "outputs": [],
   "source": [
    "#exports\n",
    "def get_nearest_dt_idx(geojson, nearest_half_hour):\n",
    "    ts = pd.to_datetime([x*1000000 for x in geojson['timeseries']]).tz_localize('UTC').tz_convert('Europe/London')\n",
    "    nearest_hh_match = [i for i, dt in enumerate(ts) if dt==nearest_half_hour]\n",
    "    \n",
    "    if len(nearest_hh_match) == 1:\n",
    "        return nearest_hh_match[0]\n",
    "    else:\n",
    "        return len(ts)-1\n",
    "    \n",
    "def generate_map_js(df_PN, df_powerdict, js_template_fp='templates/map.js', js_docs_fp='docs/js/map.js'):\n",
    "    geojson = construct_map_geojson(df_PN, df_powerdict)\n",
    "    \n",
    "    nearest_half_hour = (pd.Timestamp.now().tz_localize('Europe/London')+pd.Timedelta(minutes=15)).round('30min')\n",
    "    nearest_dt_idx = get_nearest_dt_idx(geojson, nearest_half_hour)\n",
    "    \n",
    "    rendered_map_js = Template(open(js_template_fp).read()).render(\n",
    "        zoom=5,\n",
    "        start_idx=nearest_dt_idx,\n",
    "        center=[53.96, -3.22],\n",
    "        geojson_features=str(geojson).replace('None', 'null')\n",
    "    )\n",
    "\n",
    "    with open(js_docs_fp, 'w', encoding='utf8') as fp:\n",
    "        fp.write(rendered_map_js)\n",
    "        \n",
    "    return"
   ]
  },
  {
   "cell_type": "code",
   "execution_count": 121,
   "id": "700598e6-ed8b-43ab-bcd1-f756aad002fb",
   "metadata": {
    "tags": []
   },
   "outputs": [],
   "source": [
    "generate_map_js(df_PN, df_powerdict, js_template_fp='../templates/map.js', js_docs_fp='../docs/js/map.js')"
   ]
  },
  {
   "cell_type": "code",
   "execution_count": null,
   "id": "3183f1f4-755e-41f0-a0fa-ff28103c82e9",
   "metadata": {},
   "outputs": [],
   "source": []
  },
  {
   "cell_type": "code",
   "execution_count": 56,
   "id": "364d3a02-e60e-4c1a-b65c-aa6639ab9123",
   "metadata": {},
   "outputs": [],
   "source": [
    "#exports\n",
    "def generate_map_md(md_template_fp='templates/map.md', md_docs_fp='docs/map.md'):\n",
    "    update_date = pd.Timestamp.now().round('5min').strftime('%Y-%m-%d %H:%M')\n",
    "    rendered_map_md = Template(open(md_template_fp).read()).render({'update_date': update_date})\n",
    "\n",
    "    with open(md_docs_fp, 'w', encoding='utf8') as fp:\n",
    "        fp.write(rendered_map_md)\n",
    "        \n",
    "    return"
   ]
  },
  {
   "cell_type": "code",
   "execution_count": 118,
   "id": "8d89d5da-a870-4bff-a989-b9f5df99f23b",
   "metadata": {},
   "outputs": [],
   "source": [
    "generate_map_md(md_template_fp='../templates/map.md', md_docs_fp='../docs/map.md')"
   ]
  },
  {
   "cell_type": "code",
   "execution_count": null,
   "id": "89300981-825e-4ec0-871e-2ad9222698b8",
   "metadata": {},
   "outputs": [],
   "source": []
  },
  {
   "cell_type": "code",
   "execution_count": 22,
   "id": "02de7fd8-b91e-4c5d-b443-8e63850b875a",
   "metadata": {},
   "outputs": [],
   "source": [
    "#exports\n",
    "app = typer.Typer()"
   ]
  },
  {
   "cell_type": "markdown",
   "id": "26523e15-5258-4b39-9299-65f363ba388c",
   "metadata": {},
   "source": [
    "<br>\n",
    "\n",
    "`python -m ElexonDataPortal.dev.mapgen`"
   ]
  },
  {
   "cell_type": "code",
   "execution_count": 114,
   "id": "7f620c88-847a-42b0-9efc-5a7eac058dba",
   "metadata": {},
   "outputs": [],
   "source": [
    "#exports\n",
    "@app.command()\n",
    "def generate_map(\n",
    "    api_key: str=None,\n",
    "    powerdict_url: str='https://raw.githubusercontent.com/OSUKED/Power-Station-Dictionary/main/data/output/power_stations.csv',\n",
    "    js_template_fp: str='templates/map.js', \n",
    "    js_docs_fp: str='docs/js/map.js', \n",
    "    md_template_fp: str='templates/map.md', \n",
    "    md_docs_fp: str='docs/map.md'\n",
    "):\n",
    "    if api_key is None:\n",
    "        assert 'BMRS_API_KEY' in os.environ.keys(), 'If the `api_key` is not specified during client initialisation then it must be set to as the environment variable `BMRS_API_KEY`'\n",
    "        api_key = os.environ['BMRS_API_KEY']\n",
    "            \n",
    "    df_PN = get_latest_PN_df(api_key)\n",
    "    df_powerdict = pd.read_csv(powerdict_url)\n",
    "    \n",
    "    generate_map_js(df_PN, df_powerdict, js_template_fp=js_template_fp, js_docs_fp=js_docs_fp)\n",
    "    generate_map_md(md_template_fp=md_template_fp, md_docs_fp=md_docs_fp)\n",
    "    \n",
    "    return "
   ]
  },
  {
   "cell_type": "code",
   "execution_count": 115,
   "id": "d32137a2-844d-4c4b-bfbc-6a95011251b7",
   "metadata": {
    "tags": []
   },
   "outputs": [
    {
     "name": "stderr",
     "output_type": "stream",
     "text": [
      "27it [02:15,  2.56s/it]c:\\users\\ayrto\\desktop\\phd\\data\\bmrs\\elexon-bmrs-api-wrapper\\ElexonDataPortal\\dev\\utils.py:27: UserWarning: Data request was succesful but no content was returned\n",
      "  warn(f'Data request was succesful but no content was returned')\n",
      "31it [02:16,  4.39s/it]\n",
      "100%|██████████████████████████████████████████████████████████████████████████████| 1365/1365 [00:33<00:00, 41.27it/s]\n"
     ]
    }
   ],
   "source": [
    "generate_map(\n",
    "    api_key=api_key,\n",
    "    js_template_fp='../templates/map.js', \n",
    "    js_docs_fp='../docs/js/map.js', \n",
    "    md_template_fp='../templates/map.md', \n",
    "    md_docs_fp='../docs/map.md'\n",
    ")"
   ]
  },
  {
   "cell_type": "code",
   "execution_count": null,
   "id": "d8ba9fad-e4b5-4ad9-8bba-86dbc038884c",
   "metadata": {},
   "outputs": [],
   "source": []
  },
  {
   "cell_type": "code",
   "execution_count": 27,
   "id": "7af7684d-2572-4d31-8d91-1c5e04120ff7",
   "metadata": {},
   "outputs": [],
   "source": [
    "#exports\n",
    "if __name__ == '__main__' and '__file__' in globals():\n",
    "    app()"
   ]
  },
  {
   "cell_type": "code",
   "execution_count": null,
   "id": "4eb33840-532f-489d-83f6-1c7bedc6ea4a",
   "metadata": {},
   "outputs": [],
   "source": []
  },
  {
   "cell_type": "code",
   "execution_count": 24,
   "id": "6308fc6f-d44d-4938-b315-f964a6049161",
   "metadata": {},
   "outputs": [
    {
     "name": "stdout",
     "output_type": "stream",
     "text": [
      "Converted 09-map-gen.ipynb.\n"
     ]
    }
   ],
   "source": [
    "#hide\n",
    "from ElexonDataPortal.dev.nbdev import notebook2script\n",
    "notebook2script('09-map-gen.ipynb')"
   ]
  }
 ],
 "metadata": {
  "kernelspec": {
   "display_name": "BMRS",
   "language": "python",
   "name": "bmrs"
  },
  "language_info": {
   "codemirror_mode": {
    "name": "ipython",
    "version": 3
   },
   "file_extension": ".py",
   "mimetype": "text/x-python",
   "name": "python",
   "nbconvert_exporter": "python",
   "pygments_lexer": "ipython3",
   "version": "3.9.4"
  }
 },
 "nbformat": 4,
 "nbformat_minor": 5
}
