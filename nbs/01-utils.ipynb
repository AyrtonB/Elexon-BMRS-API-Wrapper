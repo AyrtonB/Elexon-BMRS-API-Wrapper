{
 "cells": [
  {
   "cell_type": "code",
   "execution_count": 1,
   "id": "3af11175-6830-4f62-8774-7d77b93e4cc8",
   "metadata": {},
   "outputs": [],
   "source": [
    "#hide\n",
    "#default_exp dev.utils"
   ]
  },
  {
   "cell_type": "markdown",
   "id": "9eece896-76aa-4899-838c-3f3e9e82445e",
   "metadata": {},
   "source": [
    "# Core Utilities"
   ]
  },
  {
   "cell_type": "markdown",
   "id": "8b0cccd6-d3f4-4446-bae7-5d47df0b15d1",
   "metadata": {},
   "source": [
    "<br>\n",
    "\n",
    "### Imports"
   ]
  },
  {
   "cell_type": "code",
   "execution_count": 2,
   "id": "fa431cf3-5d3f-495d-961a-94a1f0fcbd33",
   "metadata": {},
   "outputs": [],
   "source": [
    "#exports\n",
    "import pandas as pd\n",
    "import yaml\n",
    "import xmltodict\n",
    "from collections import OrderedDict\n",
    "from warnings import warn\n",
    "from fastcore.foundation import Config, Path\n",
    "from nbdev import export\n",
    "import re\n",
    "import os"
   ]
  },
  {
   "cell_type": "code",
   "execution_count": 3,
   "id": "93172df8-b8c2-40d8-b9f6-e119293b571c",
   "metadata": {},
   "outputs": [],
   "source": [
    "from IPython.display import JSON\n",
    "from IPython.core.magic import register_cell_magic\n",
    "\n",
    "@register_cell_magic('warn_exceptions')\n",
    "def warn_exceptions(line, cell):\n",
    "    try:\n",
    "        exec(cell)\n",
    "    except Exception as e:\n",
    "        warn(str(e))"
   ]
  },
  {
   "cell_type": "code",
   "execution_count": null,
   "id": "403ab274-9371-419a-bd26-cfd02ee84fd7",
   "metadata": {},
   "outputs": [],
   "source": []
  },
  {
   "cell_type": "code",
   "execution_count": 4,
   "id": "3edeb09b-3b9e-4c22-b94c-23034be48433",
   "metadata": {},
   "outputs": [],
   "source": [
    "import os\n",
    "from dotenv import load_dotenv\n",
    "\n",
    "assert load_dotenv('../.env'), 'Environment variables could not be loaded'\n",
    "\n",
    "api_key = os.environ['BMRS_API_KEY']"
   ]
  },
  {
   "cell_type": "code",
   "execution_count": null,
   "id": "e3fb5cf5-df28-4f2a-976a-bee19c592d09",
   "metadata": {},
   "outputs": [],
   "source": []
  },
  {
   "cell_type": "code",
   "execution_count": 5,
   "id": "d9993955-7165-4cfa-94a7-db0e4199100f",
   "metadata": {},
   "outputs": [
    {
     "data": {
      "text/plain": [
       "<Response [200]>"
      ]
     },
     "execution_count": 5,
     "metadata": {},
     "output_type": "execute_result"
    }
   ],
   "source": [
    "import requests\n",
    "\n",
    "r = requests.get(f'https://api.bmreports.com/BMRS/B1610/v2?ServiceType=XML&Period=1&APIKey={api_key}&SettlementDate=2020-01-01')\n",
    "\n",
    "r"
   ]
  },
  {
   "cell_type": "code",
   "execution_count": null,
   "id": "b24c927f-9fd5-4b96-894b-d845e394921e",
   "metadata": {},
   "outputs": [],
   "source": []
  },
  {
   "cell_type": "code",
   "execution_count": 6,
   "id": "d91acb54-f618-47e7-ab19-3d80a33f683e",
   "metadata": {},
   "outputs": [],
   "source": [
    "#exports\n",
    "class RequestError(Exception):\n",
    "    def __init__(self, http_code, error_type, description):\n",
    "        self.message = f'{http_code} - {error_type}\\n{description}'\n",
    "        \n",
    "    def __str__(self):\n",
    "        return self.message"
   ]
  },
  {
   "cell_type": "code",
   "execution_count": 7,
   "id": "85330b25-64af-468d-87f8-7b208e41b597",
   "metadata": {},
   "outputs": [
    {
     "name": "stderr",
     "output_type": "stream",
     "text": [
      "<ipython-input-3-72f956aef7ec>:9: UserWarning: 400 - Bad Request\n",
      "You did something wrong\n",
      "  warn(str(e))\n"
     ]
    }
   ],
   "source": [
    "%%warn_exceptions\n",
    "\n",
    "raise RequestError('400', 'Bad Request', 'You did something wrong')"
   ]
  },
  {
   "cell_type": "code",
   "execution_count": null,
   "id": "b009bfd1-8556-461d-bbb1-3b2601396a5c",
   "metadata": {},
   "outputs": [],
   "source": []
  },
  {
   "cell_type": "code",
   "execution_count": 8,
   "id": "a5a8cf29-e265-4985-863d-8413c875867a",
   "metadata": {},
   "outputs": [],
   "source": [
    "#exports\n",
    "def check_status(r):\n",
    "    r_metadata = xmltodict.parse(r.text)['response']['responseMetadata']\n",
    "    \n",
    "    if r_metadata['httpCode'] == '204':\n",
    "        warn(f'Data request was succesful but no content was returned')\n",
    "        return pd.DataFrame()\n",
    "        \n",
    "    elif r_metadata['httpCode'] != '200':\n",
    "        raise RequestError(r_metadata['httpCode'], r_metadata['errorType'], r_metadata['description'])\n",
    "        \n",
    "    return None\n",
    "\n",
    "def check_capping(r):\n",
    "    r_metadata = xmltodict.parse(r.text)['response']['responseMetadata']\n",
    "    \n",
    "    if 'cappingApplied' in r_metadata.keys():\n",
    "        if r_metadata['cappingApplied'] == 'Yes':\n",
    "            capping_applied = True\n",
    "        else:\n",
    "            capping_applied = False\n",
    "    else:\n",
    "        capping_applied = 'Could not be determined'\n",
    "        \n",
    "    return capping_applied"
   ]
  },
  {
   "cell_type": "code",
   "execution_count": 9,
   "id": "e6da64c0-c668-4fc5-9f07-9c201fb0bea2",
   "metadata": {},
   "outputs": [
    {
     "data": {
      "text/plain": [
       "False"
      ]
     },
     "execution_count": 9,
     "metadata": {},
     "output_type": "execute_result"
    }
   ],
   "source": [
    "check_status(r)\n",
    "check_capping(r)"
   ]
  },
  {
   "cell_type": "code",
   "execution_count": null,
   "id": "6fbe0714-4ef5-45c1-82b3-f7a476218e7e",
   "metadata": {},
   "outputs": [],
   "source": []
  },
  {
   "cell_type": "code",
   "execution_count": 10,
   "id": "12d40933-2da7-42e4-ab45-39da81355a98",
   "metadata": {},
   "outputs": [],
   "source": [
    "#exports\n",
    "def expand_cols(df, cols_2_expand=[]):\n",
    "    if df.size == 0:\n",
    "        return df\n",
    "    \n",
    "    for col in cols_2_expand:\n",
    "        new_df_cols = df[col].apply(pd.Series)\n",
    "\n",
    "        df[new_df_cols.columns] = new_df_cols\n",
    "        df = df.drop(columns=col)\n",
    "\n",
    "    s_cols_2_expand = df.iloc[0].apply(type).isin([OrderedDict, dict, list, tuple])\n",
    "\n",
    "    if s_cols_2_expand.sum() > 0:\n",
    "        cols_2_expand = s_cols_2_expand[s_cols_2_expand].index\n",
    "        df = expand_cols(df, cols_2_expand)\n",
    "\n",
    "    return df\n",
    "    \n",
    "def parse_xml_response(r):\n",
    "    r_dict = xmltodict.parse(r.text)\n",
    "\n",
    "    status_check_response = check_status(r)\n",
    "    if status_check_response is not None:\n",
    "        return status_check_response\n",
    "\n",
    "    capping_applied = check_capping(r)\n",
    "\n",
    "    data_content = r_dict['response']['responseBody']['responseList']['item']\n",
    "\n",
    "    if isinstance(data_content, list):\n",
    "        df = expand_cols(pd.DataFrame(data_content))\n",
    "    elif isinstance(data_content, OrderedDict):\n",
    "        df = pd.DataFrame(pd.Series(data_content)).T\n",
    "    else:\n",
    "        raise ValueError('The returned `data_content` must be one of: `list` or `OrderedDict`')\n",
    "\n",
    "    return df"
   ]
  },
  {
   "cell_type": "code",
   "execution_count": 11,
   "id": "047032b8-64fc-4ced-b0a9-0e389a4e003b",
   "metadata": {},
   "outputs": [
    {
     "data": {
      "text/html": [
       "<div>\n",
       "<style scoped>\n",
       "    .dataframe tbody tr th:only-of-type {\n",
       "        vertical-align: middle;\n",
       "    }\n",
       "\n",
       "    .dataframe tbody tr th {\n",
       "        vertical-align: top;\n",
       "    }\n",
       "\n",
       "    .dataframe thead th {\n",
       "        text-align: right;\n",
       "    }\n",
       "</style>\n",
       "<table border=\"1\" class=\"dataframe\">\n",
       "  <thead>\n",
       "    <tr style=\"text-align: right;\">\n",
       "      <th></th>\n",
       "      <th>documentType</th>\n",
       "      <th>businessType</th>\n",
       "      <th>processType</th>\n",
       "      <th>timeSeriesID</th>\n",
       "      <th>curveType</th>\n",
       "      <th>settlementDate</th>\n",
       "      <th>powerSystemResourceType</th>\n",
       "      <th>registeredResourceEICCode</th>\n",
       "      <th>marketGenerationUnitEICCode</th>\n",
       "      <th>marketGenerationBMUId</th>\n",
       "      <th>...</th>\n",
       "      <th>bMUnitID</th>\n",
       "      <th>nGCBMUnitID</th>\n",
       "      <th>activeFlag</th>\n",
       "      <th>documentID</th>\n",
       "      <th>documentRevNum</th>\n",
       "      <th>resolution</th>\n",
       "      <th>start</th>\n",
       "      <th>end</th>\n",
       "      <th>settlementPeriod</th>\n",
       "      <th>quantity</th>\n",
       "    </tr>\n",
       "  </thead>\n",
       "  <tbody>\n",
       "    <tr>\n",
       "      <th>0</th>\n",
       "      <td>Actual generation</td>\n",
       "      <td>Production</td>\n",
       "      <td>Realised</td>\n",
       "      <td>ELX-EMFIP-AGOG-TS-239</td>\n",
       "      <td>Sequential fixed size block</td>\n",
       "      <td>2020-01-01</td>\n",
       "      <td>Generation</td>\n",
       "      <td>48W00000COUWW-16</td>\n",
       "      <td>48W00000COUWW-16</td>\n",
       "      <td>T_COUWW-1</td>\n",
       "      <td>...</td>\n",
       "      <td>T_COUWW-1</td>\n",
       "      <td>COUWW-1</td>\n",
       "      <td>Y</td>\n",
       "      <td>ELX-EMFIP-AGOG-22495386</td>\n",
       "      <td>1</td>\n",
       "      <td>PT30M</td>\n",
       "      <td>2020-01-01</td>\n",
       "      <td>2020-01-01</td>\n",
       "      <td>1</td>\n",
       "      <td>3.246</td>\n",
       "    </tr>\n",
       "    <tr>\n",
       "      <th>1</th>\n",
       "      <td>Actual generation</td>\n",
       "      <td>Production</td>\n",
       "      <td>Realised</td>\n",
       "      <td>ELX-EMFIP-AGOG-TS-281</td>\n",
       "      <td>Sequential fixed size block</td>\n",
       "      <td>2020-01-01</td>\n",
       "      <td>Generation</td>\n",
       "      <td>48W100000GRAI-6N</td>\n",
       "      <td>48W100000GRAI-6N</td>\n",
       "      <td>T_GRAI-6</td>\n",
       "      <td>...</td>\n",
       "      <td>T_GRAI-6</td>\n",
       "      <td>GRAI-6</td>\n",
       "      <td>Y</td>\n",
       "      <td>ELX-EMFIP-AGOG-22495386</td>\n",
       "      <td>1</td>\n",
       "      <td>PT30M</td>\n",
       "      <td>2020-01-01</td>\n",
       "      <td>2020-01-01</td>\n",
       "      <td>1</td>\n",
       "      <td>226.4</td>\n",
       "    </tr>\n",
       "    <tr>\n",
       "      <th>2</th>\n",
       "      <td>Actual generation</td>\n",
       "      <td>Production</td>\n",
       "      <td>Realised</td>\n",
       "      <td>ELX-EMFIP-AGOG-TS-215</td>\n",
       "      <td>Sequential fixed size block</td>\n",
       "      <td>2020-01-01</td>\n",
       "      <td>Generation</td>\n",
       "      <td>48W000CAS-GAR01H</td>\n",
       "      <td>48W000CAS-GAR01H</td>\n",
       "      <td>M_CAS-GAR01</td>\n",
       "      <td>...</td>\n",
       "      <td>M_CAS-GAR01</td>\n",
       "      <td>CAS-GAR01</td>\n",
       "      <td>Y</td>\n",
       "      <td>ELX-EMFIP-AGOG-22495386</td>\n",
       "      <td>1</td>\n",
       "      <td>PT30M</td>\n",
       "      <td>2020-01-01</td>\n",
       "      <td>2020-01-01</td>\n",
       "      <td>1</td>\n",
       "      <td>34.066</td>\n",
       "    </tr>\n",
       "    <tr>\n",
       "      <th>3</th>\n",
       "      <td>Actual generation</td>\n",
       "      <td>Production</td>\n",
       "      <td>Realised</td>\n",
       "      <td>ELX-EMFIP-AGOG-TS-289</td>\n",
       "      <td>Sequential fixed size block</td>\n",
       "      <td>2020-01-01</td>\n",
       "      <td>Generation</td>\n",
       "      <td>48W0000GYMRO-15O</td>\n",
       "      <td>48W0000GYMRO-15O</td>\n",
       "      <td>T_GYMR-15</td>\n",
       "      <td>...</td>\n",
       "      <td>T_GYMR-15</td>\n",
       "      <td>GYMRO-15</td>\n",
       "      <td>Y</td>\n",
       "      <td>ELX-EMFIP-AGOG-22495386</td>\n",
       "      <td>1</td>\n",
       "      <td>PT30M</td>\n",
       "      <td>2020-01-01</td>\n",
       "      <td>2020-01-01</td>\n",
       "      <td>1</td>\n",
       "      <td>19.1</td>\n",
       "    </tr>\n",
       "    <tr>\n",
       "      <th>4</th>\n",
       "      <td>Actual generation</td>\n",
       "      <td>Production</td>\n",
       "      <td>Realised</td>\n",
       "      <td>ELX-EMFIP-AGOG-TS-169</td>\n",
       "      <td>Sequential fixed size block</td>\n",
       "      <td>2020-01-01</td>\n",
       "      <td>Generation</td>\n",
       "      <td>48W00000BRDUW-1V</td>\n",
       "      <td>48W00000BRDUW-1V</td>\n",
       "      <td>E_BRDUW-1</td>\n",
       "      <td>...</td>\n",
       "      <td>E_BRDUW-1</td>\n",
       "      <td>BRDUW-1</td>\n",
       "      <td>Y</td>\n",
       "      <td>ELX-EMFIP-AGOG-22495386</td>\n",
       "      <td>1</td>\n",
       "      <td>PT30M</td>\n",
       "      <td>2020-01-01</td>\n",
       "      <td>2020-01-01</td>\n",
       "      <td>1</td>\n",
       "      <td>27.688</td>\n",
       "    </tr>\n",
       "  </tbody>\n",
       "</table>\n",
       "<p>5 rows × 21 columns</p>\n",
       "</div>"
      ],
      "text/plain": [
       "        documentType businessType processType           timeSeriesID  \\\n",
       "0  Actual generation   Production    Realised  ELX-EMFIP-AGOG-TS-239   \n",
       "1  Actual generation   Production    Realised  ELX-EMFIP-AGOG-TS-281   \n",
       "2  Actual generation   Production    Realised  ELX-EMFIP-AGOG-TS-215   \n",
       "3  Actual generation   Production    Realised  ELX-EMFIP-AGOG-TS-289   \n",
       "4  Actual generation   Production    Realised  ELX-EMFIP-AGOG-TS-169   \n",
       "\n",
       "                     curveType settlementDate powerSystemResourceType  \\\n",
       "0  Sequential fixed size block     2020-01-01              Generation   \n",
       "1  Sequential fixed size block     2020-01-01              Generation   \n",
       "2  Sequential fixed size block     2020-01-01              Generation   \n",
       "3  Sequential fixed size block     2020-01-01              Generation   \n",
       "4  Sequential fixed size block     2020-01-01              Generation   \n",
       "\n",
       "  registeredResourceEICCode marketGenerationUnitEICCode marketGenerationBMUId  \\\n",
       "0          48W00000COUWW-16            48W00000COUWW-16             T_COUWW-1   \n",
       "1          48W100000GRAI-6N            48W100000GRAI-6N              T_GRAI-6   \n",
       "2          48W000CAS-GAR01H            48W000CAS-GAR01H           M_CAS-GAR01   \n",
       "3          48W0000GYMRO-15O            48W0000GYMRO-15O             T_GYMR-15   \n",
       "4          48W00000BRDUW-1V            48W00000BRDUW-1V             E_BRDUW-1   \n",
       "\n",
       "   ...     bMUnitID nGCBMUnitID activeFlag               documentID  \\\n",
       "0  ...    T_COUWW-1     COUWW-1          Y  ELX-EMFIP-AGOG-22495386   \n",
       "1  ...     T_GRAI-6      GRAI-6          Y  ELX-EMFIP-AGOG-22495386   \n",
       "2  ...  M_CAS-GAR01   CAS-GAR01          Y  ELX-EMFIP-AGOG-22495386   \n",
       "3  ...    T_GYMR-15    GYMRO-15          Y  ELX-EMFIP-AGOG-22495386   \n",
       "4  ...    E_BRDUW-1     BRDUW-1          Y  ELX-EMFIP-AGOG-22495386   \n",
       "\n",
       "  documentRevNum resolution       start         end settlementPeriod quantity  \n",
       "0              1      PT30M  2020-01-01  2020-01-01                1    3.246  \n",
       "1              1      PT30M  2020-01-01  2020-01-01                1    226.4  \n",
       "2              1      PT30M  2020-01-01  2020-01-01                1   34.066  \n",
       "3              1      PT30M  2020-01-01  2020-01-01                1     19.1  \n",
       "4              1      PT30M  2020-01-01  2020-01-01                1   27.688  \n",
       "\n",
       "[5 rows x 21 columns]"
      ]
     },
     "execution_count": 11,
     "metadata": {},
     "output_type": "execute_result"
    }
   ],
   "source": [
    "df = parse_xml_response(r)\n",
    "\n",
    "df.head()"
   ]
  },
  {
   "cell_type": "code",
   "execution_count": null,
   "id": "8adcb8b8-a55c-4747-abf7-dee079251c04",
   "metadata": {
    "tags": []
   },
   "outputs": [],
   "source": []
  },
  {
   "cell_type": "code",
   "execution_count": 12,
   "id": "5b0d53e3-d213-4d7b-a478-81c9b3fe0c92",
   "metadata": {},
   "outputs": [],
   "source": [
    "#exports\n",
    "def dt_rng_to_SPs(\n",
    "    start_date: pd.Timestamp, \n",
    "    end_date: pd.Timestamp, \n",
    "    freq: str='30T', \n",
    "    tz: str='Europe/London'\n",
    "):\n",
    "    dt_rng = pd.date_range(start_date, end_date, freq=freq, tz=tz)\n",
    "\n",
    "    SPs = (2*(dt_rng.hour + dt_rng.minute/60) + 1).astype(int)\n",
    "    dt_strs = dt_rng.strftime('%Y-%m-%d')\n",
    "\n",
    "    df_dates_SPs = pd.DataFrame({'date':dt_strs, 'SP':SPs}, index=dt_rng)\n",
    "\n",
    "    return df_dates_SPs\n",
    "\n",
    "def parse_local_datetime(\n",
    "    df: pd.DataFrame, \n",
    "    dt_col: str='settlementDate', \n",
    "    SP_col: str='settlementPeriod',\n",
    "    freq: str='30T', \n",
    "    tz: str='Europe/London'\n",
    ") -> pd.DataFrame:\n",
    "    start_date = pd.to_datetime(df[dt_col].min()) - pd.Timedelta(days=2)\n",
    "    end_date = pd.to_datetime(df[dt_col].max()) + pd.Timedelta(days=2)\n",
    "\n",
    "    df_dates_SPs = dt_rng_to_SPs(start_date, end_date, freq=freq, tz=tz)\n",
    "    date_SP_to_ts = {v: k for k, v in df_dates_SPs.apply(tuple, axis=1).to_dict().items()}\n",
    "\n",
    "    df['local_datetime'] = df[[dt_col, SP_col]].apply(tuple, axis=1).map(date_SP_to_ts)\n",
    "    \n",
    "    return df"
   ]
  },
  {
   "cell_type": "code",
   "execution_count": 13,
   "id": "f130df98-6fd8-4a81-a4aa-e475893906a5",
   "metadata": {},
   "outputs": [
    {
     "data": {
      "text/plain": [
       "0   2020-01-01 00:00:00+00:00\n",
       "1   2020-01-01 00:00:00+00:00\n",
       "2   2020-01-01 00:00:00+00:00\n",
       "3   2020-01-01 00:00:00+00:00\n",
       "4   2020-01-01 00:00:00+00:00\n",
       "Name: local_datetime, dtype: datetime64[ns, Europe/London]"
      ]
     },
     "execution_count": 13,
     "metadata": {},
     "output_type": "execute_result"
    }
   ],
   "source": [
    "df = parse_local_datetime(df)\n",
    "\n",
    "df['local_datetime'].head()"
   ]
  },
  {
   "cell_type": "markdown",
   "id": "66c5bce2-9f7d-49f8-94c9-52fd1c3b0e0b",
   "metadata": {},
   "source": [
    "<br>\n",
    "\n",
    "### NB-Dev Modification"
   ]
  },
  {
   "cell_type": "code",
   "execution_count": 14,
   "id": "8932716a-324b-4235-830a-6e1366857d45",
   "metadata": {},
   "outputs": [],
   "source": [
    "#exports\n",
    "from fastcore.foundation import Config\n",
    "import nbdev\n",
    "import re\n",
    "\n",
    "_re_version = re.compile('^__version__\\s*=.*$', re.MULTILINE)\n",
    "\n",
    "def update_version():\n",
    "    \"Add or update `__version__` in the main `__init__.py` of the library\"\n",
    "    fname = Config().path(\"lib_path\")/'__init__.py'\n",
    "    if not fname.exists(): fname.touch()\n",
    "    version = f'__version__ = \"{Config().version}\"'\n",
    "    with open(fname, 'r') as f: code = f.read()\n",
    "    if _re_version.search(code) is None: code = version + \"\\n\" + code\n",
    "    else: code = _re_version.sub(version, code)\n",
    "    with open(fname, 'w') as f: f.write(code)"
   ]
  },
  {
   "cell_type": "code",
   "execution_count": 15,
   "id": "4de15486-3782-4d97-b839-512cc1ca91c9",
   "metadata": {},
   "outputs": [],
   "source": [
    "export.update_version = update_version\n",
    "\n",
    "update_version()"
   ]
  },
  {
   "cell_type": "code",
   "execution_count": null,
   "id": "1cff8c5c-d25b-45c0-9c1c-184f3c8a51a0",
   "metadata": {},
   "outputs": [],
   "source": []
  },
  {
   "cell_type": "code",
   "execution_count": 16,
   "id": "4938887f-5c5e-4e2c-b25b-94f3654c72d7",
   "metadata": {},
   "outputs": [],
   "source": [
    "#exports\n",
    "def add_init(path, contents=''):\n",
    "    \"Add `__init__.py` in all subdirs of `path` containing python files if it's not there already\"\n",
    "    for p,d,f in os.walk(path):\n",
    "        for f_ in f:\n",
    "            if f_.endswith('.py'):\n",
    "                if not (Path(p)/'__init__.py').exists(): (Path(p)/'__init__.py').write_text('\\n'+contents)\n",
    "                break\n",
    "\n",
    "def update_version(init_dir=None, extra_init_contents=''):\n",
    "    \"Add or update `__version__` in the main `__init__.py` of the library\"\n",
    "    version = Config().version\n",
    "    version_str = f'__version__ = \"{version}\"'\n",
    "    \n",
    "    if init_dir is None: path = Config().path(\"lib_path\")\n",
    "    else: path = Path(init_dir)\n",
    "    fname = path/'__init__.py'\n",
    "    \n",
    "    if not fname.exists(): add_init(path, contents=extra_init_contents)\n",
    "        \n",
    "    code = f'{version_str}\\n{extra_init_contents}'\n",
    "    with open(fname, 'w') as f: f.write(code)\n",
    "                \n",
    "export.add_init = add_init\n",
    "export.update_version = update_version"
   ]
  },
  {
   "cell_type": "code",
   "execution_count": null,
   "id": "7d46fa64-e70b-42e3-ab71-f5dc5627fd58",
   "metadata": {},
   "outputs": [],
   "source": []
  },
  {
   "cell_type": "code",
   "execution_count": 17,
   "id": "4ea35593-94d2-4d44-80df-5098b8f5f971",
   "metadata": {},
   "outputs": [],
   "source": [
    "#exports\n",
    "def prepare_nbdev_module(extra_init_contents=''):\n",
    "    export.reset_nbdev_module()\n",
    "    export.update_version(extra_init_contents=extra_init_contents)\n",
    "    export.update_baseurl()"
   ]
  },
  {
   "cell_type": "code",
   "execution_count": 18,
   "id": "88f6c62e-eb9c-469b-8703-d4c3c2d7c2b3",
   "metadata": {},
   "outputs": [],
   "source": [
    "prepare_nbdev_module()"
   ]
  },
  {
   "cell_type": "code",
   "execution_count": null,
   "id": "619c055a-f061-4d3f-9efd-46d5bbce1af2",
   "metadata": {},
   "outputs": [],
   "source": []
  },
  {
   "cell_type": "code",
   "execution_count": 19,
   "id": "2607bedb-1659-4de1-bc80-4f86abfe98b5",
   "metadata": {},
   "outputs": [],
   "source": [
    "#exports\n",
    "def notebook2script(fname=None, silent=False, to_dict=False, bare=False, extra_init_contents=''):\n",
    "    \"Convert notebooks matching `fname` to modules\"\n",
    "    # initial checks\n",
    "    if os.environ.get('IN_TEST',0): return  # don't export if running tests\n",
    "    if fname is None: prepare_nbdev_module(extra_init_contents=extra_init_contents)\n",
    "        \n",
    "    files = export.nbglob(fname=fname)\n",
    "    d = collections.defaultdict(list) if to_dict else None\n",
    "    modules = export.create_mod_files(files, to_dict, bare=bare)\n",
    "    \n",
    "    for f in sorted(files): d = export._notebook2script(f, modules, silent=silent, to_dict=d, bare=bare)\n",
    "    if to_dict: return d\n",
    "    else: add_init(Config().path(\"lib_path\"))\n",
    "    \n",
    "    return"
   ]
  },
  {
   "cell_type": "code",
   "execution_count": 20,
   "id": "41ad9ab8-ea3f-4c5a-9cef-5ce435b8aa9f",
   "metadata": {},
   "outputs": [
    {
     "name": "stdout",
     "output_type": "stream",
     "text": [
      "Converted 00-documentation.ipynb.\n",
      "Converted 01-utils.ipynb.\n",
      "Converted 02-spec-gen.ipynb.\n",
      "Converted 03-raw-methods.ipynb.\n",
      "Converted 04-client-prep.ipynb.\n",
      "Converted 05-orchestrator.ipynb.\n",
      "Converted 06-client-gen.ipynb.\n",
      "Converted 07-cli-rebuild.ipynb.\n",
      "Converted 08-quick-start.ipynb.\n",
      "Converted 09-map-gen.ipynb.\n"
     ]
    }
   ],
   "source": [
    "notebook2script()"
   ]
  },
  {
   "cell_type": "code",
   "execution_count": null,
   "id": "2ae00d55-79c3-4ec1-9689-4c6bba590b0f",
   "metadata": {},
   "outputs": [],
   "source": []
  },
  {
   "cell_type": "code",
   "execution_count": 21,
   "id": "ec871416-6d00-4639-90d0-b99f439d3103",
   "metadata": {},
   "outputs": [],
   "source": [
    "#exports\n",
    "def add_mod_extra_indices(mod, extra_modules_to_source):\n",
    "    for extra_module, module_source in extra_modules_to_source.items():\n",
    "        extra_module_fp = export.Config().path(\"lib_path\")/extra_module\n",
    "\n",
    "        with open(extra_module_fp, 'r') as text_file:\n",
    "             extra_module_code = text_file.read()\n",
    "\n",
    "        names = export.export_names(extra_module_code)\n",
    "        mod.index.update({name: module_source for name in names})\n",
    "        \n",
    "    return mod\n",
    "\n",
    "def add_mod_extra_modules(mod, extra_modules):\n",
    "    extra_modules = [e for e in extra_modules if e not in mod.modules]\n",
    "    mod.modules = sorted(mod.modules + extra_modules)\n",
    "    \n",
    "    return mod\n",
    "\n",
    "def add_extra_code_desc_to_mod(\n",
    "    extra_modules_to_source = {\n",
    "        'api.py': '06-client-gen.ipynb', \n",
    "        'dev/raw.py': '03-raw-methods.ipynb'\n",
    "    }\n",
    "):\n",
    "    mod = export.get_nbdev_module()\n",
    "\n",
    "    mod = add_mod_extra_indices(mod, extra_modules_to_source)\n",
    "    mod = add_mod_extra_modules(mod, extra_modules_to_source.keys())\n",
    "\n",
    "    export.save_nbdev_module(mod)\n",
    "    \n",
    "    return"
   ]
  },
  {
   "cell_type": "code",
   "execution_count": 23,
   "id": "aafce8aa-16d9-4cb6-a30d-f4a59ac9c580",
   "metadata": {
    "tags": []
   },
   "outputs": [],
   "source": [
    "# add_extra_code_desc_to_mod()"
   ]
  },
  {
   "cell_type": "code",
   "execution_count": null,
   "id": "440d5cc2-b0cf-48d5-be60-7698f954b0f4",
   "metadata": {},
   "outputs": [],
   "source": []
  },
  {
   "cell_type": "code",
   "execution_count": null,
   "id": "0103b771-1352-47bc-a6c2-662bae9968af",
   "metadata": {},
   "outputs": [],
   "source": [
    "#hide\n",
    "notebook2script('01-utils.ipynb')"
   ]
  }
 ],
 "metadata": {
  "kernelspec": {
   "display_name": "BMRS2",
   "language": "python",
   "name": "bmrs2"
  },
  "language_info": {
   "codemirror_mode": {
    "name": "ipython",
    "version": 3
   },
   "file_extension": ".py",
   "mimetype": "text/x-python",
   "name": "python",
   "nbconvert_exporter": "python",
   "pygments_lexer": "ipython3",
   "version": "3.9.4"
  }
 },
 "nbformat": 4,
 "nbformat_minor": 5
}
