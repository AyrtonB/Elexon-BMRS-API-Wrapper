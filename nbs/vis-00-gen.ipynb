{
 "cells": [
  {
   "cell_type": "code",
   "execution_count": 1,
   "id": "badb4159-2a75-4f09-9b0b-1105b634c724",
   "metadata": {},
   "outputs": [],
   "source": [
    "#hide\n",
    "#default_exp vis.gen"
   ]
  },
  {
   "cell_type": "markdown",
   "id": "92c1691e-7425-4fd7-bcc3-e938ac9bb9dc",
   "metadata": {},
   "source": [
    "# Visualisation Generation\n",
    "\n",
    "<br>\n",
    "\n",
    "### Imports"
   ]
  },
  {
   "cell_type": "code",
   "execution_count": 2,
   "id": "2c4f0c5f-06be-4e59-a808-3ef504e11a02",
   "metadata": {},
   "outputs": [],
   "source": [
    "#exports\n",
    "import json\n",
    "import pandas as pd\n",
    "\n",
    "import importlib\n",
    "from tqdm import tqdm\n",
    "\n",
    "import matplotlib.pyplot as plt"
   ]
  },
  {
   "cell_type": "code",
   "execution_count": 3,
   "id": "263bf89f-522e-42c7-85f4-0fbce2c70342",
   "metadata": {},
   "outputs": [],
   "source": [
    "from IPython.display import JSON"
   ]
  },
  {
   "cell_type": "code",
   "execution_count": null,
   "id": "f35d4c3b-2fd9-4471-a4a8-88c041ce289b",
   "metadata": {},
   "outputs": [],
   "source": []
  },
  {
   "cell_type": "code",
   "execution_count": 4,
   "id": "f968baec-2824-4ab9-9241-36611a0bbe88",
   "metadata": {},
   "outputs": [],
   "source": [
    "#exports\n",
    "def rgb_2_plt_tuple(r, g, b):\n",
    "    \"\"\"converts a standard rgb set from a 0-255 range to 0-1\"\"\"\n",
    "    \n",
    "    plt_tuple = tuple([x/255 for x in (r, g, b)])\n",
    "    \n",
    "    return plt_tuple"
   ]
  },
  {
   "cell_type": "code",
   "execution_count": null,
   "id": "3b4f8072-5ffd-4af4-b016-e0cb22444e02",
   "metadata": {},
   "outputs": [],
   "source": []
  },
  {
   "cell_type": "code",
   "execution_count": 6,
   "id": "fd08601c-4bb6-4892-9eab-b102e678d5d5",
   "metadata": {},
   "outputs": [
    {
     "data": {
      "application/json": [
       {
        "cron": "* * 0 * *",
        "function": "ElexonDataPortal.vis.ei.generate_GB_decarb_progess",
        "kwargs": {
         "docs_dir": "docs",
         "dpi": 250,
         "dt_col": "local_datetime",
         "dt_tz": "Europe/London",
         "freq": "7D",
         "fuel_colour_dict": {
          "Imports & Storage": [
           0.4745098039215686,
           0.26666666666666666,
           0.5843137254901961
          ],
          "biomass": [
           0.6588235294117647,
           0.49019607843137253,
           0.3176470588235294
          ],
          "coal": [
           0.47843137254901963,
           0.47843137254901963,
           0.47843137254901963
          ],
          "gas": [
           0.996078431372549,
           0.611764705882353,
           0.25882352941176473
          ],
          "hydro": [
           0.19607843137254902,
           0.47058823529411764,
           0.7686274509803922
          ],
          "nuclear": [
           0.30196078431372547,
           0.615686274509804,
           0.3411764705882353
          ],
          "solar": [
           1,
           0.8588235294117647,
           0.2549019607843137
          ],
          "wind": [
           0.2823529411764706,
           0.7607843137254902,
           0.8901960784313725
          ]
         },
         "raw_file_prefix": "https://raw.githubusercontent.com/AyrtonB/Electric-Insights/master/",
         "update_time": "2021-07-03 13:40",
         "url": "https://api.github.com/repos/AyrtonB/Electric-Insights/git/trees/master?recursive=1",
         "use_preloaded_ei_df": true
        }
       },
       {
        "cron": "* * 0 * *",
        "function": "ElexonDataPortal.vis.ei.generate_moe",
        "kwargs": {
         "docs_dir": "docs",
         "dpi": 250,
         "dt_col": "local_datetime",
         "dt_idx": null,
         "dt_tz": "Europe/London",
         "img_name": "moe_surface",
         "num_fits": 15,
         "raw_file_prefix": "https://raw.githubusercontent.com/AyrtonB/Electric-Insights/master/",
         "reg_dates_end": null,
         "reg_dates_freq": "13W",
         "reg_dates_start": "2010-01-01",
         "url": "https://api.github.com/repos/AyrtonB/Electric-Insights/git/trees/master?recursive=1",
         "use_preloaded_ei_df": true,
         "x_pred": null
        }
       }
      ],
      "text/plain": [
       "<IPython.core.display.JSON object>"
      ]
     },
     "execution_count": 6,
     "metadata": {
      "application/json": {
       "expanded": false,
       "root": "root"
      }
     },
     "output_type": "execute_result"
    }
   ],
   "source": [
    "vis_configs = [\n",
    "    {\n",
    "        'cron': '* * 0 * *', # midnight every monday\n",
    "        'function': 'ElexonDataPortal.vis.ei.generate_GB_decarb_progess',\n",
    "        'kwargs': {\n",
    "            'dt_col': 'local_datetime',\n",
    "            'dt_tz': 'Europe/London',\n",
    "            'url': 'https://api.github.com/repos/AyrtonB/Electric-Insights/git/trees/master?recursive=1',\n",
    "            'raw_file_prefix': 'https://raw.githubusercontent.com/AyrtonB/Electric-Insights/master/',\n",
    "            'docs_dir': 'docs',\n",
    "            'update_time': pd.Timestamp.now().round('5min').strftime('%Y-%m-%d %H:%M'),\n",
    "            'dpi': 250,\n",
    "            'freq': '7D',\n",
    "            'use_preloaded_ei_df': True,\n",
    "            'fuel_colour_dict': {\n",
    "                'Imports & Storage' : rgb_2_plt_tuple(121,68,149), \n",
    "                'nuclear' : rgb_2_plt_tuple(77,157,87), \n",
    "                'biomass' : rgb_2_plt_tuple(168,125,81), \n",
    "                'gas' : rgb_2_plt_tuple(254,156,66), \n",
    "                'coal' : rgb_2_plt_tuple(122,122,122), \n",
    "                'hydro' : rgb_2_plt_tuple(50,120,196), \n",
    "                'wind' : rgb_2_plt_tuple(72,194,227), \n",
    "                'solar' : rgb_2_plt_tuple(255,219,65),\n",
    "            }\n",
    "        }\n",
    "    },\n",
    "    {\n",
    "        'cron': '* * 0 * *', # midnight every monday\n",
    "        'function': 'ElexonDataPortal.vis.ei.generate_moe',\n",
    "        'kwargs': {\n",
    "            'dt_col': 'local_datetime',\n",
    "            'dt_tz': 'Europe/London',\n",
    "            'url': 'https://api.github.com/repos/AyrtonB/Electric-Insights/git/trees/master?recursive=1',\n",
    "            'raw_file_prefix': 'https://raw.githubusercontent.com/AyrtonB/Electric-Insights/master/',\n",
    "            'reg_dates_start': '2010-01-01',\n",
    "            'reg_dates_end': None,\n",
    "            'reg_dates_freq': '13W',\n",
    "            'num_fits': 15, \n",
    "            'x_pred': None,\n",
    "            'dt_idx': None,\n",
    "            'dpi': 250, \n",
    "            'use_preloaded_ei_df': True,\n",
    "            'img_name': 'moe_surface',\n",
    "            'docs_dir': 'docs',\n",
    "        }\n",
    "    }\n",
    "]\n",
    "\n",
    "JSON(vis_configs)"
   ]
  },
  {
   "cell_type": "code",
   "execution_count": null,
   "id": "3fa9e2b6-5eb1-4782-94a3-d5b1088bf55c",
   "metadata": {},
   "outputs": [],
   "source": []
  },
  {
   "cell_type": "code",
   "execution_count": 7,
   "id": "8c5a5822-1cad-4915-b66a-ef20080f5119",
   "metadata": {},
   "outputs": [],
   "source": [
    "save_vis_configs = False\n",
    "\n",
    "if save_vis_configs == True:\n",
    "    with open('../data/vis_configs.json', 'w') as f:\n",
    "        json.dump(vis_configs, f)"
   ]
  },
  {
   "cell_type": "code",
   "execution_count": null,
   "id": "7ba91730-6f12-434f-9315-46685ee767db",
   "metadata": {},
   "outputs": [],
   "source": []
  },
  {
   "cell_type": "code",
   "execution_count": 8,
   "id": "107c58fd-762e-4df5-b0cb-7d890988c9a3",
   "metadata": {},
   "outputs": [],
   "source": [
    "#exports\n",
    "def get_vis_func(func_path):\n",
    "    *lib_path, func_name = func_path.split('.')\n",
    "    lib_obj = importlib.import_module('.'.join(lib_path))\n",
    "    \n",
    "    func = getattr(lib_obj, func_name)\n",
    "\n",
    "    return func\n",
    "\n",
    "def get_vis_md_text(vis_config, docs_dir=None):\n",
    "    func_path = vis_config['function']\n",
    "    kwargs = vis_config['kwargs']\n",
    "\n",
    "    if (docs_dir is not None) and ('docs_dir' in kwargs.keys()):\n",
    "        kwargs['docs_dir'] = docs_dir\n",
    "\n",
    "    vis_func = get_vis_func(func_path)\n",
    "    vis_md_text = vis_func(**kwargs)\n",
    "    plt.close()\n",
    "    \n",
    "    return vis_md_text"
   ]
  },
  {
   "cell_type": "code",
   "execution_count": 9,
   "id": "bc2ebbef-0dcd-4541-b0cf-da308b6a5789",
   "metadata": {},
   "outputs": [
    {
     "name": "stderr",
     "output_type": "stream",
     "text": [
      "100%|██████████████████████████████████████████████████████████████████████████████████| 47/47 [05:17<00:00,  6.76s/it]\n",
      "C:\\Users\\Ayrto\\AppData\\Roaming\\Python\\Python39\\site-packages\\sklearn\\utils\\validation.py:63: FutureWarning: Arrays of bytes/strings is being converted to decimal numbers if dtype='numeric'. This behavior is deprecated in 0.24 and will be removed in 1.1 (renaming of 0.26). Please convert your data to numeric values explicitly instead.\n",
      "  return f(*args, **kwargs)\n"
     ]
    },
    {
     "name": "stdout",
     "output_type": "stream",
     "text": [
      "### Marginal Price Curve Estimation\n",
      "\n",
      "The figure shown here is reproduced from the work in [this paper](https://ayrtonb.github.io/Merit-Order-Effect/#paper) by Ayrton Bourn which investigates the merit order effect of renewables in the GB and DE power markets in terms of the price and carbon reductions - the key findings are as follows:\n",
      "\n",
      "* A LOWESS estimation of the non-linear marginal price curve for dispatchable generation shows high back-casting accuracy for Germany and Britain\n",
      "* The evolving Merit Order Effect (MOE) was estimated through a time-adaptive model, enabling long-term trends to be captured\n",
      "* In Britain the MOE has increased sharply since 2016, with a 0.67% price reduction per p.p. increase in RES penetration\n",
      "* Disaggregation of the MOE by fuel-type highlights key differences in the transition paths of Britain and Germany\n",
      "\n",
      "This figure will be updated on a weekly basis, the last update was at: 2021-07-03 13:45\n",
      "\n",
      "<br>\n",
      "\n",
      "#### Smoothed Price Time-Series Surface\n",
      "\n",
      "This figure shows the LOWESS (Locally Weighted Scatterplot Smoothing) regressions for the day-ahead marginal price curve visualised as a heatmap surface, highlighting the seasonal and non-cyclical changes over time. A mask has been applied where the residual demand after RES is outside the range of 99% of the data. This view is particularly helpful for picking up long-term trends in the market, for example the higher power prices seen in 18/19 due to high gas prices.\n",
      "\n",
      "\n",
      "![](img/vis/moe_surface.png)\n",
      "\n"
     ]
    }
   ],
   "source": [
    "docs_dir = '../docs'\n",
    "all_vis_md_texts = []\n",
    "\n",
    "for vis_config in vis_configs:\n",
    "    vis_md_text = get_vis_md_text(vis_config, docs_dir=docs_dir)\n",
    "    all_vis_md_texts += [vis_md_text]\n",
    "\n",
    "print(vis_md_text)"
   ]
  },
  {
   "cell_type": "code",
   "execution_count": null,
   "id": "ed469a49-5d43-429f-9a8a-14f86d8ca76c",
   "metadata": {},
   "outputs": [],
   "source": []
  },
  {
   "cell_type": "code",
   "execution_count": 12,
   "id": "6c50e01c-17a5-4cf1-8dcf-a6ef9ef51d59",
   "metadata": {},
   "outputs": [
    {
     "name": "stdout",
     "output_type": "stream",
     "text": [
      "# Visualisations\n",
      "\n",
      "<br>\n",
      "\n",
      "### Measuring the Progress and Impacts of Decarbonising British Electricity\n",
      "\n",
      "The figures shown here are attempts to replicate the visualisations from [this paper](https://www.sciencedirect.com/science/article/pii/S0301421516307017) by Dr Iain Staffell which finds that:\n",
      "\n",
      "* CO2 emissions from British electricity have fallen 46% in the three years to June 2016.\n",
      "* Emissions from imports and biomass are not attributed to electricity, but add 5%.\n",
      "* Coal capacity fell 50% and output 75% due to prices, competition and legislation.\n",
      "* Wind, solar and biomass provided 20% of demand in 2015, with a peak of 45%.\n",
      "* Prices have become more volatile and net demand is falling towards must-run nuclear.\n",
      "\n",
      "These figures will be updated on a weekly basis, the last update was at: 2021-07-03 13:40\n",
      "\n",
      "<br>\n",
      "\n",
      "#### Weekly Averaged Generation Mix\n",
      "\n",
      "The following figure shows a stacked plot of the generation from different fuel types over time, averaged on a weekly basis. The original plot can be found [here](https://www.sciencedirect.com/science/article/pii/S0301421516307017#f0030), the following description is taken directly from the paper.\n",
      "\n",
      "> Over this period fossil fuels have become increasingly squeezed by the growth of imports, biomass, wind and solar. Coal is seen responding to seasonal changes in demand, and displaced gas over the second half of 2011. Gas generation fell steadily from an average of 17.3 GW in 2009–10 to just 9.3 GW in 2012–13. This trend reversed over the course of 2015 with gas generation rising from an average of 9.0 GW in the first quarter of 2015 to 13.8 GW in the first quarter of 2016. By May 2016 coal generation fell to an average of just 1.1 GW, and on the 10th of May instantaneous coal output fell to zero for the first in over 130 years.\n",
      "\n",
      "![](img/../docs/vis/ei_stacked_fuel.png)\n",
      "\n",
      "\n",
      "<br>\n",
      "\n",
      "### Marginal Price Curve Estimation\n",
      "\n",
      "The figure shown here is reproduced from the work in [this paper](https://ayrtonb.github.io/Merit-Order-Effect/#paper) by Ayrton Bourn which investigates the merit order effect of renewables in the GB and DE power markets in terms of the price and carbon reductions - the key findings are as follows:\n",
      "\n",
      "* A LOWESS estimation of the non-linear marginal price curve for dispatchable generation shows high back-casting accuracy for Germany and Britain\n",
      "* The evolving Merit Order Effect (MOE) was estimated through a time-adaptive model, enabling long-term trends to be captured\n",
      "* In Britain the MOE has increased sharply since 2016, with a 0.67% price reduction per p.p. increase in RES penetration\n",
      "* Disaggregation of the MOE by fuel-type highlights key differences in the transition paths of Britain and Germany\n",
      "\n",
      "This figure will be updated on a weekly basis, the last update was at: 2021-07-03 13:45\n",
      "\n",
      "<br>\n",
      "\n",
      "#### Smoothed Price Time-Series Surface\n",
      "\n",
      "This figure shows the LOWESS (Locally Weighted Scatterplot Smoothing) regressions for the day-ahead marginal price curve visualised as a heatmap surface, highlighting the seasonal and non-cyclical changes over time. A mask has been applied where the residual demand after RES is outside the range of 99% of the data. This view is particularly helpful for picking up long-term trends in the market, for example the higher power prices seen in 18/19 due to high gas prices.\n",
      "\n",
      "\n",
      "![](img/../docs/vis/moe_surface.png)\n",
      "\n"
     ]
    }
   ],
   "source": [
    "combined_md_text = '\\n\\n<br>\\n\\n'.join(['# Visualisations']+all_vis_md_texts)\n",
    "\n",
    "print(combined_md_text.replace('vis/', '../docs/vis/'))"
   ]
  },
  {
   "cell_type": "code",
   "execution_count": null,
   "id": "e370356a-e3f3-41b4-9954-4268fe1d4100",
   "metadata": {},
   "outputs": [],
   "source": []
  },
  {
   "cell_type": "code",
   "execution_count": 14,
   "id": "cb16fc52-72e5-4236-90eb-f6fbcf7c999e",
   "metadata": {},
   "outputs": [],
   "source": [
    "with open('../docs/vis-contrib.md', 'w', encoding='utf-8') as f:\n",
    "    f.write(combined_md_text)"
   ]
  },
  {
   "cell_type": "code",
   "execution_count": null,
   "id": "6afdf3f7-933b-4246-9705-8192877c54e7",
   "metadata": {},
   "outputs": [],
   "source": []
  },
  {
   "cell_type": "code",
   "execution_count": null,
   "id": "8e6e6224-fb55-4308-acb9-9310b92e2560",
   "metadata": {},
   "outputs": [],
   "source": [
    "# need to write a func that will be run by the GH action \n",
    "# should check the time between now and any cron jobs descs, then run those that are within 24hrs\n",
    "# no cron jobs will run more frequently than every 24hrs\n",
    "\n",
    "# How to contribute?\n",
    "# * Create a function that writes an image to the `docs/img/vis` directory \n",
    "# * Ensure that same function returns a markdown string which will render the desired text and images if loaded from the `docs` directory\n",
    "# * Add the function name, schedule (in cron notation), and any kwargs to be passed to the function as a new item in the `data/vis_configs.json` file"
   ]
  },
  {
   "cell_type": "code",
   "execution_count": null,
   "id": "3baf0620-6e9c-48f9-acf8-30876bbf09cb",
   "metadata": {},
   "outputs": [],
   "source": []
  },
  {
   "cell_type": "code",
   "execution_count": null,
   "id": "8e38f9d7-a90d-446f-93ed-590f94b45be0",
   "metadata": {},
   "outputs": [],
   "source": []
  }
 ],
 "metadata": {
  "kernelspec": {
   "display_name": "BMRS",
   "language": "python",
   "name": "bmrs"
  },
  "language_info": {
   "codemirror_mode": {
    "name": "ipython",
    "version": 3
   },
   "file_extension": ".py",
   "mimetype": "text/x-python",
   "name": "python",
   "nbconvert_exporter": "python",
   "pygments_lexer": "ipython3",
   "version": "3.9.4"
  }
 },
 "nbformat": 4,
 "nbformat_minor": 5
}
